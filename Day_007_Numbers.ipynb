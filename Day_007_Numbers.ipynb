{
 "cells": [
  {
   "cell_type": "markdown",
   "id": "5e9eed21",
   "metadata": {},
   "source": [
    "## Python Numbers\n",
    "\n",
    "There are three numeric types in Python:\n",
    "\n",
    "* int\n",
    "* float\n",
    "* complex\n",
    "\n",
    "Variables of numeric types are created when you assign a value to them:"
   ]
  },
  {
   "cell_type": "code",
   "execution_count": 1,
   "id": "45751eb7",
   "metadata": {},
   "outputs": [],
   "source": [
    "x = 1    # int\n",
    "y = 2.8  # float\n",
    "z = 1j   # complex"
   ]
  },
  {
   "cell_type": "code",
   "execution_count": 2,
   "id": "42418040",
   "metadata": {},
   "outputs": [
    {
     "name": "stdout",
     "output_type": "stream",
     "text": [
      "<class 'int'>\n",
      "<class 'float'>\n",
      "<class 'complex'>\n"
     ]
    }
   ],
   "source": [
    "print(type(x))\n",
    "print(type(y))\n",
    "print(type(z))"
   ]
  },
  {
   "cell_type": "code",
   "execution_count": 3,
   "id": "28e70edb",
   "metadata": {},
   "outputs": [
    {
     "name": "stdout",
     "output_type": "stream",
     "text": [
      "1 2.8 1j\n"
     ]
    }
   ],
   "source": [
    "print(x,y,z)"
   ]
  },
  {
   "cell_type": "markdown",
   "id": "ea946ef1",
   "metadata": {},
   "source": [
    "## Type Conversion\n",
    "\n",
    "You can convert from one type to another with the int(), float(), and complex() methods:"
   ]
  },
  {
   "cell_type": "code",
   "execution_count": 4,
   "id": "54257016",
   "metadata": {},
   "outputs": [
    {
     "name": "stdout",
     "output_type": "stream",
     "text": [
      "1.0\n",
      "2\n",
      "(1+0j)\n",
      "<class 'float'>\n",
      "<class 'int'>\n",
      "<class 'complex'>\n"
     ]
    }
   ],
   "source": [
    "#convert from int to float:\n",
    "a = float(x)\n",
    "\n",
    "#convert from float to int:\n",
    "b = int(y)\n",
    "\n",
    "#convert from int to complex:\n",
    "c = complex(x)\n",
    "\n",
    "print(a)\n",
    "print(b)\n",
    "print(c)\n",
    "\n",
    "print(type(a))\n",
    "print(type(b))\n",
    "print(type(c))"
   ]
  },
  {
   "cell_type": "code",
   "execution_count": 5,
   "id": "6fa2d9f4",
   "metadata": {},
   "outputs": [
    {
     "name": "stdout",
     "output_type": "stream",
     "text": [
      "Enter age12\n"
     ]
    }
   ],
   "source": [
    "age=input(\"Enter age\")"
   ]
  },
  {
   "cell_type": "code",
   "execution_count": 6,
   "id": "8acc0ccf",
   "metadata": {},
   "outputs": [
    {
     "data": {
      "text/plain": [
       "str"
      ]
     },
     "execution_count": 6,
     "metadata": {},
     "output_type": "execute_result"
    }
   ],
   "source": [
    "type(age)"
   ]
  },
  {
   "cell_type": "code",
   "execution_count": 7,
   "id": "f896a28c",
   "metadata": {},
   "outputs": [
    {
     "data": {
      "text/plain": [
       "'12'"
      ]
     },
     "execution_count": 7,
     "metadata": {},
     "output_type": "execute_result"
    }
   ],
   "source": [
    "age"
   ]
  },
  {
   "cell_type": "code",
   "execution_count": 8,
   "id": "c9429b51",
   "metadata": {},
   "outputs": [
    {
     "ename": "TypeError",
     "evalue": "'>' not supported between instances of 'str' and 'int'",
     "output_type": "error",
     "traceback": [
      "\u001b[1;31m---------------------------------------------------------------------------\u001b[0m",
      "\u001b[1;31mTypeError\u001b[0m                                 Traceback (most recent call last)",
      "Cell \u001b[1;32mIn[8], line 1\u001b[0m\n\u001b[1;32m----> 1\u001b[0m age \u001b[38;5;241m>\u001b[39m \u001b[38;5;241m21\u001b[39m\n",
      "\u001b[1;31mTypeError\u001b[0m: '>' not supported between instances of 'str' and 'int'"
     ]
    }
   ],
   "source": [
    "age > 21"
   ]
  },
  {
   "cell_type": "code",
   "execution_count": 9,
   "id": "47c96cbe",
   "metadata": {},
   "outputs": [
    {
     "data": {
      "text/plain": [
       "int"
      ]
     },
     "execution_count": 9,
     "metadata": {},
     "output_type": "execute_result"
    }
   ],
   "source": [
    "age =int(age)\n",
    "type(age)"
   ]
  },
  {
   "cell_type": "code",
   "execution_count": 10,
   "id": "0634b443",
   "metadata": {},
   "outputs": [
    {
     "data": {
      "text/plain": [
       "False"
      ]
     },
     "execution_count": 10,
     "metadata": {},
     "output_type": "execute_result"
    }
   ],
   "source": [
    "age > 21"
   ]
  },
  {
   "cell_type": "code",
   "execution_count": 14,
   "id": "6dd8f0bc",
   "metadata": {},
   "outputs": [],
   "source": [
    "#age = 'twelve' # Note comma or dot not allowed for int conversion\n",
    "age = '1223342'\n",
    "age =int(age)"
   ]
  },
  {
   "cell_type": "code",
   "execution_count": 15,
   "id": "6d2ea253-00af-4830-a90c-c1ed7f9d9dc7",
   "metadata": {},
   "outputs": [],
   "source": [
    "#age = 'twelve' # Note comma not allowed for float conversion\n",
    "age = '12233.42'\n",
    "age =float(age)"
   ]
  },
  {
   "cell_type": "markdown",
   "id": "caf308e7",
   "metadata": {},
   "source": [
    "## Python Casting\n",
    "\n",
    "### Specify a Variable Type\n",
    "\n",
    "There may be times when you want to specify a type on to a variable. This can be done with casting. \n",
    "\n",
    "Python is an object-orientated language, and as such it uses classes to define data types, including its primitive types.\n",
    "\n",
    "Casting in python is therefore done using constructor functions:\n",
    "\n",
    "* int() - constructs an integer number from an integer literal, a float literal (by removing all decimals), or a string literal (providing the string represents a whole number)\n",
    "\n",
    "* float() - constructs a float number from an integer literal, a float literal or a string literal (providing the string represents a float or an integer)\n",
    "\n",
    "* str() - constructs a string from a wide variety of data types, including strings, integer literals and float literals\n"
   ]
  },
  {
   "cell_type": "code",
   "execution_count": 16,
   "id": "bac27c26",
   "metadata": {},
   "outputs": [
    {
     "name": "stdout",
     "output_type": "stream",
     "text": [
      "<class 'int'>\n",
      "1 2 3\n"
     ]
    }
   ],
   "source": [
    "x = int(1)   # x will be 1\n",
    "y = int(2.8) # y will be 2\n",
    "z = int(\"3\") # z will be 3\n",
    "print(type(z))\n",
    "print(x,y,z)"
   ]
  },
  {
   "cell_type": "code",
   "execution_count": 17,
   "id": "be395c30",
   "metadata": {},
   "outputs": [
    {
     "name": "stdout",
     "output_type": "stream",
     "text": [
      "1.0 2.8 3.0 4.2\n",
      "<class 'float'>\n"
     ]
    }
   ],
   "source": [
    "x = float(1)     # x will be 1.0\n",
    "y = float(2.8)   # y will be 2.8\n",
    "z = float(\"3\")   # z will be 3.0\n",
    "w = float(\"4.2\") # w will be 4.2\n",
    "print(x,y,z,w)\n",
    "print(type(z))"
   ]
  },
  {
   "cell_type": "code",
   "execution_count": 18,
   "id": "9c752daa",
   "metadata": {},
   "outputs": [
    {
     "name": "stdout",
     "output_type": "stream",
     "text": [
      "s1 2 3.0\n",
      "<class 'str'>\n"
     ]
    }
   ],
   "source": [
    "x = str(\"s1\") # x will be 's1'\n",
    "y = str(2)    # y will be '2'\n",
    "z = str(3.0)  # z will be '3.0'\n",
    "print(x,y,z)\n",
    "print(type(z))"
   ]
  },
  {
   "cell_type": "markdown",
   "id": "3913de33",
   "metadata": {},
   "source": [
    "### Numbers Built-in Methods "
   ]
  },
  {
   "cell_type": "code",
   "execution_count": 19,
   "id": "7c3b4db7",
   "metadata": {},
   "outputs": [
    {
     "name": "stdout",
     "output_type": "stream",
     "text": [
      "The Value of abs(-45) :  45\n",
      "The Value of abs(100.12) :  100.12\n"
     ]
    }
   ],
   "source": [
    "# Python Number abs() Method sample code\n",
    "print(\"The Value of abs(-45) : \", abs(-45))\n",
    "print(\"The Value of abs(100.12) : \", abs(100.12))"
   ]
  },
  {
   "cell_type": "code",
   "execution_count": 20,
   "id": "ec41609d",
   "metadata": {},
   "outputs": [
    {
     "name": "stdout",
     "output_type": "stream",
     "text": [
      "The Value of round(80.23456, 2) :  80.23\n",
      "The Value of round(100.000956, 3) :  100.001\n",
      "The Value of round(-100.000056, 3) :  -100.0\n"
     ]
    }
   ],
   "source": [
    "# Python Number round() Method\n",
    "print(\"The Value of round(80.23456, 2) : \", round(80.23456, 2))\n",
    "print(\"The Value of round(100.000956, 3) : \", round(100.000956, 3))\n",
    "print(\"The Value of round(-100.000056, 3) : \", round(-100.000056, 3))"
   ]
  },
  {
   "cell_type": "code",
   "execution_count": 21,
   "id": "dabbdedb",
   "metadata": {},
   "outputs": [
    {
     "name": "stdout",
     "output_type": "stream",
     "text": [
      "The Value of round(-987654371.123456, -1) :  -987654370.0\n"
     ]
    }
   ],
   "source": [
    "print(\"The Value of round(-987654371.123456, -1) : \", round(-987654371.123456, -1))"
   ]
  },
  {
   "cell_type": "code",
   "execution_count": 22,
   "id": "0de91038",
   "metadata": {},
   "outputs": [
    {
     "name": "stdout",
     "output_type": "stream",
     "text": [
      "The Value of round(-987654371.123456, -2) :  -987654400.0\n"
     ]
    }
   ],
   "source": [
    "print(\"The Value of round(-987654371.123456, -2) : \", round(-987654371.123456, -2))"
   ]
  },
  {
   "cell_type": "code",
   "execution_count": 23,
   "id": "625ed408-3ed6-4cf2-8167-6d44ade75142",
   "metadata": {},
   "outputs": [
    {
     "data": {
      "text/plain": [
       "-9876544"
      ]
     },
     "execution_count": 23,
     "metadata": {},
     "output_type": "execute_result"
    }
   ],
   "source": [
    "i = -9876543.51\n",
    "round(i)"
   ]
  },
  {
   "cell_type": "markdown",
   "id": "66b136d4",
   "metadata": {},
   "source": [
    "Random Number\n",
    "Python does not have a random() function to make a random number, but Python has a built-in module called random that can be used to make random numbers:"
   ]
  },
  {
   "cell_type": "code",
   "execution_count": 24,
   "id": "3f632e63",
   "metadata": {},
   "outputs": [
    {
     "data": {
      "text/plain": [
       "0.16016401231693034"
      ]
     },
     "execution_count": 24,
     "metadata": {},
     "output_type": "execute_result"
    }
   ],
   "source": [
    "# generate a random float value between 0 and 1\n",
    "import random\n",
    "random.random()"
   ]
  },
  {
   "cell_type": "code",
   "execution_count": 25,
   "id": "52fff626-4703-4a7b-9c43-625c9ca609d4",
   "metadata": {},
   "outputs": [
    {
     "name": "stdout",
     "output_type": "stream",
     "text": [
      "choice([1, 2, 3, 5, 9]) :  9\n"
     ]
    }
   ],
   "source": [
    "# Python Number choice() Method\n",
    "import random\n",
    "print(\"choice([1, 2, 3, 5, 9]) : \", random.choice([1, 2, 3, 5, 9]))"
   ]
  },
  {
   "cell_type": "code",
   "execution_count": 28,
   "id": "0aa25a31-b803-468f-9efe-3a52ac8c6a7d",
   "metadata": {},
   "outputs": [
    {
     "name": "stdout",
     "output_type": "stream",
     "text": [
      "choice('A String') :  t\n"
     ]
    }
   ],
   "source": [
    "print(\"choice('A String') : \", random.choice('A String'))"
   ]
  },
  {
   "cell_type": "code",
   "execution_count": 29,
   "id": "90fa66fb",
   "metadata": {},
   "outputs": [
    {
     "name": "stdout",
     "output_type": "stream",
     "text": [
      "Akbar\n"
     ]
    }
   ],
   "source": [
    "names = ('Amar','Akbar','Antony','Babu')\n",
    "print(random.choice(names))"
   ]
  },
  {
   "cell_type": "code",
   "execution_count": 30,
   "id": "53cd6da7",
   "metadata": {},
   "outputs": [
    {
     "name": "stdout",
     "output_type": "stream",
     "text": [
      "Random number with seed 10 :  0.5714025946899135\n",
      "Random number with seed 20 :  0.9056396761745207\n",
      "Random number with seed 30 :  0.5390815646058106\n"
     ]
    }
   ],
   "source": [
    "# Python Number seed() Method\n",
    "'''\n",
    "Note: The random number generator needs a number to start with (a seed value), to be able to generate\n",
    "a random number.By default the random number generator uses the current system time.\n",
    "The seed() method is used to initialize the random number generator.\n",
    "If you use the same seed value twice(or more) you will get the same random number twice. See example below\n",
    "'''\n",
    "import random\n",
    "random.seed( 10 )\n",
    "print(\"Random number with seed 10 : \", random.random())\n",
    "# It will generate same random number\n",
    "random.seed( 20 )\n",
    "print(\"Random number with seed 20 : \", random.random())\n",
    "# It will generate same random number\n",
    "random.seed( 30 )\n",
    "print(\"Random number with seed 30 : \", random.random())"
   ]
  },
  {
   "cell_type": "code",
   "execution_count": 31,
   "id": "4bc2b5ff",
   "metadata": {},
   "outputs": [
    {
     "data": {
      "text/plain": [
       "0.9056396761745207"
      ]
     },
     "execution_count": 31,
     "metadata": {},
     "output_type": "execute_result"
    }
   ],
   "source": [
    "random.seed( 20 )\n",
    "random.random()"
   ]
  },
  {
   "cell_type": "code",
   "execution_count": 32,
   "id": "bec47b20",
   "metadata": {},
   "outputs": [
    {
     "data": {
      "text/plain": [
       "0.5390815646058106"
      ]
     },
     "execution_count": 32,
     "metadata": {},
     "output_type": "execute_result"
    }
   ],
   "source": [
    "random.seed( 30 )\n",
    "random.random()"
   ]
  },
  {
   "cell_type": "code",
   "execution_count": 33,
   "id": "91aa2a33-5d75-4381-a2ba-d3ae0b36c236",
   "metadata": {},
   "outputs": [
    {
     "data": {
      "text/plain": [
       "0.2891964436397205"
      ]
     },
     "execution_count": 33,
     "metadata": {},
     "output_type": "execute_result"
    }
   ],
   "source": [
    "random.random()"
   ]
  },
  {
   "cell_type": "code",
   "execution_count": 34,
   "id": "fd1b4ebb-a986-4cf1-8f77-79c6cde7746d",
   "metadata": {},
   "outputs": [],
   "source": [
    "# Python Number shuffle(list) Method\n",
    "import random\n",
    "list = [20, 16, 10, 5];"
   ]
  },
  {
   "cell_type": "code",
   "execution_count": 35,
   "id": "6343e37f-3e37-43c4-83ff-7b00d944d2f8",
   "metadata": {},
   "outputs": [
    {
     "name": "stdout",
     "output_type": "stream",
     "text": [
      "Reshuffled list :  [16, 5, 10, 20]\n"
     ]
    }
   ],
   "source": [
    "random.shuffle(list)\n",
    "print(\"Reshuffled list : \",  list)"
   ]
  },
  {
   "cell_type": "code",
   "execution_count": 36,
   "id": "edc06147-8806-481b-80cf-13ce9fdf3143",
   "metadata": {},
   "outputs": [
    {
     "name": "stdout",
     "output_type": "stream",
     "text": [
      "Reshuffled list :  [20, 5, 16, 10]\n"
     ]
    }
   ],
   "source": [
    "random.shuffle(list)\n",
    "print(\"Reshuffled list : \",  list)"
   ]
  },
  {
   "cell_type": "raw",
   "id": "c36f0482-1ed7-41f8-99f9-81ab998bf378",
   "metadata": {},
   "source": [
    "# tuple not supported\n",
    "tuple1 = (1,2,3)\n",
    "random.shuffle(tuple1)"
   ]
  },
  {
   "cell_type": "raw",
   "id": "4681185e-c404-4c69-b834-cc0c9c37bd01",
   "metadata": {},
   "source": [
    "# TypeError: 'str' object does not support item assignment\n",
    "str1 = \"abcdef\"\n",
    "random.shuffle(str1)"
   ]
  },
  {
   "cell_type": "code",
   "execution_count": 37,
   "id": "d32449a7-2495-4cf2-aa3f-e949ea917104",
   "metadata": {},
   "outputs": [
    {
     "name": "stdout",
     "output_type": "stream",
     "text": [
      "Random Float uniform(5, 10) :  6.8808954820624795\n",
      "Random Float uniform(7, 14) :  7.938498511326897\n",
      "Random integer uniform(1, 6) :  1\n"
     ]
    }
   ],
   "source": [
    "# Python random.uniform() Method\n",
    "import random\n",
    "'''\n",
    "uniform(x, y) Python number method uniform() returns a random float r between x and y.\n",
    "x − Sets the lower limit of the random float.\n",
    "y − Sets the upper limit of the random float.\n",
    "\n",
    "'''\n",
    "print(\"Random Float uniform(5, 10) : \",  random.uniform(5, 10))\n",
    "print(\"Random Float uniform(7, 14) : \",  random.uniform(7, 14))\n",
    "print(\"Random integer uniform(1, 6) : \",  int(random.uniform(1, 6)))"
   ]
  },
  {
   "cell_type": "code",
   "execution_count": 40,
   "id": "422de7f6-5482-4c8b-85ae-eea322d43485",
   "metadata": {},
   "outputs": [
    {
     "data": {
      "text/plain": [
       "5"
      ]
     },
     "execution_count": 40,
     "metadata": {},
     "output_type": "execute_result"
    }
   ],
   "source": [
    "int(random.uniform(1, 6))"
   ]
  },
  {
   "cell_type": "code",
   "execution_count": null,
   "id": "241d8ea4",
   "metadata": {},
   "outputs": [],
   "source": []
  }
 ],
 "metadata": {
  "kernelspec": {
   "display_name": "Python 3 (ipykernel)",
   "language": "python",
   "name": "python3"
  },
  "language_info": {
   "codemirror_mode": {
    "name": "ipython",
    "version": 3
   },
   "file_extension": ".py",
   "mimetype": "text/x-python",
   "name": "python",
   "nbconvert_exporter": "python",
   "pygments_lexer": "ipython3",
   "version": "3.12.3"
  }
 },
 "nbformat": 4,
 "nbformat_minor": 5
}
