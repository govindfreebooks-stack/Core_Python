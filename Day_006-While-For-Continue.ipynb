{
 "cells": [
  {
   "cell_type": "markdown",
   "id": "ffb8897d",
   "metadata": {
    "id": "hGlJWmBViEax"
   },
   "source": [
    "## Loops"
   ]
  },
  {
   "cell_type": "markdown",
   "id": "3cffff80",
   "metadata": {
    "id": "cNgNOgbkiDwp"
   },
   "source": [
    "## The `for` Loop\n",
    "- Can accept a `range(start, stop, step)` or `range(stop)` object\n",
    "- Can break out of it with a `break` command\n",
    "- Can accept also elements from **Sequences** like List, Tuple, String"
   ]
  },
  {
   "cell_type": "markdown",
   "id": "39cd12e8",
   "metadata": {
    "id": "IAFwPnvDiEax"
   },
   "source": [
    "### For"
   ]
  },
  {
   "cell_type": "markdown",
   "id": "4297b613",
   "metadata": {
    "id": "rthv227PiEax"
   },
   "source": [
    "for variable in something:\n",
    "    \n",
    "    algorithm"
   ]
  },
  {
   "cell_type": "code",
   "execution_count": 1,
   "id": "64104a1a",
   "metadata": {},
   "outputs": [
    {
     "data": {
      "text/plain": [
       "range(0, 5)"
      ]
     },
     "execution_count": 1,
     "metadata": {},
     "output_type": "execute_result"
    }
   ],
   "source": [
    "range(5)"
   ]
  },
  {
   "cell_type": "code",
   "execution_count": 2,
   "id": "ef34e154",
   "metadata": {
    "colab": {
     "base_uri": "https://localhost:8080/"
    },
    "executionInfo": {
     "elapsed": 929,
     "status": "ok",
     "timestamp": 1611134724146,
     "user": {
      "displayName": "Govindan M Sundaram",
      "photoUrl": "",
      "userId": "04789155889954711425"
     },
     "user_tz": -330
    },
    "id": "TXurHCTTiEay",
    "jupyter": {
     "outputs_hidden": false
    },
    "outputId": "161f3363-5175-42a5-f3e3-ab5108b182ab"
   },
   "outputs": [
    {
     "name": "stdout",
     "output_type": "stream",
     "text": [
      "0\n",
      "1\n",
      "2\n",
      "3\n",
      "4\n"
     ]
    }
   ],
   "source": [
    "#range(stop)\n",
    "for i in range(5):\n",
    "    print(i)"
   ]
  },
  {
   "cell_type": "code",
   "execution_count": 3,
   "id": "8a5d97f1-4453-4a99-aad9-e12d1256455f",
   "metadata": {},
   "outputs": [
    {
     "name": "stdout",
     "output_type": "stream",
     "text": [
      "3\n",
      "4\n"
     ]
    }
   ],
   "source": [
    "# range(start,stop)\n",
    "for i in range(3,5):\n",
    "    print(i)"
   ]
  },
  {
   "cell_type": "code",
   "execution_count": 4,
   "id": "6b0ed5e8",
   "metadata": {},
   "outputs": [
    {
     "name": "stdout",
     "output_type": "stream",
     "text": [
      "1\n",
      "3\n",
      "5\n"
     ]
    }
   ],
   "source": [
    "# range(start,stop,step)\n",
    "for i in range(1,6,2):\n",
    "    print(i)"
   ]
  },
  {
   "cell_type": "code",
   "execution_count": 5,
   "id": "a5176365",
   "metadata": {},
   "outputs": [
    {
     "name": "stdout",
     "output_type": "stream",
     "text": [
      "10\n",
      "8\n",
      "6\n"
     ]
    }
   ],
   "source": [
    "for i in range(10,5,-2):\n",
    "    print(i)"
   ]
  },
  {
   "cell_type": "markdown",
   "id": "4cd655a3",
   "metadata": {},
   "source": [
    "### Sequences\n",
    "\n",
    "#### List, Tuple, String"
   ]
  },
  {
   "cell_type": "code",
   "execution_count": 6,
   "id": "22767265",
   "metadata": {},
   "outputs": [
    {
     "name": "stdout",
     "output_type": "stream",
     "text": [
      "Python\n"
     ]
    }
   ],
   "source": [
    "str = \"Python\"\n",
    "print(str)"
   ]
  },
  {
   "cell_type": "code",
   "execution_count": 7,
   "id": "9439bab5",
   "metadata": {},
   "outputs": [
    {
     "name": "stdout",
     "output_type": "stream",
     "text": [
      "P\n",
      "y\n",
      "t\n",
      "h\n",
      "o\n",
      "n\n"
     ]
    }
   ],
   "source": [
    "for char in str:\n",
    "    print(char)"
   ]
  },
  {
   "cell_type": "code",
   "execution_count": 8,
   "id": "33a17927",
   "metadata": {},
   "outputs": [
    {
     "name": "stdout",
     "output_type": "stream",
     "text": [
      "Apple\n",
      "Banana\n",
      "Pear\n"
     ]
    }
   ],
   "source": [
    "# For loop with List\n",
    "for fruit in [\"Apple\",\"Banana\",\"Pear\"]:\n",
    "    print(fruit)"
   ]
  },
  {
   "cell_type": "code",
   "execution_count": 9,
   "id": "c33b35d2",
   "metadata": {},
   "outputs": [
    {
     "name": "stdout",
     "output_type": "stream",
     "text": [
      "Apple\n",
      "Banana\n",
      "Pear\n"
     ]
    }
   ],
   "source": [
    "# For loop with tuple\n",
    "for fruit in (\"Apple\",\"Banana\",\"Pear\"):\n",
    "    print(fruit)"
   ]
  },
  {
   "cell_type": "code",
   "execution_count": 10,
   "id": "9ad8cc91",
   "metadata": {
    "colab": {
     "base_uri": "https://localhost:8080/"
    },
    "executionInfo": {
     "elapsed": 675,
     "status": "ok",
     "timestamp": 1611134746066,
     "user": {
      "displayName": "Govindan M Sundaram",
      "photoUrl": "",
      "userId": "04789155889954711425"
     },
     "user_tz": -330
    },
    "id": "xkSUBBP8iEay",
    "jupyter": {
     "outputs_hidden": false
    },
    "outputId": "f6599589-05ac-4be7-fde0-4dbb2b0e50a0"
   },
   "outputs": [
    {
     "name": "stdout",
     "output_type": "stream",
     "text": [
      "[1, 2, 3]\n",
      "[4, 5, 6]\n",
      "[7, 8, 9]\n"
     ]
    }
   ],
   "source": [
    "# For loop with List of list\n",
    "list_of_lists = [[1, 2, 3], [4, 5, 6], [7, 8, 9]]\n",
    "for list1 in list_of_lists:\n",
    "        print(list1)"
   ]
  },
  {
   "cell_type": "markdown",
   "id": "dce65092",
   "metadata": {
    "id": "YYDGk7qniEay"
   },
   "source": [
    "In the above example, `i` iterates over the 0,1,2,3,4. Every time it takes each value and executes the algorithm inside the loop. It is also possible to iterate over a nested list illustrated below."
   ]
  },
  {
   "cell_type": "markdown",
   "id": "525b64ab",
   "metadata": {
    "id": "GNzepbqHiEay"
   },
   "source": [
    "### Nested For Loop\n",
    "A use case of a nested for loop in this case would be,"
   ]
  },
  {
   "cell_type": "code",
   "execution_count": 13,
   "id": "7271ff55",
   "metadata": {
    "colab": {
     "base_uri": "https://localhost:8080/"
    },
    "executionInfo": {
     "elapsed": 897,
     "status": "ok",
     "timestamp": 1611134759563,
     "user": {
      "displayName": "Govindan M Sundaram",
      "photoUrl": "",
      "userId": "04789155889954711425"
     },
     "user_tz": -330
    },
    "id": "ZsKAHh97iEay",
    "jupyter": {
     "outputs_hidden": false
    },
    "outputId": "3ce4b66b-35d7-4c6b-c24e-5e7242bd05ac"
   },
   "outputs": [
    {
     "name": "stdout",
     "output_type": "stream",
     "text": [
      "1\n",
      "2\n",
      "3\n",
      "4\n",
      "5\n",
      "6\n",
      "7\n",
      "8\n",
      "9\n"
     ]
    }
   ],
   "source": [
    "# Nested for loop with List of list\n",
    "list_of_lists = [[1, 2, 3], [4, 5, 6], [7, 8, 9]]\n",
    "for row in list_of_lists:\n",
    "    #print(row)\n",
    "    for column in row:\n",
    "        print(column)"
   ]
  },
  {
   "cell_type": "markdown",
   "id": "5000dfbe",
   "metadata": {
    "id": "cFooWAV5iEaz"
   },
   "source": [
    "### While"
   ]
  },
  {
   "cell_type": "markdown",
   "id": "3ae9c2c0",
   "metadata": {
    "id": "mXOygJE5iEaz"
   },
   "source": [
    "while some_condition:\n",
    "    \n",
    "    algorithm"
   ]
  },
  {
   "cell_type": "code",
   "execution_count": 14,
   "id": "a3566847",
   "metadata": {},
   "outputs": [
    {
     "name": "stdout",
     "output_type": "stream",
     "text": [
      "1\n",
      "4\n",
      "7\n",
      "10\n"
     ]
    }
   ],
   "source": [
    "i = 1  # Here I mention where to begin\n",
    "while i < 11: # Here I mention where to end\n",
    "    print(i)   # procedure\n",
    "    i = i + 3 # Here I mention the incremental steps\n"
   ]
  },
  {
   "attachments": {
    "image.png": {
     "image/png": "[encoded data removed]"
    }
   },
   "cell_type": "markdown",
   "id": "232ae515",
   "metadata": {},
   "source": [
    "## Break, Continue\n",
    "\n",
    "![image.png](attachment:image.png)"
   ]
  },
  {
   "cell_type": "markdown",
   "id": "0be8ba28",
   "metadata": {
    "id": "LVY4RMg3iEaz"
   },
   "source": [
    "## Break"
   ]
  },
  {
   "cell_type": "markdown",
   "id": "5b7c214e",
   "metadata": {
    "id": "iXvLhNmMiEaz"
   },
   "source": [
    "As the name says. It is used to break out of a loop when a condition becomes true when executing the loop."
   ]
  },
  {
   "cell_type": "code",
   "execution_count": 15,
   "id": "42d6d2e6",
   "metadata": {
    "colab": {
     "base_uri": "https://localhost:8080/"
    },
    "executionInfo": {
     "elapsed": 912,
     "status": "ok",
     "timestamp": 1611135467745,
     "user": {
      "displayName": "Govindan M Sundaram",
      "photoUrl": "",
      "userId": "04789155889954711425"
     },
     "user_tz": -330
    },
    "id": "J9kAqBXqiEaz",
    "jupyter": {
     "outputs_hidden": false
    },
    "outputId": "bc5f3c71-c97f-406b-ff79-cab17251c56f"
   },
   "outputs": [
    {
     "name": "stdout",
     "output_type": "stream",
     "text": [
      "0\n",
      "1\n",
      "2\n",
      "3\n"
     ]
    }
   ],
   "source": [
    "for i in range(100):\n",
    "    print(i)\n",
    "    if i == 3:\n",
    "        break"
   ]
  },
  {
   "cell_type": "code",
   "execution_count": 16,
   "id": "5e6b1dfe-48d3-41ce-80cd-2a923de60cb6",
   "metadata": {},
   "outputs": [
    {
     "name": "stdout",
     "output_type": "stream",
     "text": [
      "Name found : Leida Schow\n"
     ]
    }
   ],
   "source": [
    "list_of_employees = [\"Viki Jerabek\",\"Sana Ulery\",\"Leida Schow\",\"Christiane Polen\",\"Tonja Berk\",\"Rolando Blanc\",\n",
    "                     \"Casandra Mullaney\",\"Erik Vos\",\"Ezequiel Olsson\",\"Selena Haddad\",\"Milly Southworth\",\"Herminia Kerfien\",\"Juan Samuels\",\"Niesha Hane\",\"Angela Yunker\",\"Star Castaldo\",\"Kiersten Thor\",\"Floy Huwe\",\"Roger Vanderpool\",\"Deneen Irvine\",\"Aline Winter\",\n",
    "                     \"Marvin Tegeler\",\"Gertrude Koester\",\"Herta Crinklaw\"]\n",
    "name_to_check = \"Leida Schow\"\n",
    "for name in list_of_employees:\n",
    "    if name == name_to_check:\n",
    "        print(\"Name found :\", name)\n",
    "        break\n",
    "        "
   ]
  },
  {
   "cell_type": "markdown",
   "id": "0b1ff3a4",
   "metadata": {},
   "source": [
    "### Nested For loop"
   ]
  },
  {
   "cell_type": "code",
   "execution_count": 17,
   "id": "b2b87ae2",
   "metadata": {},
   "outputs": [
    {
     "name": "stdout",
     "output_type": "stream",
     "text": [
      "outer range: 0\n",
      "3\n",
      "outer range: 1\n",
      "3\n",
      "outer range: 2\n",
      "3\n",
      "outer range: 3\n",
      "3\n",
      "outer range: 4\n",
      "3\n"
     ]
    }
   ],
   "source": [
    "for i in range(5):  #---Outer loop\n",
    "    print(\"outer range:\", i)\n",
    "    for j in range(100):  #---Inner loop\n",
    "        if j == 3:\n",
    "            print(j)\n",
    "            break # this will break the Inner loop but outer loop continues"
   ]
  },
  {
   "cell_type": "markdown",
   "id": "7778da21",
   "metadata": {
    "id": "y5FMNbvNiEa0"
   },
   "source": [
    "## Continue"
   ]
  },
  {
   "cell_type": "markdown",
   "id": "50788eb6",
   "metadata": {
    "id": "R3WFR518iEa0"
   },
   "source": [
    "This continues the rest of the loop. Sometimes when a condition is satisfied there are chances of the loop getting terminated. This can be avoided using continue statement. "
   ]
  },
  {
   "cell_type": "code",
   "execution_count": 18,
   "id": "ad094bff",
   "metadata": {
    "scrolled": true
   },
   "outputs": [
    {
     "name": "stdout",
     "output_type": "stream",
     "text": [
      "Guess the number : 0\n",
      "Hey Enter the number between 1-6\n",
      "Guess the number : 1\n",
      "Guess again\n",
      "Guess the number : 2\n",
      "Guess again\n",
      "Guess the number : 3\n",
      "Guess again\n",
      "Guess the number : 4\n",
      "Guess again\n",
      "Guess the number : 5\n",
      "You got lucky and You Won\n",
      "While loop is over\n"
     ]
    }
   ],
   "source": [
    "from random import randint\n",
    "dice = randint(1,6)\n",
    "\n",
    "while True:\n",
    "  guess= int(input(\"Guess the number : \"))\n",
    "\n",
    "  if not(1<=guess<=6):\n",
    "    print(\"Hey Enter the number between 1-6\")\n",
    "    continue\n",
    "\n",
    "  if guess == dice:\n",
    "    print(\"You got lucky and You Won\")\n",
    "    break\n",
    "  else:\n",
    "    print(\"Guess again\")\n",
    "\n",
    "print(\"While loop is over\")"
   ]
  },
  {
   "cell_type": "code",
   "execution_count": 19,
   "id": "611f8965",
   "metadata": {
    "scrolled": true
   },
   "outputs": [
    {
     "name": "stdout",
     "output_type": "stream",
     "text": [
      "Current Letter : P\n",
      "Current Letter : y\n",
      "Current Letter : t\n",
      "Current Letter : o\n",
      "Current Letter : n\n"
     ]
    }
   ],
   "source": [
    "#  Python continue statement\n",
    "for letter in 'Python':\n",
    "    if letter == 'h':\n",
    "        continue\n",
    "    print('Current Letter :', letter)"
   ]
  },
  {
   "cell_type": "code",
   "execution_count": 20,
   "id": "7bc14439",
   "metadata": {},
   "outputs": [
    {
     "name": "stdout",
     "output_type": "stream",
     "text": [
      "Current Letter : P\n",
      "Current Letter : t\n"
     ]
    }
   ],
   "source": [
    "#  Python continue statement\n",
    "for letter in 'Python':\n",
    "    if letter == 'y':\n",
    "        continue\n",
    "    if letter == 'h':\n",
    "        break        \n",
    "    print('Current Letter :', letter)"
   ]
  },
  {
   "cell_type": "markdown",
   "id": "ce0cd8b4",
   "metadata": {},
   "source": [
    "## Python pass Statement\n",
    "\n",
    "The pass statement is used as a placeholder for future code. \n",
    "\n",
    "When the pass statement is executed, nothing happens, but you avoid getting an error when empty code is not allowed. \n",
    "\n",
    "Empty code is not allowed in loops, function definitions, class definitions, or in if statements."
   ]
  },
  {
   "cell_type": "code",
   "execution_count": 21,
   "id": "42d19c6e",
   "metadata": {},
   "outputs": [
    {
     "ename": "SyntaxError",
     "evalue": "incomplete input (3191583219.py, line 2)",
     "output_type": "error",
     "traceback": [
      "\u001b[1;36m  Cell \u001b[1;32mIn[21], line 2\u001b[1;36m\u001b[0m\n\u001b[1;33m    \u001b[0m\n\u001b[1;37m    ^\u001b[0m\n\u001b[1;31mSyntaxError\u001b[0m\u001b[1;31m:\u001b[0m incomplete input\n"
     ]
    }
   ],
   "source": [
    "for x in [0, 1, 2]:\n",
    "    "
   ]
  },
  {
   "cell_type": "code",
   "execution_count": 22,
   "id": "6fecd4c6",
   "metadata": {},
   "outputs": [],
   "source": [
    "# Create a placeholder for future code:\n",
    "for x in [0, 1, 2]:\n",
    "  pass"
   ]
  },
  {
   "cell_type": "code",
   "execution_count": null,
   "id": "123c8597",
   "metadata": {},
   "outputs": [],
   "source": [
    "# Using the pass keyword in a function definition:\n",
    "def myfunction():\n",
    "  pass"
   ]
  },
  {
   "cell_type": "code",
   "execution_count": null,
   "id": "0a146233",
   "metadata": {},
   "outputs": [],
   "source": [
    "# Using the pass keyword in a class definition:\n",
    "class Person:\n",
    "  pass"
   ]
  },
  {
   "cell_type": "code",
   "execution_count": null,
   "id": "3be4a2d9",
   "metadata": {},
   "outputs": [],
   "source": [
    "# Using the pass keyword in an if statement:\n",
    "a = 33\n",
    "b = 200\n",
    "\n",
    "if b > a:\n",
    "  pass"
   ]
  },
  {
   "cell_type": "markdown",
   "id": "06a49bbd-feac-4d08-b710-458baa1e209c",
   "metadata": {},
   "source": [
    "### Student doubt about multiplication Table"
   ]
  },
  {
   "cell_type": "code",
   "execution_count": null,
   "id": "d77767f3",
   "metadata": {},
   "outputs": [],
   "source": [
    "n= 5 # Print multiplication table for 5\n",
    "for i in range(1,11,1):\n",
    "    print(i,\" x \",n,\" = \",n*i)"
   ]
  },
  {
   "cell_type": "code",
   "execution_count": null,
   "id": "d658d642-a017-4142-a8ef-ec251be215a0",
   "metadata": {},
   "outputs": [],
   "source": []
  }
 ],
 "metadata": {
  "kernelspec": {
   "display_name": "Python 3 (ipykernel)",
   "language": "python",
   "name": "python3"
  },
  "language_info": {
   "codemirror_mode": {
    "name": "ipython",
    "version": 3
   },
   "file_extension": ".py",
   "mimetype": "text/x-python",
   "name": "python",
   "nbconvert_exporter": "python",
   "pygments_lexer": "ipython3",
   "version": "3.12.3"
  }
 },
 "nbformat": 4,
 "nbformat_minor": 5
}
