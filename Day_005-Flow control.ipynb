{
 "cells": [
  {
   "cell_type": "markdown",
   "metadata": {},
   "source": [
    "## IF  Syntax\n",
    "\n",
    "if condition:\n",
    "\n",
    "    value = true-expr"
   ]
  },
  {
   "cell_type": "code",
   "execution_count": 2,
   "metadata": {
    "colab": {
     "base_uri": "https://localhost:8080/"
    },
    "id": "K74cCtug93R8",
    "outputId": "10b43aff-e816-4208-80a7-f39d45b0e01c"
   },
   "outputs": [
    {
     "name": "stdout",
     "output_type": "stream",
     "text": [
      "Enter interger value =  11\n"
     ]
    }
   ],
   "source": [
    "a =int(input(\"Enter interger value =  \"))\n",
    "if a == 10:\n",
    "  print(\"a is equal to 10\")"
   ]
  },
  {
   "cell_type": "markdown",
   "metadata": {},
   "source": [
    "## IF ELSE Syntax\n",
    "\n",
    "if condition:\n",
    "\n",
    "    value = true-expr\n",
    "    \n",
    "else:\n",
    "\n",
    "    value = false-expr"
   ]
  },
  {
   "cell_type": "code",
   "execution_count": 4,
   "metadata": {},
   "outputs": [
    {
     "name": "stdout",
     "output_type": "stream",
     "text": [
      "Enter interger value =  12\n",
      "a is not equal to 10\n"
     ]
    }
   ],
   "source": [
    "a =int(input(\"Enter interger value =  \"))\n",
    "if a == 10:\n",
    "    print(\"a is equal to 10\")\n",
    "else:\n",
    "    print(\"a is not equal to 10\")"
   ]
  },
  {
   "cell_type": "code",
   "execution_count": 7,
   "metadata": {},
   "outputs": [
    {
     "name": "stdout",
     "output_type": "stream",
     "text": [
      "Enter interger value =  12\n",
      "a is greater than 10\n"
     ]
    }
   ],
   "source": [
    "a =int(input(\"Enter interger value =  \"))\n",
    "if a == 10:\n",
    "    print(\"a is equal to 10\")\n",
    "elif a > 10:\n",
    "    print(\"a is greater than 10\")\n",
    "else:\n",
    "    print(\"a is less than 10\")"
   ]
  },
  {
   "cell_type": "code",
   "execution_count": 9,
   "metadata": {
    "colab": {
     "base_uri": "https://localhost:8080/"
    },
    "id": "UL80nKMgzv8v",
    "outputId": "6a5a7de4-f77f-4d05-a5fd-89677bc2e0ea"
   },
   "outputs": [
    {
     "name": "stdout",
     "output_type": "stream",
     "text": [
      "Enter your programming Language Choice = sap\n",
      "Your choice is not available\n"
     ]
    }
   ],
   "source": [
    "list_of_Programming_languages =(\"Python\",\"Java\",\"C\",\"C++\",\"Kotlin\")\n",
    "your_choice =input (\"Enter your programming Language Choice = \")\n",
    "if (your_choice in list_of_Programming_languages):\n",
    "  print(\"Your choice is available\")\n",
    "else:\n",
    "  print(\"Your choice is not available\")"
   ]
  },
  {
   "cell_type": "code",
   "execution_count": 10,
   "metadata": {
    "colab": {
     "base_uri": "https://localhost:8080/"
    },
    "id": "Ifd-1oYo-2JF",
    "outputId": "5ac3ae25-a4cf-4765-ef06-50d46e8a2301"
   },
   "outputs": [
    {
     "name": "stdout",
     "output_type": "stream",
     "text": [
      "Enter your mark55\n",
      "Grade-C\n"
     ]
    }
   ],
   "source": [
    "# Nested IF condition\n",
    "mark1 = int(input(\"Enter your mark\"))\n",
    "\n",
    "if (50 <= mark1 < 65):\n",
    "  print(\"Grade-C\")\n",
    "else:\n",
    "  if(65 <= mark1 <80):\n",
    "    print(\"Grade-B\")\n",
    "  else:\n",
    "    if(mark1 >= 80):\n",
    "      print(\"Grade-A\")\n",
    "    else:\n",
    "      print(\"Fail\")\n"
   ]
  },
  {
   "cell_type": "markdown",
   "metadata": {},
   "source": [
    "## Simplify ELSE IF by ELIF\n",
    "\n",
    "\n",
    "### The Above Nested Else if shall be solved using the ELIF as shown below"
   ]
  },
  {
   "cell_type": "code",
   "execution_count": 11,
   "metadata": {
    "colab": {
     "base_uri": "https://localhost:8080/"
    },
    "id": "ZaPDm8otAJ3h",
    "outputId": "59310746-40da-41c8-91b3-e3e79cb625fe"
   },
   "outputs": [
    {
     "name": "stdout",
     "output_type": "stream",
     "text": [
      "Enter your mark32\n",
      "Fail\n"
     ]
    }
   ],
   "source": [
    "mark1 = int(input(\"Enter your mark\"))\n",
    "\n",
    "if (50 <= mark1 < 65):\n",
    "  print(\"Grade-C\")\n",
    "elif (65 <= mark1 <80):\n",
    "  print(\"Grade-B\")\n",
    "elif(mark1 >= 80):\n",
    "  print(\"Grade-A\")\n",
    "else:\n",
    "  print(\"Fail\")"
   ]
  },
  {
   "cell_type": "code",
   "execution_count": 13,
   "metadata": {},
   "outputs": [
    {
     "data": {
      "text/plain": [
       "32"
      ]
     },
     "execution_count": 13,
     "metadata": {},
     "output_type": "execute_result"
    }
   ],
   "source": [
    "mark1"
   ]
  },
  {
   "cell_type": "code",
   "execution_count": 12,
   "metadata": {},
   "outputs": [
    {
     "data": {
      "text/plain": [
       "False"
      ]
     },
     "execution_count": 12,
     "metadata": {},
     "output_type": "execute_result"
    }
   ],
   "source": [
    "# Python allows more readable version of complex comparision operation\n",
    "50 <= mark1 < 65"
   ]
  },
  {
   "cell_type": "code",
   "execution_count": 14,
   "metadata": {},
   "outputs": [
    {
     "data": {
      "text/plain": [
       "False"
      ]
     },
     "execution_count": 14,
     "metadata": {},
     "output_type": "execute_result"
    }
   ],
   "source": [
    "# In other programming languages like VBA\n",
    "(mark1 >= 50) and (mark1 < 65)"
   ]
  },
  {
   "cell_type": "markdown",
   "metadata": {},
   "source": [
    "## One Line If-Else Statements in Python"
   ]
  },
  {
   "cell_type": "code",
   "execution_count": 15,
   "metadata": {
    "id": "Z9fOEsHeBR2W"
   },
   "outputs": [],
   "source": [
    "a=100; "
   ]
  },
  {
   "cell_type": "code",
   "execution_count": 16,
   "metadata": {
    "colab": {
     "base_uri": "https://localhost:8080/"
    },
    "id": "db1BQGT2A9Kl",
    "outputId": "d23f6f6c-141f-463e-a21b-4e5623b70aac"
   },
   "outputs": [
    {
     "name": "stdout",
     "output_type": "stream",
     "text": [
      "value of a =100\n"
     ]
    }
   ],
   "source": [
    "if(a==100):print(\"value of a =100\")"
   ]
  },
  {
   "cell_type": "code",
   "execution_count": 17,
   "metadata": {},
   "outputs": [
    {
     "name": "stdout",
     "output_type": "stream",
     "text": [
      "value of a =100\n"
     ]
    }
   ],
   "source": [
    "if(a==100):\n",
    "    print(\"value of a =100\")"
   ]
  },
  {
   "cell_type": "code",
   "execution_count": 18,
   "metadata": {},
   "outputs": [],
   "source": [
    "a=102 "
   ]
  },
  {
   "cell_type": "code",
   "execution_count": 19,
   "metadata": {},
   "outputs": [
    {
     "name": "stdout",
     "output_type": "stream",
     "text": [
      "value of a is not equal to 100\n"
     ]
    }
   ],
   "source": [
    "print(\"value of a is equal to 100\") if(a==100) else print(\"value of a is not equal to 100\")"
   ]
  },
  {
   "cell_type": "code",
   "execution_count": 20,
   "metadata": {},
   "outputs": [
    {
     "name": "stdout",
     "output_type": "stream",
     "text": [
      "value of a is not equal to 100\n"
     ]
    }
   ],
   "source": [
    "#Equivalent normal (multi-line) code:\n",
    "if a == 100:\n",
    "    print(\"value of a is equal to 100\")\n",
    "else:\n",
    "    print(\"value of a is not equal to 100\")"
   ]
  },
  {
   "cell_type": "code",
   "execution_count": null,
   "metadata": {},
   "outputs": [],
   "source": [
    "age = 16\n",
    "# One-liner if-else statement"
   ]
  },
  {
   "cell_type": "code",
   "execution_count": null,
   "metadata": {},
   "outputs": [],
   "source": [
    "age_group = \"Minor\" if age < 18 else \"Adult\"\n",
    "print(age_group)"
   ]
  },
  {
   "cell_type": "code",
   "execution_count": null,
   "metadata": {},
   "outputs": [],
   "source": [
    "\"Minor\" if age < 18 else \"Adult\""
   ]
  },
  {
   "cell_type": "code",
   "execution_count": null,
   "metadata": {},
   "outputs": [],
   "source": [
    "age = 20\n",
    "if age < 18:\n",
    "    age_group = \"Minor\"\n",
    "else:\n",
    "    age_group = \"Adult\"\n",
    "print(age_group)"
   ]
  },
  {
   "cell_type": "code",
   "execution_count": null,
   "metadata": {},
   "outputs": [],
   "source": [
    "a = int(input(\"Enter value for a: \"))\n",
    "a = \"positive\" if a >= 0 else \"negative\"\n",
    "print(a)"
   ]
  },
  {
   "cell_type": "code",
   "execution_count": null,
   "metadata": {},
   "outputs": [],
   "source": [
    "b = int(input(\"Enter value for b: \"))\n",
    "\n",
    "if b >= 0:\n",
    "   a = \"positive\"\n",
    "else:\n",
    "   a = \"negative\"\n",
    "print(a)"
   ]
  },
  {
   "cell_type": "markdown",
   "metadata": {},
   "source": [
    "### Some times One-Liners create confusion\n",
    "\n",
    "See below code"
   ]
  },
  {
   "cell_type": "code",
   "execution_count": null,
   "metadata": {},
   "outputs": [],
   "source": [
    "n = 10\n",
    "a = 1 if n < 10 else 2 if n > 10 else 0\n",
    "print(a)"
   ]
  },
  {
   "cell_type": "code",
   "execution_count": null,
   "metadata": {},
   "outputs": [],
   "source": [
    "if n < 10:\n",
    "    a = 1\n",
    "elif n > 10:\n",
    "    a = 2\n",
    "else:\n",
    "    a = 0\n",
    "a"
   ]
  },
  {
   "cell_type": "code",
   "execution_count": null,
   "metadata": {},
   "outputs": [],
   "source": [
    "#n = 45 #--> Your mark\n",
    "n = int(input(\"Enter value for b: \"))\n",
    "a = \"Kid\" if n < 15 else \"Potential Customer\" if  (15 <= n <= 45) else \"Oldest\"\n",
    "print(a)"
   ]
  },
  {
   "cell_type": "markdown",
   "metadata": {},
   "source": [
    "## It is generally advised to avoid using one-liner codes to reduce confusion"
   ]
  },
  {
   "cell_type": "code",
   "execution_count": null,
   "metadata": {},
   "outputs": [],
   "source": [
    "b = int(input(\"Enter value for b: \"))\n",
    "a = \"neg\" if b < 0 else \"pos\" if b > 0 else \"zero\"\n",
    "print(a)"
   ]
  },
  {
   "cell_type": "code",
   "execution_count": null,
   "metadata": {},
   "outputs": [],
   "source": [
    "b = int(input(\"Enter value for b: \"))\n",
    "if b < 0:\n",
    "   a = \"neg\"\n",
    "elif b > 0:\n",
    "   a = \"pos\"\n",
    "else:\n",
    "   zero\n",
    "print(a)"
   ]
  },
  {
   "cell_type": "code",
   "execution_count": null,
   "metadata": {},
   "outputs": [],
   "source": []
  }
 ],
 "metadata": {
  "colab": {
   "provenance": []
  },
  "kernelspec": {
   "display_name": "Python 3 (ipykernel)",
   "language": "python",
   "name": "python3"
  },
  "language_info": {
   "codemirror_mode": {
    "name": "ipython",
    "version": 3
   },
   "file_extension": ".py",
   "mimetype": "text/x-python",
   "name": "python",
   "nbconvert_exporter": "python",
   "pygments_lexer": "ipython3",
   "version": "3.12.3"
  }
 },
 "nbformat": 4,
 "nbformat_minor": 4
}
