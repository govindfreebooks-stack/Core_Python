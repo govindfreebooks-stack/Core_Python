{
 "cells": [
  {
   "cell_type": "markdown",
   "metadata": {
    "colab_type": "text",
    "id": "zlnHLnmRMY8l"
   },
   "source": [
    "# Python Strings from Scratch !!"
   ]
  },
  {
   "cell_type": "markdown",
   "metadata": {
    "colab_type": "text",
    "id": "xxh853OvayXm"
   },
   "source": [
    "## Let us understand the fundamentals of strings in python."
   ]
  },
  {
   "cell_type": "markdown",
   "metadata": {
    "colab_type": "text",
    "id": "9Dsy0iRC_NiG"
   },
   "source": [
    "Strings are a sequence of characters which can be stored either as a constant or a different variable. Strings are considered as a datatype. Typically, programmers must enclose strings in quotation marks for the data to recognized as a string and not a number or variable name. Shown below are some of the most used string methods on a daily basis and are one of the most commonly asked interview questions."
   ]
  },
  {
   "cell_type": "markdown",
   "metadata": {
    "colab_type": "text",
    "id": "pIY4aKtgbNAV"
   },
   "source": [
    "### For example, declaring a string in python:"
   ]
  },
  {
   "cell_type": "code",
   "execution_count": 1,
   "metadata": {
    "colab": {
     "base_uri": "https://localhost:8080/",
     "height": 35
    },
    "colab_type": "code",
    "id": "BIGc-dwobOzs",
    "outputId": "0addf3da-8c9a-408e-ff65-47c26e338a45"
   },
   "outputs": [
    {
     "name": "stdout",
     "output_type": "stream",
     "text": [
      "This is a python tutorial\n"
     ]
    }
   ],
   "source": [
    "# Declaring a string variable\n",
    "string = \"This is a python tutorial\"\n",
    "print(string)"
   ]
  },
  {
   "cell_type": "code",
   "execution_count": 2,
   "metadata": {
    "colab": {
     "base_uri": "https://localhost:8080/",
     "height": 35
    },
    "colab_type": "code",
    "id": "sOgqU15TbRP6",
    "outputId": "3d7c0ea5-ae76-4506-d093-804e3214cb80"
   },
   "outputs": [
    {
     "name": "stdout",
     "output_type": "stream",
     "text": [
      "<class 'str'>\n"
     ]
    }
   ],
   "source": [
    "print(type(string))"
   ]
  },
  {
   "cell_type": "markdown",
   "metadata": {
    "colab_type": "text",
    "id": "SGLhburabSbf"
   },
   "source": [
    "\n",
    "\n",
    "---\n",
    "\n"
   ]
  },
  {
   "cell_type": "markdown",
   "metadata": {
    "colab_type": "text",
    "id": "bKV_oUeUbT9G"
   },
   "source": [
    "## 1. Escape sequence  in python using strings"
   ]
  },
  {
   "cell_type": "markdown",
   "metadata": {
    "colab_type": "text",
    "id": "JmieNp0cbVpO"
   },
   "source": [
    "In Python strings, the backslash \" \" is a special character, also called the \"escape\" character. It is used in representing certain whitespace characters: \"\\t\" is a tab, \"\\n\" is a new line, and \"\\r\" is a carriage return. Finally, \" \" can be used to escape itself: \"\\\" is the literal backslash character. "
   ]
  },
  {
   "cell_type": "code",
   "execution_count": 3,
   "metadata": {},
   "outputs": [
    {
     "ename": "SyntaxError",
     "evalue": "invalid syntax (2403472822.py, line 1)",
     "output_type": "error",
     "traceback": [
      "\u001b[1;36m  Cell \u001b[1;32mIn[3], line 1\u001b[1;36m\u001b[0m\n\u001b[1;33m    string = \"This is a \"Google Colab\" python notebook\"\u001b[0m\n\u001b[1;37m                         ^\u001b[0m\n\u001b[1;31mSyntaxError\u001b[0m\u001b[1;31m:\u001b[0m invalid syntax\n"
     ]
    }
   ],
   "source": [
    "string = \"This is a \"Google Colab\" python notebook\""
   ]
  },
  {
   "cell_type": "code",
   "execution_count": 4,
   "metadata": {
    "colab": {
     "base_uri": "https://localhost:8080/",
     "height": 35
    },
    "colab_type": "code",
    "id": "iqAlH3DHbYfB",
    "outputId": "f37893b8-ef66-4b97-ef1c-f4f99dd7878c"
   },
   "outputs": [
    {
     "name": "stdout",
     "output_type": "stream",
     "text": [
      "This is a \"Google Colab\" python notebook\n"
     ]
    }
   ],
   "source": [
    "# THis is an escape sequence.\n",
    "string = \"This is a \\\"Google Colab\\\" python notebook\"\n",
    "print(string)"
   ]
  },
  {
   "cell_type": "code",
   "execution_count": 5,
   "metadata": {},
   "outputs": [
    {
     "name": "stdout",
     "output_type": "stream",
     "text": [
      "This is a \"Google Colab\" python notebook\n"
     ]
    }
   ],
   "source": [
    "string = 'This is a \"Google Colab\" python notebook'\n",
    "print(string)"
   ]
  },
  {
   "cell_type": "code",
   "execution_count": 8,
   "metadata": {},
   "outputs": [],
   "source": [
    "#string = r'C:\\Tmp\\sample.txt'\n",
    "string = 'C:\\\\Tmp\\\\sample.txt'"
   ]
  },
  {
   "cell_type": "code",
   "execution_count": 6,
   "metadata": {},
   "outputs": [
    {
     "name": "stdout",
     "output_type": "stream",
     "text": [
      "C:\\Tmp\\sample.txt\n"
     ]
    }
   ],
   "source": [
    "#string = 'C:\\Tmp\\sample.txt'\n",
    "string = 'C:\\\\Tmp\\\\sample.txt'\n",
    "print(string)"
   ]
  },
  {
   "cell_type": "markdown",
   "metadata": {
    "colab_type": "text",
    "id": "KeMt-LXtba_w"
   },
   "source": [
    "\n",
    "\n",
    "---\n",
    "\n"
   ]
  },
  {
   "cell_type": "markdown",
   "metadata": {
    "colab_type": "text",
    "id": "i6uHC1G_bcpD"
   },
   "source": [
    "## 2. Accessing the String by an Index"
   ]
  },
  {
   "cell_type": "markdown",
   "metadata": {
    "colab_type": "text",
    "id": "f_SWqIkNbdsF"
   },
   "source": [
    "Strings can be accessed by their index in order to get the value. To do this all you have to do is just place the number (index value) inside the pair of square brackets along with the name of the string."
   ]
  },
  {
   "cell_type": "code",
   "execution_count": 9,
   "metadata": {
    "colab": {
     "base_uri": "https://localhost:8080/",
     "height": 35
    },
    "colab_type": "code",
    "id": "mIpJw2iRbf4d",
    "outputId": "fc3bce1d-63d3-44f0-a7ff-d8ddeb3cb047"
   },
   "outputs": [
    {
     "name": "stdout",
     "output_type": "stream",
     "text": [
      "t\n"
     ]
    }
   ],
   "source": [
    "string = \"Python\"\n",
    "print(string[2])"
   ]
  },
  {
   "cell_type": "code",
   "execution_count": 10,
   "metadata": {},
   "outputs": [
    {
     "data": {
      "text/plain": [
       "'hon'"
      ]
     },
     "execution_count": 10,
     "metadata": {},
     "output_type": "execute_result"
    }
   ],
   "source": [
    "string[-3:]"
   ]
  },
  {
   "cell_type": "code",
   "execution_count": 11,
   "metadata": {
    "colab": {
     "base_uri": "https://localhost:8080/",
     "height": 35
    },
    "colab_type": "code",
    "id": "DHBwL7TYbhVi",
    "outputId": "39dbd53e-a463-4273-a027-eed1a732d16c"
   },
   "outputs": [
    {
     "name": "stdout",
     "output_type": "stream",
     "text": [
      "h\n"
     ]
    }
   ],
   "source": [
    "print(string[-3])"
   ]
  },
  {
   "cell_type": "code",
   "execution_count": 12,
   "metadata": {},
   "outputs": [
    {
     "name": "stdout",
     "output_type": "stream",
     "text": [
      "Python is Good\n"
     ]
    }
   ],
   "source": [
    "print(string + \" is Good\")"
   ]
  },
  {
   "cell_type": "code",
   "execution_count": 13,
   "metadata": {},
   "outputs": [
    {
     "name": "stdout",
     "output_type": "stream",
     "text": [
      "PythonPython\n"
     ]
    }
   ],
   "source": [
    "print((string)*2)"
   ]
  },
  {
   "cell_type": "code",
   "execution_count": 14,
   "metadata": {},
   "outputs": [
    {
     "name": "stdout",
     "output_type": "stream",
     "text": [
      "-------------------------\n"
     ]
    }
   ],
   "source": [
    "print('-'*25)"
   ]
  },
  {
   "cell_type": "code",
   "execution_count": 15,
   "metadata": {},
   "outputs": [
    {
     "data": {
      "text/plain": [
       "'banana'"
      ]
     },
     "execution_count": 15,
     "metadata": {},
     "output_type": "execute_result"
    }
   ],
   "source": [
    "\"ba\"+\"nana\""
   ]
  },
  {
   "cell_type": "code",
   "execution_count": 16,
   "metadata": {},
   "outputs": [
    {
     "data": {
      "text/plain": [
       "'banana'"
      ]
     },
     "execution_count": 16,
     "metadata": {},
     "output_type": "execute_result"
    }
   ],
   "source": [
    "\"ba\"+\"na\"*2"
   ]
  },
  {
   "cell_type": "markdown",
   "metadata": {
    "colab_type": "text",
    "id": "nRlzW6W4biG6"
   },
   "source": [
    "\n",
    "\n",
    "---\n",
    "\n"
   ]
  },
  {
   "cell_type": "markdown",
   "metadata": {},
   "source": [
    "## Membership Testing"
   ]
  },
  {
   "cell_type": "code",
   "execution_count": 17,
   "metadata": {},
   "outputs": [
    {
     "data": {
      "text/plain": [
       "True"
      ]
     },
     "execution_count": 17,
     "metadata": {},
     "output_type": "execute_result"
    }
   ],
   "source": [
    "string = \"Python\"\n",
    "'y' in string"
   ]
  },
  {
   "cell_type": "code",
   "execution_count": 18,
   "metadata": {},
   "outputs": [
    {
     "data": {
      "text/plain": [
       "True"
      ]
     },
     "execution_count": 18,
     "metadata": {},
     "output_type": "execute_result"
    }
   ],
   "source": [
    "'z' not in string"
   ]
  },
  {
   "cell_type": "code",
   "execution_count": 19,
   "metadata": {},
   "outputs": [
    {
     "data": {
      "text/plain": [
       "True"
      ]
     },
     "execution_count": 19,
     "metadata": {},
     "output_type": "execute_result"
    }
   ],
   "source": [
    "'.com' in \"tableau.mithra@gmail.com\""
   ]
  },
  {
   "cell_type": "code",
   "execution_count": 20,
   "metadata": {},
   "outputs": [
    {
     "data": {
      "text/plain": [
       "False"
      ]
     },
     "execution_count": 20,
     "metadata": {},
     "output_type": "execute_result"
    }
   ],
   "source": [
    "'.gov' in \"tableau.mithra@gmail.com\""
   ]
  },
  {
   "cell_type": "markdown",
   "metadata": {
    "colab_type": "text",
    "id": "035PEbyEbiyF"
   },
   "source": [
    "## 3. Slicing a string"
   ]
  },
  {
   "cell_type": "markdown",
   "metadata": {
    "colab_type": "text",
    "id": "-bb6K9SzblDR"
   },
   "source": [
    "Slicing a string helps to get a set of characters from a string. This is really helpful when we want to access a particular set of characters in a string. Below are some slicing variants that are useful."
   ]
  },
  {
   "cell_type": "code",
   "execution_count": 21,
   "metadata": {
    "colab": {
     "base_uri": "https://localhost:8080/",
     "height": 35
    },
    "colab_type": "code",
    "id": "aw6PN6nubmyp",
    "outputId": "2b1b70c5-3b24-4b62-df8f-e2122d25ed0f"
   },
   "outputs": [
    {
     "data": {
      "text/plain": [
       "'programming'"
      ]
     },
     "execution_count": 21,
     "metadata": {},
     "output_type": "execute_result"
    }
   ],
   "source": [
    "string = \"programming\"\n",
    "string"
   ]
  },
  {
   "cell_type": "markdown",
   "metadata": {
    "colab_type": "text",
    "id": "Cjc64ZDMbt5V"
   },
   "source": [
    "**Getting  one character of the string**"
   ]
  },
  {
   "cell_type": "code",
   "execution_count": 22,
   "metadata": {},
   "outputs": [
    {
     "data": {
      "text/plain": [
       "'o'"
      ]
     },
     "execution_count": 22,
     "metadata": {},
     "output_type": "execute_result"
    }
   ],
   "source": [
    "string[2]"
   ]
  },
  {
   "cell_type": "code",
   "execution_count": 23,
   "metadata": {
    "colab": {
     "base_uri": "https://localhost:8080/",
     "height": 35
    },
    "colab_type": "code",
    "id": "MKV05Uclbomv",
    "outputId": "eae81339-d6e1-482e-88a9-d2d459c45be6"
   },
   "outputs": [
    {
     "name": "stdout",
     "output_type": "stream",
     "text": [
      "gram\n"
     ]
    }
   ],
   "source": [
    "print(string[3:7])"
   ]
  },
  {
   "cell_type": "code",
   "execution_count": 24,
   "metadata": {},
   "outputs": [],
   "source": [
    "string =\"0123456789\""
   ]
  },
  {
   "cell_type": "code",
   "execution_count": 25,
   "metadata": {},
   "outputs": [
    {
     "data": {
      "text/plain": [
       "'0369'"
      ]
     },
     "execution_count": 25,
     "metadata": {},
     "output_type": "execute_result"
    }
   ],
   "source": [
    "# [begin:stop:step]\n",
    "string[::3]"
   ]
  },
  {
   "cell_type": "code",
   "execution_count": 26,
   "metadata": {},
   "outputs": [
    {
     "data": {
      "text/plain": [
       "'9876543210'"
      ]
     },
     "execution_count": 26,
     "metadata": {},
     "output_type": "execute_result"
    }
   ],
   "source": [
    "# sring[begin:stop:step]\n",
    "string[::-1]"
   ]
  },
  {
   "cell_type": "code",
   "execution_count": 27,
   "metadata": {},
   "outputs": [
    {
     "data": {
      "text/plain": [
       "'246'"
      ]
     },
     "execution_count": 27,
     "metadata": {},
     "output_type": "execute_result"
    }
   ],
   "source": [
    "# sring[begin:stop:step]\n",
    "string[2:8:2]"
   ]
  },
  {
   "cell_type": "markdown",
   "metadata": {
    "colab_type": "text",
    "id": "VqE7vaT7bwwW"
   },
   "source": [
    "**Getting the first three characters from the string**"
   ]
  },
  {
   "cell_type": "code",
   "execution_count": 28,
   "metadata": {
    "colab": {
     "base_uri": "https://localhost:8080/",
     "height": 35
    },
    "colab_type": "code",
    "id": "GfhGuOGXbykG",
    "outputId": "4ab8b481-9271-42ef-9e3f-31a700e73019"
   },
   "outputs": [
    {
     "name": "stdout",
     "output_type": "stream",
     "text": [
      "012\n"
     ]
    }
   ],
   "source": [
    "print(string[0:3])"
   ]
  },
  {
   "cell_type": "markdown",
   "metadata": {
    "colab_type": "text",
    "id": "INQoq6VKb056"
   },
   "source": [
    "**Getting the first three characters from the string (Alternate)**"
   ]
  },
  {
   "cell_type": "code",
   "execution_count": 29,
   "metadata": {
    "colab": {
     "base_uri": "https://localhost:8080/",
     "height": 35
    },
    "colab_type": "code",
    "id": "c5Qtr3qAb1or",
    "outputId": "1f762eeb-c3e6-4b57-dfbc-5f1bd29036b9"
   },
   "outputs": [
    {
     "name": "stdout",
     "output_type": "stream",
     "text": [
      "024\n"
     ]
    }
   ],
   "source": [
    "print(string[:6:2])"
   ]
  },
  {
   "cell_type": "code",
   "execution_count": 30,
   "metadata": {},
   "outputs": [
    {
     "data": {
      "text/plain": [
       "'0369'"
      ]
     },
     "execution_count": 30,
     "metadata": {},
     "output_type": "execute_result"
    }
   ],
   "source": [
    "string[::3]"
   ]
  },
  {
   "cell_type": "markdown",
   "metadata": {
    "colab_type": "text",
    "id": "LqmBatu1b4B3"
   },
   "source": [
    "**Getting the last three characters from the string**"
   ]
  },
  {
   "cell_type": "code",
   "execution_count": 31,
   "metadata": {
    "colab": {
     "base_uri": "https://localhost:8080/",
     "height": 35
    },
    "colab_type": "code",
    "id": "NP01nD-Fb4rI",
    "outputId": "a4c961af-55a8-4777-e7d1-559432d53f5b"
   },
   "outputs": [
    {
     "name": "stdout",
     "output_type": "stream",
     "text": [
      "789\n"
     ]
    }
   ],
   "source": [
    "print(string[-3:])"
   ]
  },
  {
   "cell_type": "markdown",
   "metadata": {
    "colab_type": "text",
    "id": "CFHrPtA1b7P2"
   },
   "source": [
    "**Getting all characters but excluding three first characters from the string**"
   ]
  },
  {
   "cell_type": "code",
   "execution_count": null,
   "metadata": {
    "colab": {
     "base_uri": "https://localhost:8080/",
     "height": 35
    },
    "colab_type": "code",
    "id": "GWyjj-T-b64y",
    "outputId": "247aaf75-e9b5-4cbc-8810-e5b31873c112"
   },
   "outputs": [],
   "source": [
    "print(string[3:])"
   ]
  },
  {
   "cell_type": "markdown",
   "metadata": {
    "colab_type": "text",
    "id": "u7xEgZUbcAe6"
   },
   "source": [
    "**Getting all characters but excluding the last three characters from the string**"
   ]
  },
  {
   "cell_type": "code",
   "execution_count": null,
   "metadata": {
    "colab": {
     "base_uri": "https://localhost:8080/",
     "height": 35
    },
    "colab_type": "code",
    "id": "eSaTVepRcB_u",
    "outputId": "69050ad0-1f57-4cbd-ce5f-8e2c8088bff2"
   },
   "outputs": [],
   "source": [
    "print(string[:-3])"
   ]
  },
  {
   "cell_type": "markdown",
   "metadata": {
    "colab_type": "text",
    "id": "NZ25LjX_cFTN"
   },
   "source": [
    "**Reversing all the characters in a given string**"
   ]
  },
  {
   "cell_type": "code",
   "execution_count": 32,
   "metadata": {
    "colab": {
     "base_uri": "https://localhost:8080/",
     "height": 35
    },
    "colab_type": "code",
    "id": "rTcC5ghscDnM",
    "outputId": "2180d576-ed54-472d-922d-de1842a0181f"
   },
   "outputs": [
    {
     "name": "stdout",
     "output_type": "stream",
     "text": [
      "9876543210\n"
     ]
    }
   ],
   "source": [
    "print(string[::-1])"
   ]
  },
  {
   "cell_type": "markdown",
   "metadata": {
    "colab_type": "text",
    "id": "_ZQsR8s3cIzp"
   },
   "source": [
    "**Alternative to printing all characters in a string**"
   ]
  },
  {
   "cell_type": "code",
   "execution_count": 33,
   "metadata": {
    "colab": {
     "base_uri": "https://localhost:8080/",
     "height": 35
    },
    "colab_type": "code",
    "id": "UhQyXlXucIMf",
    "outputId": "0b2e432a-6fb6-42a1-ddd0-34d3bf081ed5"
   },
   "outputs": [
    {
     "name": "stdout",
     "output_type": "stream",
     "text": [
      "0123456789\n"
     ]
    }
   ],
   "source": [
    "print(string[::])"
   ]
  },
  {
   "cell_type": "code",
   "execution_count": 34,
   "metadata": {},
   "outputs": [
    {
     "name": "stdout",
     "output_type": "stream",
     "text": [
      "C\n",
      "o\n",
      "m\n",
      "p\n",
      "u\n",
      "t\n",
      "e\n",
      "r\n"
     ]
    }
   ],
   "source": [
    "# Itration loop\n",
    "String = \"Computer\"\n",
    "for a in String:\n",
    "    print(a)"
   ]
  },
  {
   "cell_type": "markdown",
   "metadata": {
    "colab_type": "text",
    "id": "zgUsB_khcL1H"
   },
   "source": [
    "\n",
    "\n",
    "---\n",
    "\n"
   ]
  },
  {
   "cell_type": "markdown",
   "metadata": {
    "colab_type": "text",
    "id": "1IxFIjOTcMaj"
   },
   "source": [
    "**4. Splitting a string**"
   ]
  },
  {
   "cell_type": "markdown",
   "metadata": {
    "colab_type": "text",
    "id": "yy4X7tFHcO9B"
   },
   "source": [
    "Sometimes splitting a string is a handy option because it is one of the easiest ways to convert a string into a list. I know I have not spoken about the list but keep in mind that split converts a string into a list. You can find the material on Python Lists that is written by me which can provide enough idea to master python lists [Python Lists](https://towardsdatascience.com/python-lists-from-scratch-4b958eb956fc)"
   ]
  },
  {
   "cell_type": "code",
   "execution_count": 35,
   "metadata": {
    "colab": {
     "base_uri": "https://localhost:8080/",
     "height": 35
    },
    "colab_type": "code",
    "id": "jL4s2MfxcUu2",
    "outputId": "3ded15c0-4dfe-448d-8fe1-281f44d451f7"
   },
   "outputs": [
    {
     "data": {
      "text/plain": [
       "'Computer Programming'"
      ]
     },
     "execution_count": 35,
     "metadata": {},
     "output_type": "execute_result"
    }
   ],
   "source": [
    "#String = \"Sometimes splitting a string is a handy option because it is one of the easiest ways to convert a string into a list\"\n",
    "String = \"Computer Programming\"\n",
    "String"
   ]
  },
  {
   "cell_type": "code",
   "execution_count": 36,
   "metadata": {
    "colab": {
     "base_uri": "https://localhost:8080/",
     "height": 35
    },
    "colab_type": "code",
    "id": "FxMKh4RScXDY",
    "outputId": "49794b2f-8114-4c1c-9b0e-e436967735e5"
   },
   "outputs": [
    {
     "data": {
      "text/plain": [
       "str"
      ]
     },
     "execution_count": 36,
     "metadata": {},
     "output_type": "execute_result"
    }
   ],
   "source": [
    "type(String)"
   ]
  },
  {
   "cell_type": "code",
   "execution_count": 37,
   "metadata": {
    "colab": {
     "base_uri": "https://localhost:8080/",
     "height": 35
    },
    "colab_type": "code",
    "id": "w5EJQWtBcYx8",
    "outputId": "575b9ecd-ecc2-438a-da05-51552567e265"
   },
   "outputs": [
    {
     "data": {
      "text/plain": [
       "['Computer', 'Programming']"
      ]
     },
     "execution_count": 37,
     "metadata": {},
     "output_type": "execute_result"
    }
   ],
   "source": [
    "list = String.split()\n",
    "list"
   ]
  },
  {
   "cell_type": "code",
   "execution_count": 38,
   "metadata": {
    "colab": {
     "base_uri": "https://localhost:8080/",
     "height": 35
    },
    "colab_type": "code",
    "id": "P0yiY0cMcaEW",
    "outputId": "c0ea073a-dcd1-4321-aaaa-5f0edb33251e"
   },
   "outputs": [
    {
     "data": {
      "text/plain": [
       "list"
      ]
     },
     "execution_count": 38,
     "metadata": {},
     "output_type": "execute_result"
    }
   ],
   "source": [
    "type(list)"
   ]
  },
  {
   "cell_type": "code",
   "execution_count": 39,
   "metadata": {},
   "outputs": [
    {
     "data": {
      "text/plain": [
       "['Gopu', 'Babu', 'Ramu']"
      ]
     },
     "execution_count": 39,
     "metadata": {},
     "output_type": "execute_result"
    }
   ],
   "source": [
    "string = \"Gopu,Babu,Ramu\"\n",
    "list = string.split(\",\")\n",
    "list"
   ]
  },
  {
   "cell_type": "code",
   "execution_count": 40,
   "metadata": {},
   "outputs": [
    {
     "data": {
      "text/plain": [
       "['Computer']"
      ]
     },
     "execution_count": 40,
     "metadata": {},
     "output_type": "execute_result"
    }
   ],
   "source": [
    "String = \"Computer\"\n",
    "list = String.split()\n",
    "list"
   ]
  },
  {
   "cell_type": "markdown",
   "metadata": {
    "colab_type": "text",
    "id": "7BdAXOI6cbq4"
   },
   "source": [
    "\n",
    "\n",
    "---\n",
    "\n"
   ]
  },
  {
   "cell_type": "markdown",
   "metadata": {
    "colab_type": "text",
    "id": "Xwybsw-dccVE"
   },
   "source": [
    "## 5. Replacing a string"
   ]
  },
  {
   "cell_type": "markdown",
   "metadata": {
    "colab_type": "text",
    "id": "JWA0gP58cfDN"
   },
   "source": [
    "The Replace function in python is one of the best function that can be applied to strings. For example, shown below is a string \"Money\" we need to replace the dollar and the comma sign and this can be done as shown below."
   ]
  },
  {
   "cell_type": "code",
   "execution_count": 41,
   "metadata": {
    "colab": {
     "base_uri": "https://localhost:8080/",
     "height": 69
    },
    "colab_type": "code",
    "id": "Yr9uB9hqcgLr",
    "outputId": "2ad561ea-8a70-45a9-e21d-4bd83ff2d28c"
   },
   "outputs": [
    {
     "name": "stdout",
     "output_type": "stream",
     "text": [
      "$113,678\n",
      "===========================\n",
      "<class 'str'>\n"
     ]
    }
   ],
   "source": [
    "Money = '$113,678'\n",
    "print(Money)\n",
    "print(\"===========================\")\n",
    "print(type(Money))"
   ]
  },
  {
   "cell_type": "code",
   "execution_count": 42,
   "metadata": {},
   "outputs": [
    {
     "ename": "ValueError",
     "evalue": "invalid literal for int() with base 10: '$113,678'",
     "output_type": "error",
     "traceback": [
      "\u001b[1;31m---------------------------------------------------------------------------\u001b[0m",
      "\u001b[1;31mValueError\u001b[0m                                Traceback (most recent call last)",
      "Cell \u001b[1;32mIn[42], line 1\u001b[0m\n\u001b[1;32m----> 1\u001b[0m Money \u001b[38;5;241m=\u001b[39m \u001b[38;5;28mint\u001b[39m(Money)\n",
      "\u001b[1;31mValueError\u001b[0m: invalid literal for int() with base 10: '$113,678'"
     ]
    }
   ],
   "source": [
    "Money = int(Money)"
   ]
  },
  {
   "cell_type": "code",
   "execution_count": 43,
   "metadata": {
    "colab": {
     "base_uri": "https://localhost:8080/",
     "height": 35
    },
    "colab_type": "code",
    "id": "fsK018P2cjJ3",
    "outputId": "f8bc3015-ecec-4f3a-a93e-ca4f63eb0e0c"
   },
   "outputs": [
    {
     "data": {
      "text/plain": [
       "'113,678'"
      ]
     },
     "execution_count": 43,
     "metadata": {},
     "output_type": "execute_result"
    }
   ],
   "source": [
    "Money = Money.replace('$', '')\n",
    "Money"
   ]
  },
  {
   "cell_type": "code",
   "execution_count": 44,
   "metadata": {
    "colab": {
     "base_uri": "https://localhost:8080/",
     "height": 35
    },
    "colab_type": "code",
    "id": "ZQO19dD_cknA",
    "outputId": "f3a71c90-1e6a-4b85-e5e5-b380e76019ac"
   },
   "outputs": [
    {
     "data": {
      "text/plain": [
       "'113678'"
      ]
     },
     "execution_count": 44,
     "metadata": {},
     "output_type": "execute_result"
    }
   ],
   "source": [
    "Money = Money.replace(\",\", '')\n",
    "Money"
   ]
  },
  {
   "cell_type": "code",
   "execution_count": 45,
   "metadata": {
    "colab": {
     "base_uri": "https://localhost:8080/",
     "height": 69
    },
    "colab_type": "code",
    "id": "wEBAA-tscmHf",
    "outputId": "fbac2778-3332-433c-b6cc-ecc382a46dfd"
   },
   "outputs": [
    {
     "name": "stdout",
     "output_type": "stream",
     "text": [
      "113678\n",
      "===========================\n",
      "<class 'int'>\n"
     ]
    }
   ],
   "source": [
    "Money = int(Money)\n",
    "print(Money)\n",
    "print(\"===========================\")\n",
    "print(type(Money))"
   ]
  },
  {
   "cell_type": "markdown",
   "metadata": {},
   "source": [
    "## Chaining methods"
   ]
  },
  {
   "cell_type": "code",
   "execution_count": 46,
   "metadata": {},
   "outputs": [
    {
     "data": {
      "text/plain": [
       "113678"
      ]
     },
     "execution_count": 46,
     "metadata": {},
     "output_type": "execute_result"
    }
   ],
   "source": [
    "Money = '$113,678'\n",
    "Money = int(Money.replace('$', '').replace(\",\", ''))\n",
    "Money"
   ]
  },
  {
   "attachments": {
    "ec95cfe3-aa82-42fb-b1c5-21c86ebf9901.png": {
     "image/png": "[encoded data removed]"
    }
   },
   "cell_type": "markdown",
   "metadata": {},
   "source": [
    "![image.png](attachment:ec95cfe3-aa82-42fb-b1c5-21c86ebf9901.png)"
   ]
  },
  {
   "cell_type": "code",
   "execution_count": 47,
   "metadata": {},
   "outputs": [
    {
     "name": "stdout",
     "output_type": "stream",
     "text": [
      "111,13,678\n",
      "11113678\n"
     ]
    }
   ],
   "source": [
    "Money = '1,11,13,678'\n",
    "x= ','\n",
    "Money = Money.replace(x, '',1)\n",
    "money = Money.replace(x, '')\n",
    "print(Money)\n",
    "print(money)"
   ]
  },
  {
   "cell_type": "markdown",
   "metadata": {
    "colab_type": "text",
    "id": "FHiWQ19lc0tt"
   },
   "source": [
    "\n",
    "\n",
    "---\n",
    "\n"
   ]
  },
  {
   "cell_type": "markdown",
   "metadata": {
    "colab_type": "text",
    "id": "ZMUiizBfc1TR"
   },
   "source": [
    "## 6. Join"
   ]
  },
  {
   "cell_type": "markdown",
   "metadata": {
    "colab_type": "text",
    "id": "dU25fiyvc3eN"
   },
   "source": [
    "The join function is python is used to join the string according to the specified pattern."
   ]
  },
  {
   "cell_type": "code",
   "execution_count": 48,
   "metadata": {
    "colab": {
     "base_uri": "https://localhost:8080/",
     "height": 35
    },
    "colab_type": "code",
    "id": "k3cho5Jfc4xY",
    "outputId": "dd0d386a-ffdc-43f7-8139-0ca6e045b501"
   },
   "outputs": [
    {
     "data": {
      "text/plain": [
       "'Python'"
      ]
     },
     "execution_count": 48,
     "metadata": {},
     "output_type": "execute_result"
    }
   ],
   "source": [
    "String = \"Python\"\n",
    "String"
   ]
  },
  {
   "cell_type": "code",
   "execution_count": 49,
   "metadata": {
    "colab": {
     "base_uri": "https://localhost:8080/",
     "height": 35
    },
    "colab_type": "code",
    "id": "on4SdAFAc6Sa",
    "outputId": "97248c6e-7a27-429a-e7d9-5d53e1ca25eb"
   },
   "outputs": [
    {
     "data": {
      "text/plain": [
       "'P y t h o n'"
      ]
     },
     "execution_count": 49,
     "metadata": {},
     "output_type": "execute_result"
    }
   ],
   "source": [
    "String = \" \".join(String)\n",
    "String"
   ]
  },
  {
   "cell_type": "code",
   "execution_count": 50,
   "metadata": {},
   "outputs": [
    {
     "data": {
      "text/plain": [
       "'P-y-t-h-o-n'"
      ]
     },
     "execution_count": 50,
     "metadata": {},
     "output_type": "execute_result"
    }
   ],
   "source": [
    "String = \"Python\"\n",
    "String = \"-\".join(String)\n",
    "String"
   ]
  },
  {
   "cell_type": "code",
   "execution_count": 51,
   "metadata": {},
   "outputs": [],
   "source": [
    "binary1 = \"111100\""
   ]
  },
  {
   "cell_type": "code",
   "execution_count": 52,
   "metadata": {},
   "outputs": [
    {
     "data": {
      "text/plain": [
       "'1,1,1,1,0,0'"
      ]
     },
     "execution_count": 52,
     "metadata": {},
     "output_type": "execute_result"
    }
   ],
   "source": [
    "binary1 = \",\".join(binary1)\n",
    "binary1"
   ]
  },
  {
   "cell_type": "markdown",
   "metadata": {
    "colab_type": "text",
    "id": "bugIq-mNc7uN"
   },
   "source": [
    "\n",
    "\n",
    "---\n",
    "\n"
   ]
  },
  {
   "cell_type": "markdown",
   "metadata": {
    "colab_type": "text",
    "id": "Yx7oyLtDc8XI"
   },
   "source": [
    "## 7. Capitalize"
   ]
  },
  {
   "cell_type": "markdown",
   "metadata": {
    "colab_type": "text",
    "id": "KBWt0P9xc99B"
   },
   "source": [
    "The capitalize function capitalizes the first character in the word or a string."
   ]
  },
  {
   "cell_type": "code",
   "execution_count": 53,
   "metadata": {
    "colab": {
     "base_uri": "https://localhost:8080/",
     "height": 35
    },
    "colab_type": "code",
    "id": "OfsFhFp0c_Eo",
    "outputId": "2f372a13-efaa-4ae7-c62d-2acad64c68a3"
   },
   "outputs": [
    {
     "data": {
      "text/plain": [
       "'murugan shyam'"
      ]
     },
     "execution_count": 53,
     "metadata": {},
     "output_type": "execute_result"
    }
   ],
   "source": [
    "string = \"murugan shyam\"\n",
    "string"
   ]
  },
  {
   "cell_type": "code",
   "execution_count": 54,
   "metadata": {
    "colab": {
     "base_uri": "https://localhost:8080/",
     "height": 35
    },
    "colab_type": "code",
    "id": "ZUvy5wxZdA7w",
    "outputId": "61476b2c-21d3-487b-a0b9-bdd2c30dd564"
   },
   "outputs": [
    {
     "data": {
      "text/plain": [
       "'Murugan shyam'"
      ]
     },
     "execution_count": 54,
     "metadata": {},
     "output_type": "execute_result"
    }
   ],
   "source": [
    "string = string.capitalize()\n",
    "string"
   ]
  },
  {
   "cell_type": "code",
   "execution_count": 55,
   "metadata": {},
   "outputs": [
    {
     "data": {
      "text/plain": [
       "'Murugan Shyam'"
      ]
     },
     "execution_count": 55,
     "metadata": {},
     "output_type": "execute_result"
    }
   ],
   "source": [
    "string = string.title()\n",
    "string"
   ]
  },
  {
   "cell_type": "code",
   "execution_count": 56,
   "metadata": {},
   "outputs": [
    {
     "data": {
      "text/plain": [
       "'MURUGAN SHYAM'"
      ]
     },
     "execution_count": 56,
     "metadata": {},
     "output_type": "execute_result"
    }
   ],
   "source": [
    "string = string.upper()\n",
    "string"
   ]
  },
  {
   "cell_type": "markdown",
   "metadata": {
    "colab_type": "text",
    "id": "yX5Qdr6ydCFa"
   },
   "source": [
    "\n",
    "\n",
    "---\n",
    "\n"
   ]
  },
  {
   "cell_type": "markdown",
   "metadata": {
    "colab_type": "text",
    "id": "sRgDZVrqdCuA"
   },
   "source": [
    "## 8. Center"
   ]
  },
  {
   "cell_type": "markdown",
   "metadata": {
    "colab_type": "text",
    "id": "AsqHZ9r2dEwx"
   },
   "source": [
    "The center method returns a string which is padded with the specified character."
   ]
  },
  {
   "cell_type": "code",
   "execution_count": 57,
   "metadata": {
    "colab": {
     "base_uri": "https://localhost:8080/",
     "height": 35
    },
    "colab_type": "code",
    "id": "rRXoOdEAdGAW",
    "outputId": "c3885d22-cbd4-45ed-e647-c443809e02b5"
   },
   "outputs": [
    {
     "data": {
      "text/plain": [
       "'Thank you'"
      ]
     },
     "execution_count": 57,
     "metadata": {},
     "output_type": "execute_result"
    }
   ],
   "source": [
    "string = \"Thank you\"\n",
    "string"
   ]
  },
  {
   "cell_type": "code",
   "execution_count": 58,
   "metadata": {
    "colab": {
     "base_uri": "https://localhost:8080/",
     "height": 35
    },
    "colab_type": "code",
    "id": "9-07a01adIY-",
    "outputId": "afd0f70f-1166-4ccd-acef-9371b2651795"
   },
   "outputs": [
    {
     "name": "stdout",
     "output_type": "stream",
     "text": [
      "******************Thank you*******************\n"
     ]
    }
   ],
   "source": [
    "print(string.center(46, '*'))"
   ]
  },
  {
   "cell_type": "markdown",
   "metadata": {
    "colab_type": "text",
    "id": "WirqOMPmdJrb"
   },
   "source": [
    "\n",
    "\n",
    "---\n",
    "\n"
   ]
  },
  {
   "cell_type": "markdown",
   "metadata": {
    "colab_type": "text",
    "id": "mMxEPvbudKPZ"
   },
   "source": [
    "## 9. Find"
   ]
  },
  {
   "cell_type": "markdown",
   "metadata": {
    "colab_type": "text",
    "id": "615CsWgodMU3"
   },
   "source": [
    "The find method returns the index of the given substring position. If the value is not found it returns, -1.\n",
    "\n",
    "**It will always result in first find position**"
   ]
  },
  {
   "attachments": {
    "c88310b0-f6ce-46c2-8c87-715275033246.png": {
     "image/png": "[encoded data removed]"
    }
   },
   "cell_type": "markdown",
   "metadata": {},
   "source": [
    "![image.png](attachment:c88310b0-f6ce-46c2-8c87-715275033246.png)"
   ]
  },
  {
   "attachments": {
    "8db277d8-fccc-4b95-a7d8-9d09c57a6aaf.png": {
     "image/png": "[encoded data removed]"
    }
   },
   "cell_type": "markdown",
   "metadata": {},
   "source": [
    "![image.png](attachment:8db277d8-fccc-4b95-a7d8-9d09c57a6aaf.png)"
   ]
  },
  {
   "attachments": {
    "052704bc-1f01-4479-8e89-8ae2e41dc020.png": {
     "image/png": "[encoded data removed]"
    }
   },
   "cell_type": "markdown",
   "metadata": {},
   "source": [
    "![image.png](attachment:052704bc-1f01-4479-8e89-8ae2e41dc020.png)"
   ]
  },
  {
   "cell_type": "code",
   "execution_count": 59,
   "metadata": {
    "colab": {
     "base_uri": "https://localhost:8080/",
     "height": 35
    },
    "colab_type": "code",
    "id": "YoNlax-LdOGs",
    "outputId": "e66ad321-429e-468c-9a38-0297deced908"
   },
   "outputs": [
    {
     "data": {
      "text/plain": [
       "'programming'"
      ]
     },
     "execution_count": 59,
     "metadata": {},
     "output_type": "execute_result"
    }
   ],
   "source": [
    "string = \"programming\"\n",
    "string"
   ]
  },
  {
   "cell_type": "code",
   "execution_count": 60,
   "metadata": {
    "colab": {
     "base_uri": "https://localhost:8080/",
     "height": 35
    },
    "colab_type": "code",
    "id": "UF1zGdSfdPl4",
    "outputId": "039e43d5-a38a-42af-8893-21503d58f89e"
   },
   "outputs": [
    {
     "name": "stdout",
     "output_type": "stream",
     "text": [
      "3\n"
     ]
    }
   ],
   "source": [
    "print(string.find('g'))"
   ]
  },
  {
   "cell_type": "code",
   "execution_count": 61,
   "metadata": {
    "colab": {
     "base_uri": "https://localhost:8080/",
     "height": 35
    },
    "colab_type": "code",
    "id": "YndJcTeDdQ4J",
    "outputId": "cdda1868-846e-4f1c-f573-0a3e370702bd"
   },
   "outputs": [
    {
     "name": "stdout",
     "output_type": "stream",
     "text": [
      "-1\n"
     ]
    }
   ],
   "source": [
    "print(string.find('t'))"
   ]
  },
  {
   "cell_type": "code",
   "execution_count": 62,
   "metadata": {},
   "outputs": [
    {
     "data": {
      "text/plain": [
       "7"
      ]
     },
     "execution_count": 62,
     "metadata": {},
     "output_type": "execute_result"
    }
   ],
   "source": [
    "string = \"Murugan Shyam\"\n",
    "space_location = string.find(' ')\n",
    "space_location"
   ]
  },
  {
   "cell_type": "code",
   "execution_count": 63,
   "metadata": {},
   "outputs": [
    {
     "data": {
      "text/plain": [
       "'Murugan'"
      ]
     },
     "execution_count": 63,
     "metadata": {},
     "output_type": "execute_result"
    }
   ],
   "source": [
    "First_name = string[:space_location]\n",
    "First_name"
   ]
  },
  {
   "cell_type": "code",
   "execution_count": 64,
   "metadata": {},
   "outputs": [
    {
     "data": {
      "text/plain": [
       "'Shyam'"
      ]
     },
     "execution_count": 64,
     "metadata": {},
     "output_type": "execute_result"
    }
   ],
   "source": [
    "Last_name = string[space_location+1:]\n",
    "Last_name"
   ]
  },
  {
   "cell_type": "markdown",
   "metadata": {
    "colab_type": "text",
    "id": "YkVlFDE1dSRh"
   },
   "source": [
    "\n",
    "\n",
    "---\n",
    "\n"
   ]
  },
  {
   "cell_type": "markdown",
   "metadata": {
    "colab_type": "text",
    "id": "WKAuFqwqdSzi"
   },
   "source": [
    "## 10. Strip"
   ]
  },
  {
   "cell_type": "markdown",
   "metadata": {
    "colab_type": "text",
    "id": "bNMVFWr8dUSl"
   },
   "source": [
    "The strip function strips or removes the white spaces both from the starting and the ending of a string."
   ]
  },
  {
   "cell_type": "code",
   "execution_count": 65,
   "metadata": {
    "colab": {
     "base_uri": "https://localhost:8080/",
     "height": 35
    },
    "colab_type": "code",
    "id": "iK6st3AXdV8R",
    "outputId": "bbc0a546-9deb-4d29-ab3b-0b92cb78624b"
   },
   "outputs": [
    {
     "data": {
      "text/plain": [
       "'     programming is easy    '"
      ]
     },
     "execution_count": 65,
     "metadata": {},
     "output_type": "execute_result"
    }
   ],
   "source": [
    "string = \"     programming is easy    \"\n",
    "string"
   ]
  },
  {
   "cell_type": "code",
   "execution_count": 66,
   "metadata": {},
   "outputs": [
    {
     "data": {
      "text/plain": [
       "28"
      ]
     },
     "execution_count": 66,
     "metadata": {},
     "output_type": "execute_result"
    }
   ],
   "source": [
    "len(string)"
   ]
  },
  {
   "cell_type": "code",
   "execution_count": 67,
   "metadata": {
    "colab": {
     "base_uri": "https://localhost:8080/",
     "height": 35
    },
    "colab_type": "code",
    "id": "w6iyIxh2dYJr",
    "outputId": "6e39c256-e1c7-4d54-84ff-cbaef4e13e23"
   },
   "outputs": [
    {
     "name": "stdout",
     "output_type": "stream",
     "text": [
      "programming is easy\n"
     ]
    }
   ],
   "source": [
    "print(string.strip())"
   ]
  },
  {
   "cell_type": "code",
   "execution_count": 68,
   "metadata": {},
   "outputs": [
    {
     "data": {
      "text/plain": [
       "'programming is easy'"
      ]
     },
     "execution_count": 68,
     "metadata": {},
     "output_type": "execute_result"
    }
   ],
   "source": [
    "string.strip()"
   ]
  },
  {
   "cell_type": "code",
   "execution_count": 69,
   "metadata": {},
   "outputs": [
    {
     "data": {
      "text/plain": [
       "19"
      ]
     },
     "execution_count": 69,
     "metadata": {},
     "output_type": "execute_result"
    }
   ],
   "source": [
    "len(string.strip())"
   ]
  },
  {
   "cell_type": "code",
   "execution_count": 70,
   "metadata": {},
   "outputs": [
    {
     "name": "stdout",
     "output_type": "stream",
     "text": [
      "\n",
      "Upper case - Converted String:\n",
      "GEEKS FOR GEEKS\n",
      "\n",
      "Lower case - Converted String:\n",
      "geeks for geeks\n",
      "\n",
      "Title Case - Converted String:\n",
      "Geeks For Geeks\n",
      "\n",
      "Swap Case - Converted String:\n",
      "GEEkS fOR GEeKs\n",
      "\n",
      "Original String\n",
      "geeKs For geEkS\n"
     ]
    }
   ],
   "source": [
    "# Python3 program to show the\n",
    "# working of upper() function\n",
    "text = 'geeKs For geEkS'\n",
    "\n",
    "# upper() function to convert\n",
    "# string to upper case\n",
    "print(\"\\nUpper case - Converted String:\")\n",
    "print(text.upper())\n",
    "\n",
    "# lower() function to convert\n",
    "# string to lower case\n",
    "print(\"\\nLower case - Converted String:\")\n",
    "print(text.lower())\n",
    "\n",
    "# converts the first character to\n",
    "# upper case and rest to lower case\n",
    "print(\"\\nTitle Case - Converted String:\")\n",
    "print(text.title())\n",
    "\n",
    "#swaps the case of all characters in the string\n",
    "# upper case character to lowercase and viceversa\n",
    "print(\"\\nSwap Case - Converted String:\")\n",
    "print(text.swapcase())\n",
    "\n",
    "# original string never changes\n",
    "print(\"\\nOriginal String\")\n",
    "print(text)\n"
   ]
  },
  {
   "cell_type": "code",
   "execution_count": 71,
   "metadata": {},
   "outputs": [
    {
     "name": "stdout",
     "output_type": "stream",
     "text": [
      "000000code to demonstrate\n",
      "0code to demonstrate\n",
      "code to demonstrate\n"
     ]
    },
    {
     "data": {
      "text/plain": [
       "19"
      ]
     },
     "execution_count": 71,
     "metadata": {},
     "output_type": "execute_result"
    }
   ],
   "source": [
    "text = \"code to demonstrate\"\n",
    "\n",
    "print(text.zfill(25))\n",
    "\n",
    "print(text.zfill(20))\n",
    "\n",
    "# Given length is less than\n",
    "# the length od original string\n",
    "print(text.zfill(10))\n",
    "len(text)"
   ]
  },
  {
   "cell_type": "code",
   "execution_count": 72,
   "metadata": {},
   "outputs": [
    {
     "name": "stdout",
     "output_type": "stream",
     "text": [
      "Ch_1\n",
      "Ch_6\n",
      "Ch_11\n",
      "Ch_16\n",
      "Ch_21\n"
     ]
    }
   ],
   "source": [
    "for i in range(1,22,5):\n",
    "    text =str(i)\n",
    "    print(\"Ch_\" + text)"
   ]
  },
  {
   "cell_type": "code",
   "execution_count": 73,
   "metadata": {},
   "outputs": [
    {
     "name": "stdout",
     "output_type": "stream",
     "text": [
      "Ch_01\n",
      "Ch_06\n",
      "Ch_11\n",
      "Ch_16\n",
      "Ch_21\n"
     ]
    }
   ],
   "source": [
    "for i in range(1,22,5):\n",
    "    text =str(i)\n",
    "    print(\"Ch_\" + text.zfill(2))"
   ]
  },
  {
   "attachments": {
    "image.png": {
     "image/png": "[encoded data removed]"
    }
   },
   "cell_type": "markdown",
   "metadata": {},
   "source": [
    "![image.png](attachment:image.png)"
   ]
  },
  {
   "cell_type": "code",
   "execution_count": null,
   "metadata": {},
   "outputs": [],
   "source": [
    "# Python3 code to demonstrate\n",
    "# translations \n",
    "# specifying the mapping\n",
    "# using ASCII\n",
    "# 119 : 103, 121 : 102, 117 : None\n",
    "# w : g , y : f, u : None\n",
    "# here None means replace with empty space\n",
    "#-------------------------------------------------\n",
    "table = { 119 : 103, 121 : 102, 117 : None }\n",
    "\n",
    "# target string\n",
    "trg = \"weeksyourweeks\"\n",
    "\n",
    "# Printing original string\n",
    "print (\"The string before translating is : \", end =\"\")\n",
    "print (trg)\n",
    "\n",
    "# using translate() to make translations.\n",
    "print (\"The string after translating is : \", end =\"\")\n",
    "print (trg.translate(table))\n"
   ]
  },
  {
   "cell_type": "code",
   "execution_count": null,
   "metadata": {},
   "outputs": [],
   "source": [
    "print(trg)\n",
    "trg.replace('w', 'g').replace(\"y\", 'f').replace('u', '')"
   ]
  },
  {
   "cell_type": "markdown",
   "metadata": {},
   "source": [
    "### More on Translate"
   ]
  },
  {
   "attachments": {
    "a45ca2a8-091a-4ad3-a55f-3fe1786fb74b.png": {
     "image/png": "[encoded data removed]"
    }
   },
   "cell_type": "markdown",
   "metadata": {},
   "source": [
    "![image.png](attachment:a45ca2a8-091a-4ad3-a55f-3fe1786fb74b.png)"
   ]
  },
  {
   "attachments": {
    "1191ff5c-3bf7-46cf-9878-fc23eee0717d.png": {
     "image/png": "[encoded data removed]"
    }
   },
   "cell_type": "markdown",
   "metadata": {},
   "source": [
    "![image.png](attachment:1191ff5c-3bf7-46cf-9878-fc23eee0717d.png)"
   ]
  },
  {
   "cell_type": "code",
   "execution_count": null,
   "metadata": {},
   "outputs": [],
   "source": [
    "text = \"hello world\"\n",
    "# Create a translation table to replace 'l' with 'x' and 'o' with 'y'\n",
    "table = str.maketrans(\"lo\", \"xy\")\n",
    "# Apply the translation\n",
    "translated_text = text.translate(table)\n",
    "print(translated_text) # Output: hexxy wyxrd"
   ]
  },
  {
   "cell_type": "code",
   "execution_count": null,
   "metadata": {},
   "outputs": [],
   "source": [
    "# Create a translation table to delete 'l'\n",
    "table = str.maketrans(\"\", \"\", \"l\")\n",
    "translated_text = text.translate(table)\n",
    "print(translated_text)  # Output: heo word"
   ]
  },
  {
   "cell_type": "code",
   "execution_count": null,
   "metadata": {},
   "outputs": [],
   "source": [
    "# Create a translation table to replace 'l' with 'x' and delete 'o'\n",
    "table = str.maketrans(\"l\", \"x\", \"o\")\n",
    "translated_text = text.translate(table)\n",
    "print(translated_text) # Output: hexx wrld"
   ]
  },
  {
   "cell_type": "markdown",
   "metadata": {
    "colab_type": "text",
    "id": "WKaqOD1_dZrJ"
   },
   "source": [
    "\n",
    "\n",
    "---\n",
    "\n"
   ]
  },
  {
   "cell_type": "markdown",
   "metadata": {
    "colab_type": "text",
    "id": "AYT7PeTCdbgL"
   },
   "source": [
    "Hence above are the very important techniques or functions of Strings in Python. Some of the examples were referred from [Python Strings](https://www.gangboard.com/blog/python-string/). I have written this tutorial in a simple way such that everybody can understand and master the concepts of Strings in Python without prior programming knowledge or experience."
   ]
  },
  {
   "cell_type": "markdown",
   "metadata": {
    "colab_type": "text",
    "id": "7WdDGsbVdfhv"
   },
   "source": [
    "## Thank you"
   ]
  }
 ],
 "metadata": {
  "colab": {
   "collapsed_sections": [],
   "include_colab_link": true,
   "name": "Strings.ipynb",
   "provenance": [],
   "version": "0.3.2"
  },
  "kernelspec": {
   "display_name": "Python 3 (ipykernel)",
   "language": "python",
   "name": "python3"
  },
  "language_info": {
   "codemirror_mode": {
    "name": "ipython",
    "version": 3
   },
   "file_extension": ".py",
   "mimetype": "text/x-python",
   "name": "python",
   "nbconvert_exporter": "python",
   "pygments_lexer": "ipython3",
   "version": "3.12.3"
  }
 },
 "nbformat": 4,
 "nbformat_minor": 4
}
