{
 "cells": [
  {
   "cell_type": "markdown",
   "metadata": {
    "colab_type": "text",
    "id": "2PATKKu7S9T8"
   },
   "source": [
    "## Let us understand the basic concepts of python tuples."
   ]
  },
  {
   "cell_type": "markdown",
   "metadata": {
    "colab_type": "text",
    "id": "fpYfSSajTFIC"
   },
   "source": [
    "## 1) What is a tuple and why is it used?\n",
    "\n",
    "A tuple is a data structure which is used store heterogeneous data meaning data of different types. A tuple is used to group together related data such as a dog name, height, weight, breed, and color (I love dogs). A tuple comprises several values separated by commas.\n",
    "\n",
    "\n",
    "---\n",
    "\n"
   ]
  },
  {
   "cell_type": "markdown",
   "metadata": {
    "colab_type": "text",
    "id": "MvwPhGybTM4F"
   },
   "source": [
    "## 2) How to create a tuple?\n",
    "\n",
    "A tuple can be created by enclosing the values with a pair of brackets and separated by commas for instance:\n",
    "\n",
    "**Let us create a tuple called \"tuple\", and put in some values including both string and integer data this can be done as shown below:**"
   ]
  },
  {
   "cell_type": "code",
   "execution_count": 1,
   "metadata": {
    "colab": {
     "base_uri": "https://localhost:8080/",
     "height": 35
    },
    "colab_type": "code",
    "id": "CEn0LjTuTRYw",
    "outputId": "b8006c3e-e776-42fb-d5c1-38e7bfea9691",
    "scrolled": true
   },
   "outputs": [
    {
     "name": "stdout",
     "output_type": "stream",
     "text": [
      "(\"Today's\", 'Date', 'Is', 15, 'August', 2019)\n"
     ]
    }
   ],
   "source": [
    "# Creating a tuple and storing the values\n",
    "tuple = (\"Today's\", \"Date\", \"Is\", 15, \"August\", 2019)\n",
    "print(tuple)"
   ]
  },
  {
   "cell_type": "code",
   "execution_count": 2,
   "metadata": {
    "colab": {
     "base_uri": "https://localhost:8080/",
     "height": 35
    },
    "colab_type": "code",
    "id": "CSU0hTgeTT8z",
    "outputId": "24d2b254-e4ff-4b0f-d109-2edda29f91af"
   },
   "outputs": [
    {
     "name": "stdout",
     "output_type": "stream",
     "text": [
      "<class 'tuple'>\n"
     ]
    }
   ],
   "source": [
    "print(type(tuple))"
   ]
  },
  {
   "cell_type": "code",
   "execution_count": 4,
   "metadata": {},
   "outputs": [
    {
     "name": "stdout",
     "output_type": "stream",
     "text": [
      "<class 'tuple'>\n"
     ]
    }
   ],
   "source": [
    "#tuple = \"Today's\", \"Date\", \"Is\", 15, \"August\", 2019\n",
    "tuple = 1,2,3,4\n",
    "print(type(tuple))"
   ]
  },
  {
   "cell_type": "code",
   "execution_count": 5,
   "metadata": {},
   "outputs": [
    {
     "data": {
      "text/plain": [
       "(1, 2, 3, 4)"
      ]
     },
     "execution_count": 5,
     "metadata": {},
     "output_type": "execute_result"
    }
   ],
   "source": [
    "tuple"
   ]
  },
  {
   "cell_type": "code",
   "execution_count": 6,
   "metadata": {},
   "outputs": [],
   "source": [
    "tuple = \"a\","
   ]
  },
  {
   "cell_type": "code",
   "execution_count": 7,
   "metadata": {},
   "outputs": [
    {
     "data": {
      "text/plain": [
       "('a',)"
      ]
     },
     "execution_count": 7,
     "metadata": {},
     "output_type": "execute_result"
    }
   ],
   "source": [
    "tuple"
   ]
  },
  {
   "cell_type": "code",
   "execution_count": 8,
   "metadata": {},
   "outputs": [
    {
     "data": {
      "text/plain": [
       "tuple"
      ]
     },
     "execution_count": 8,
     "metadata": {},
     "output_type": "execute_result"
    }
   ],
   "source": [
    "type(tuple)"
   ]
  },
  {
   "cell_type": "code",
   "execution_count": 9,
   "metadata": {},
   "outputs": [
    {
     "data": {
      "text/plain": [
       "str"
      ]
     },
     "execution_count": 9,
     "metadata": {},
     "output_type": "execute_result"
    }
   ],
   "source": [
    "tuple = \"a\"\n",
    "type(tuple)"
   ]
  },
  {
   "cell_type": "code",
   "execution_count": 11,
   "metadata": {},
   "outputs": [
    {
     "data": {
      "text/plain": [
       "tuple"
      ]
     },
     "execution_count": 11,
     "metadata": {},
     "output_type": "execute_result"
    }
   ],
   "source": [
    "tuple = 1,\n",
    "type(tuple)"
   ]
  },
  {
   "cell_type": "markdown",
   "metadata": {
    "colab_type": "text",
    "id": "WGKtDIi3TZTy"
   },
   "source": [
    "As seen above the tuple can hold heterogeneous data (Hence proved :))\n",
    "\n",
    "---\n",
    "\n"
   ]
  },
  {
   "cell_type": "markdown",
   "metadata": {
    "colab_type": "text",
    "id": "uBKsjhYNTZ0-"
   },
   "source": [
    "## 3) How do we access the values of a tuple?\n",
    "\n",
    "Indexing can do this. The values of tuples can be accessed by their index to get the value. To do this, all you have to do is just place the number (index value) inside the pair of square brackets along with the name of the tuple."
   ]
  },
  {
   "cell_type": "code",
   "execution_count": 12,
   "metadata": {
    "colab": {
     "base_uri": "https://localhost:8080/",
     "height": 35
    },
    "colab_type": "code",
    "id": "aYIA3euLTgMf",
    "outputId": "c01cc817-5cc5-49e6-9095-ba6baa4d6bd3"
   },
   "outputs": [
    {
     "name": "stdout",
     "output_type": "stream",
     "text": [
      "Is\n"
     ]
    }
   ],
   "source": [
    "# Accessing the values of a tuple\n",
    "tuple = \"Today's\", \"Date\", \"Is\", 15, \"August\", 2019\n",
    "print(tuple[2])"
   ]
  },
  {
   "cell_type": "code",
   "execution_count": 13,
   "metadata": {
    "colab": {
     "base_uri": "https://localhost:8080/",
     "height": 35
    },
    "colab_type": "code",
    "id": "vcosUrpuThxV",
    "outputId": "29423d67-f24d-42f4-bbab-46b9c6ac069e"
   },
   "outputs": [
    {
     "name": "stdout",
     "output_type": "stream",
     "text": [
      "2019\n"
     ]
    }
   ],
   "source": [
    "print(tuple[5])"
   ]
  },
  {
   "cell_type": "code",
   "execution_count": 14,
   "metadata": {},
   "outputs": [
    {
     "data": {
      "text/plain": [
       "('Date', 'Is', 15, 'August')"
      ]
     },
     "execution_count": 14,
     "metadata": {},
     "output_type": "execute_result"
    }
   ],
   "source": [
    "tuple[1:5]"
   ]
  },
  {
   "cell_type": "code",
   "execution_count": 18,
   "metadata": {},
   "outputs": [
    {
     "data": {
      "text/plain": [
       "(\"Today's\",)"
      ]
     },
     "execution_count": 18,
     "metadata": {},
     "output_type": "execute_result"
    }
   ],
   "source": [
    "tuple = \"Today's\", \"Date\", \"Is\", 15, \"August\", 2019,\n",
    "tuple"
   ]
  },
  {
   "cell_type": "markdown",
   "metadata": {
    "colab_type": "text",
    "id": "PObeuKb6Tjxn"
   },
   "source": [
    "\n",
    "\n",
    "---\n",
    "\n"
   ]
  },
  {
   "cell_type": "markdown",
   "metadata": {
    "colab_type": "text",
    "id": "Kyt6Fp1BTl3Q"
   },
   "source": [
    "## 4) How to nest or combine two tuples?\n",
    "\n",
    "Just placing the old tuple next to the newly created tuple separated by a comma can do nesting of two or more tuples."
   ]
  },
  {
   "cell_type": "code",
   "execution_count": 19,
   "metadata": {
    "colab": {
     "base_uri": "https://localhost:8080/",
     "height": 35
    },
    "colab_type": "code",
    "id": "SvGoUPNSTi8Y",
    "outputId": "f79d78dd-2892-4f7e-e4a8-8e8e8ee369e3"
   },
   "outputs": [
    {
     "name": "stdout",
     "output_type": "stream",
     "text": [
      "('And', 'its', 'Thursday')\n"
     ]
    }
   ],
   "source": [
    "# Nesting two tuples as one tuple\n",
    "tuple1 = (\"And\", \"its\", \"Thursday\")\n",
    "print(tuple1)"
   ]
  },
  {
   "cell_type": "code",
   "execution_count": 20,
   "metadata": {},
   "outputs": [
    {
     "name": "stdout",
     "output_type": "stream",
     "text": [
      "(\"Today's\", 'Date', 'Is', 15, 'August', 2019)\n"
     ]
    }
   ],
   "source": [
    "tuple = (\"Today's\", \"Date\", \"Is\", 15, \"August\", 2019)\n",
    "print(tuple)"
   ]
  },
  {
   "cell_type": "code",
   "execution_count": 21,
   "metadata": {
    "colab": {
     "base_uri": "https://localhost:8080/",
     "height": 35
    },
    "colab_type": "code",
    "id": "jJMFCXWVTpuM",
    "outputId": "138d57c6-5204-4350-81f9-6f8a6b5aece6"
   },
   "outputs": [
    {
     "name": "stdout",
     "output_type": "stream",
     "text": [
      "((\"Today's\", 'Date', 'Is', 15, 'August', 2019), ('And', 'its', 'Thursday'))\n"
     ]
    }
   ],
   "source": [
    "tuple3 = tuple, tuple1\n",
    "print(tuple3)"
   ]
  },
  {
   "cell_type": "code",
   "execution_count": 22,
   "metadata": {},
   "outputs": [
    {
     "name": "stdout",
     "output_type": "stream",
     "text": [
      "(\"Today's\", 'Date', 'Is', 15, 'August', 2019, 'And', 'its', 'Thursday')\n"
     ]
    }
   ],
   "source": [
    "tuple3 = tuple + tuple1\n",
    "print(tuple3)"
   ]
  },
  {
   "cell_type": "markdown",
   "metadata": {
    "colab_type": "text",
    "id": "zF69Rw3tTs5Z"
   },
   "source": [
    "\n",
    "\n",
    "---\n",
    "\n"
   ]
  },
  {
   "cell_type": "markdown",
   "metadata": {
    "colab_type": "text",
    "id": "fdeiFiODTvVa"
   },
   "source": [
    "## 5) Are tuples immutable or mutable?\n",
    "\n",
    "Before answering the question you should know that immutable values are unchangeable and mutable values are changeable. Now let's answer the question, the answer is tuples are immutable, yes once a tuple is created we can never change their values. Don't believe me, I'll prove it to you."
   ]
  },
  {
   "cell_type": "markdown",
   "metadata": {},
   "source": [
    "### mutable ==> changeable\n",
    "\n",
    "### immutable ==> unchangeable"
   ]
  },
  {
   "cell_type": "code",
   "execution_count": 23,
   "metadata": {
    "colab": {
     "base_uri": "https://localhost:8080/",
     "height": 35
    },
    "colab_type": "code",
    "id": "tN20V0OiTsvK",
    "outputId": "2b3a90f1-d8e9-468c-93ea-7e443887d312"
   },
   "outputs": [
    {
     "name": "stdout",
     "output_type": "stream",
     "text": [
      "Today's\n"
     ]
    }
   ],
   "source": [
    "# Tuples are immutable in nature\n",
    "print(tuple[0])"
   ]
  },
  {
   "cell_type": "code",
   "execution_count": 24,
   "metadata": {
    "colab": {
     "base_uri": "https://localhost:8080/",
     "height": 183
    },
    "colab_type": "code",
    "id": "mbp7AyC9T0kh",
    "outputId": "5af5bfed-375c-4914-f4d1-0155d37e9cf5"
   },
   "outputs": [
    {
     "ename": "TypeError",
     "evalue": "'tuple' object does not support item assignment",
     "output_type": "error",
     "traceback": [
      "\u001b[1;31m---------------------------------------------------------------------------\u001b[0m",
      "\u001b[1;31mTypeError\u001b[0m                                 Traceback (most recent call last)",
      "Cell \u001b[1;32mIn[24], line 4\u001b[0m\n\u001b[0;32m      1\u001b[0m \u001b[38;5;66;03m# Changing the value of the 0th index to \"Hi\"\u001b[39;00m\n\u001b[0;32m      2\u001b[0m \u001b[38;5;66;03m# This will result in below type error |-----> Remove # to check\u001b[39;00m\n\u001b[0;32m      3\u001b[0m \u001b[38;5;66;03m# TypeError: 'tuple' object does not support item assignment\u001b[39;00m\n\u001b[1;32m----> 4\u001b[0m \u001b[38;5;28mtuple\u001b[39m[\u001b[38;5;241m0\u001b[39m] \u001b[38;5;241m=\u001b[39m (\u001b[38;5;124m\"\u001b[39m\u001b[38;5;124mHi\u001b[39m\u001b[38;5;124m\"\u001b[39m)\n\u001b[0;32m      5\u001b[0m \u001b[38;5;28mprint\u001b[39m(\u001b[38;5;28mtuple\u001b[39m)\n",
      "\u001b[1;31mTypeError\u001b[0m: 'tuple' object does not support item assignment"
     ]
    }
   ],
   "source": [
    "# Changing the value of the 0th index to \"Hi\"\n",
    "# This will result in below type error |-----> Remove # to check\n",
    "# TypeError: 'tuple' object does not support item assignment\n",
    "tuple[0] = (\"Hi\")\n",
    "print(tuple)"
   ]
  },
  {
   "cell_type": "markdown",
   "metadata": {
    "colab_type": "text",
    "id": "nXBMPvk6T2vH"
   },
   "source": [
    "Hence the above proves that tuples are immutable in nature.\n",
    "\n",
    "\n",
    "---\n",
    "\n"
   ]
  },
  {
   "cell_type": "markdown",
   "metadata": {
    "colab_type": "text",
    "id": "BzKAgWk-T3lO"
   },
   "source": [
    "## 6) Can tuples store identical data within them?\n",
    "\n",
    "Yes, tuples can store identical data within them, we can store many identical values inside a tuple. For example:"
   ]
  },
  {
   "cell_type": "code",
   "execution_count": 25,
   "metadata": {
    "colab": {
     "base_uri": "https://localhost:8080/",
     "height": 35
    },
    "colab_type": "code",
    "id": "8hQPCAOzT6xN",
    "outputId": "e00ccf68-9b46-4142-d7b4-557b25d25ded"
   },
   "outputs": [
    {
     "name": "stdout",
     "output_type": "stream",
     "text": [
      "(\"Today's\", 'Date', 'Is', 15, 'August', 2019)\n"
     ]
    }
   ],
   "source": [
    "# Storing identical data with a tuple\n",
    "tuple = (\"Today's\", \"Date\", \"Is\", 15, \"August\", 2019)\n",
    "print(tuple)"
   ]
  },
  {
   "cell_type": "code",
   "execution_count": 26,
   "metadata": {
    "colab": {
     "base_uri": "https://localhost:8080/",
     "height": 35
    },
    "colab_type": "code",
    "id": "CR3hc5M_T8a0",
    "outputId": "75460865-af29-40d4-af99-3d520fad55ae"
   },
   "outputs": [
    {
     "name": "stdout",
     "output_type": "stream",
     "text": [
      "[(\"Today's\", 'Date', 'Is', 15, 'August', 2019), (\"Today's\", 'Date', 'Is', 15, 'August', 2019)]\n"
     ]
    }
   ],
   "source": [
    "tuple = [(\"Today's\", \"Date\", \"Is\", 15, \"August\", 2019), (\"Today's\", \"Date\", \"Is\", 15, \"August\", 2019)]\n",
    "print(tuple)"
   ]
  },
  {
   "cell_type": "code",
   "execution_count": 27,
   "metadata": {},
   "outputs": [
    {
     "data": {
      "text/plain": [
       "(1, 2, 3, 2, 3, 4, 5, 6, 4, 5, 6)"
      ]
     },
     "execution_count": 27,
     "metadata": {},
     "output_type": "execute_result"
    }
   ],
   "source": [
    "tuple = (1,2,3,2,3,4,5,6,4,5,6)\n",
    "tuple"
   ]
  },
  {
   "cell_type": "markdown",
   "metadata": {
    "colab_type": "text",
    "id": "oziSAUQ4T9s3"
   },
   "source": [
    "\n",
    "\n",
    "---\n",
    "\n"
   ]
  },
  {
   "cell_type": "markdown",
   "metadata": {
    "colab_type": "text",
    "id": "LNnzlQ9DT-Qg"
   },
   "source": [
    "## 7) How can you loop through a tuple?\n",
    "\n",
    "This question is rather direct using a looping construct we can loop through a tuple. Below I will use a for loop and iterate through the values inside a tuple, you can similarly use other looping constructs and get the results."
   ]
  },
  {
   "cell_type": "code",
   "execution_count": 28,
   "metadata": {
    "colab": {
     "base_uri": "https://localhost:8080/",
     "height": 35
    },
    "colab_type": "code",
    "id": "sUp7xaonUBH2",
    "outputId": "d791f154-b301-4b41-c2fe-8e099ccf5024"
   },
   "outputs": [
    {
     "name": "stdout",
     "output_type": "stream",
     "text": [
      "(\"Today's\", 'Date', 'Is', 15, 'August', 2019)\n"
     ]
    }
   ],
   "source": [
    "tuple = (\"Today's\", \"Date\", \"Is\", 15, \"August\", 2019)\n",
    "print(tuple)"
   ]
  },
  {
   "cell_type": "code",
   "execution_count": 29,
   "metadata": {
    "colab": {
     "base_uri": "https://localhost:8080/",
     "height": 121
    },
    "colab_type": "code",
    "id": "IchzQ00AUCha",
    "outputId": "f8138ead-5e0b-41da-f162-248f4da59495"
   },
   "outputs": [
    {
     "name": "stdout",
     "output_type": "stream",
     "text": [
      "Today's\n",
      "Date\n",
      "Is\n",
      "15\n",
      "August\n",
      "2019\n"
     ]
    }
   ],
   "source": [
    "for i in tuple:\n",
    "    print(i)"
   ]
  },
  {
   "cell_type": "markdown",
   "metadata": {
    "colab_type": "text",
    "id": "hOVPeQLpUHDt"
   },
   "source": [
    "\n",
    "\n",
    "---\n",
    "\n"
   ]
  },
  {
   "cell_type": "markdown",
   "metadata": {
    "colab_type": "text",
    "id": "83OQeTFUUNVd"
   },
   "source": [
    "## 8) How to access the index of the tuple using a loop?\n",
    "\n",
    "We can do this using a for loop with a enumerate function. Enumerate is a built-in function of Python. It allows us to loop over something and have an automatic counter, to know more about enumerating read its complete documentation of it [here](http://book.pythontips.com/en/latest/enumerate.html). For example:"
   ]
  },
  {
   "cell_type": "code",
   "execution_count": 30,
   "metadata": {
    "colab": {
     "base_uri": "https://localhost:8080/",
     "height": 35
    },
    "colab_type": "code",
    "id": "SLfMS1rlUPyE",
    "outputId": "9f6d8085-c0b8-4013-95a0-5cd8de56c5b0"
   },
   "outputs": [
    {
     "name": "stdout",
     "output_type": "stream",
     "text": [
      "(\"Today's\", 'Date', 'Is', 15, 'August', 2019)\n"
     ]
    }
   ],
   "source": [
    "# Accessing the index of the tuple using enumerate function.\n",
    "tuple = (\"Today's\", \"Date\", \"Is\", 15, \"August\", 2019)\n",
    "print(tuple)"
   ]
  },
  {
   "cell_type": "code",
   "execution_count": 31,
   "metadata": {
    "colab": {
     "base_uri": "https://localhost:8080/",
     "height": 121
    },
    "colab_type": "code",
    "id": "CH4lnPrUURew",
    "outputId": "6d97a02e-acba-43be-de9a-ec07f24e525e"
   },
   "outputs": [
    {
     "name": "stdout",
     "output_type": "stream",
     "text": [
      "0 Today's\n",
      "1 Date\n",
      "2 Is\n",
      "3 15\n",
      "4 August\n",
      "5 2019\n"
     ]
    }
   ],
   "source": [
    "for counter, value in enumerate(tuple):\n",
    "    print(counter, value)"
   ]
  },
  {
   "cell_type": "code",
   "execution_count": 33,
   "metadata": {},
   "outputs": [
    {
     "data": {
      "text/plain": [
       "(2019, 'August')"
      ]
     },
     "execution_count": 33,
     "metadata": {},
     "output_type": "execute_result"
    }
   ],
   "source": [
    "# [start,stop,step]\n",
    "tuple[5:3:-1]"
   ]
  },
  {
   "cell_type": "markdown",
   "metadata": {
    "colab_type": "text",
    "id": "za8kp3k8US-2"
   },
   "source": [
    "\n",
    "\n",
    "---\n",
    "\n"
   ]
  },
  {
   "cell_type": "markdown",
   "metadata": {
    "colab_type": "text",
    "id": "t0uEPJ4xUTj4"
   },
   "source": [
    "## 9) Can we remove the values or items from the tuples?\n",
    "I think now you can answer this question easily. The answer is No, you cannot remove the values or items from the tuples but you can delete the tuple completely. This is because tuples are immutable. For example:"
   ]
  },
  {
   "cell_type": "code",
   "execution_count": 34,
   "metadata": {
    "colab": {
     "base_uri": "https://localhost:8080/",
     "height": 35
    },
    "colab_type": "code",
    "id": "g63FVH2AUWRC",
    "outputId": "61c93790-2a0d-4292-a7a1-a48ba67512f3"
   },
   "outputs": [
    {
     "data": {
      "text/plain": [
       "(\"Today's\", 'Date', 'Is', 15, 'August', 2019)"
      ]
     },
     "execution_count": 34,
     "metadata": {},
     "output_type": "execute_result"
    }
   ],
   "source": [
    "# Deleting an entire tuple using del\n",
    "tuple1 = (\"Today's\", \"Date\", \"Is\", 15, \"August\", 2019)\n",
    "tuple1"
   ]
  },
  {
   "cell_type": "code",
   "execution_count": 35,
   "metadata": {
    "colab": {
     "base_uri": "https://localhost:8080/",
     "height": 35
    },
    "colab_type": "code",
    "id": "pMHd_mKGUYoy",
    "outputId": "435b8b5c-f66f-4507-8174-cf1eebbfebae"
   },
   "outputs": [],
   "source": [
    "del tuple1"
   ]
  },
  {
   "cell_type": "code",
   "execution_count": 36,
   "metadata": {},
   "outputs": [
    {
     "ename": "NameError",
     "evalue": "name 'tuple1' is not defined",
     "output_type": "error",
     "traceback": [
      "\u001b[1;31m---------------------------------------------------------------------------\u001b[0m",
      "\u001b[1;31mNameError\u001b[0m                                 Traceback (most recent call last)",
      "Cell \u001b[1;32mIn[36], line 2\u001b[0m\n\u001b[0;32m      1\u001b[0m \u001b[38;5;66;03m# This will result in error as the variable is deleted\u001b[39;00m\n\u001b[1;32m----> 2\u001b[0m \u001b[38;5;28mprint\u001b[39m(tuple1)\n",
      "\u001b[1;31mNameError\u001b[0m: name 'tuple1' is not defined"
     ]
    }
   ],
   "source": [
    "# This will result in error as the variable is deleted\n",
    "print(tuple1)"
   ]
  },
  {
   "cell_type": "markdown",
   "metadata": {
    "colab_type": "text",
    "id": "DZWE8BfiUVMI"
   },
   "source": [
    "As seen above the entire tuple can be deleted using del, so when we print the tuple you can see that there are no elements in it.\n",
    "\n",
    "---\n",
    "\n"
   ]
  },
  {
   "cell_type": "markdown",
   "metadata": {
    "colab_type": "text",
    "id": "Hgz7YsIEUbAJ"
   },
   "source": [
    "## 10) How to count the number of times the values have appeared in the tuple?\n",
    "\n",
    "This can be done by using the count method of the tuple, the count method returns the number of times a value has appeared in a tuple. For example:"
   ]
  },
  {
   "cell_type": "code",
   "execution_count": 37,
   "metadata": {
    "colab": {
     "base_uri": "https://localhost:8080/",
     "height": 35
    },
    "colab_type": "code",
    "id": "rhaaX7uGUekT",
    "outputId": "293218e1-7a1d-4669-ddb4-5dcd9903d90c"
   },
   "outputs": [
    {
     "name": "stdout",
     "output_type": "stream",
     "text": [
      "(\"Today's\", 'Date', 'Is', 15, 'August', 2019, 'And', 'Day', 'Is', 'Thursday')\n"
     ]
    }
   ],
   "source": [
    "# Counting the number of times a value has appeared in the tuple\n",
    "tuple = (\"Today's\", \"Date\", \"Is\", 15, \"August\", 2019, \"And\", \"Day\", \"Is\", \"Thursday\")\n",
    "print(tuple)"
   ]
  },
  {
   "cell_type": "code",
   "execution_count": 38,
   "metadata": {},
   "outputs": [
    {
     "name": "stdout",
     "output_type": "stream",
     "text": [
      "10\n"
     ]
    }
   ],
   "source": [
    "print(len(tuple))"
   ]
  },
  {
   "cell_type": "code",
   "execution_count": 39,
   "metadata": {
    "colab": {
     "base_uri": "https://localhost:8080/",
     "height": 35
    },
    "colab_type": "code",
    "id": "CbE_wV8nUgav",
    "outputId": "a608afc6-b522-42b1-e173-d78c28157b6c"
   },
   "outputs": [
    {
     "name": "stdout",
     "output_type": "stream",
     "text": [
      "2\n"
     ]
    }
   ],
   "source": [
    "print(tuple.count(\"Is\"))"
   ]
  },
  {
   "cell_type": "code",
   "execution_count": 41,
   "metadata": {
    "colab": {
     "base_uri": "https://localhost:8080/",
     "height": 35
    },
    "colab_type": "code",
    "id": "38-P90rJUhyr",
    "outputId": "f2a31de9-f344-48ec-e788-8d656f8fd9d5"
   },
   "outputs": [
    {
     "name": "stdout",
     "output_type": "stream",
     "text": [
      "1\n"
     ]
    }
   ],
   "source": [
    "print(tuple.count(15))"
   ]
  },
  {
   "cell_type": "markdown",
   "metadata": {
    "colab_type": "text",
    "id": "wqijgAvtUifK"
   },
   "source": [
    "So in the above, the value \"Is\" has appeared 2 times and similarly, 15 has appeared 1 time.\n",
    "\n",
    "---\n",
    "\n"
   ]
  },
  {
   "cell_type": "markdown",
   "metadata": {
    "colab_type": "text",
    "id": "reYMx25kUkqq"
   },
   "source": [
    "## 11) How to get the index of a value in a tuple?\n",
    "This can be done by using the index method of the tuple, the index method searches for the first occurrence of the value, and return its position. For example:"
   ]
  },
  {
   "cell_type": "code",
   "execution_count": 42,
   "metadata": {
    "colab": {
     "base_uri": "https://localhost:8080/",
     "height": 35
    },
    "colab_type": "code",
    "id": "zD6ligy0UnSi",
    "outputId": "59b1afbe-67c6-4198-bd96-b165501d52bf"
   },
   "outputs": [
    {
     "name": "stdout",
     "output_type": "stream",
     "text": [
      "(\"Today's\", 'Date', 'Is', 15, 'August', 2019, 'And', 'Day', 'Is', 'Thursday')\n"
     ]
    }
   ],
   "source": [
    "# Counting the number of times a value has appeared in the tuple\n",
    "tuple = (\"Today's\", \"Date\", \"Is\", 15, \"August\", 2019, \"And\", \"Day\", \"Is\", \"Thursday\")\n",
    "print(tuple)"
   ]
  },
  {
   "cell_type": "code",
   "execution_count": 43,
   "metadata": {
    "colab": {
     "base_uri": "https://localhost:8080/",
     "height": 35
    },
    "colab_type": "code",
    "id": "F0rAhAjPUpF5",
    "outputId": "f07a44ef-f70e-4bf2-92c9-200ba5ec303b"
   },
   "outputs": [
    {
     "name": "stdout",
     "output_type": "stream",
     "text": [
      "1\n"
     ]
    }
   ],
   "source": [
    "print(tuple.index(\"Date\"))"
   ]
  },
  {
   "cell_type": "code",
   "execution_count": 44,
   "metadata": {
    "colab": {
     "base_uri": "https://localhost:8080/",
     "height": 35
    },
    "colab_type": "code",
    "id": "oVkryza4Uqkl",
    "outputId": "339dbd26-7c95-4139-90af-2d233fb67932"
   },
   "outputs": [
    {
     "name": "stdout",
     "output_type": "stream",
     "text": [
      "4\n"
     ]
    }
   ],
   "source": [
    "print(tuple.index(\"August\"))"
   ]
  },
  {
   "cell_type": "code",
   "execution_count": 45,
   "metadata": {
    "colab": {
     "base_uri": "https://localhost:8080/",
     "height": 35
    },
    "colab_type": "code",
    "id": "E9o6Is6-Ur59",
    "outputId": "1330617d-167e-4ed4-cb09-4e4e35d201f0"
   },
   "outputs": [
    {
     "name": "stdout",
     "output_type": "stream",
     "text": [
      "2\n"
     ]
    }
   ],
   "source": [
    "print(tuple.index(\"Is\"))"
   ]
  },
  {
   "cell_type": "code",
   "execution_count": 46,
   "metadata": {},
   "outputs": [
    {
     "ename": "ValueError",
     "evalue": "tuple.index(x): x not in tuple",
     "output_type": "error",
     "traceback": [
      "\u001b[1;31m---------------------------------------------------------------------------\u001b[0m",
      "\u001b[1;31mValueError\u001b[0m                                Traceback (most recent call last)",
      "Cell \u001b[1;32mIn[46], line 1\u001b[0m\n\u001b[1;32m----> 1\u001b[0m \u001b[38;5;28mtuple\u001b[39m\u001b[38;5;241m.\u001b[39mindex(\u001b[38;5;124m\"\u001b[39m\u001b[38;5;124mSeptember\u001b[39m\u001b[38;5;124m\"\u001b[39m)\n",
      "\u001b[1;31mValueError\u001b[0m: tuple.index(x): x not in tuple"
     ]
    }
   ],
   "source": [
    "tuple.index(\"September\")"
   ]
  },
  {
   "cell_type": "markdown",
   "metadata": {
    "colab_type": "text",
    "id": "us9GYofcUmPo"
   },
   "source": [
    "As seen above the index method returns the position of the value, but in the last case of \"Is\", the index method returns the first occurrence of \"Is\" in the tuple and return its position.\n",
    "\n",
    "\n",
    "---\n",
    "\n"
   ]
  },
  {
   "cell_type": "markdown",
   "metadata": {
    "colab_type": "text",
    "id": "1KB4xmUWUyYo"
   },
   "source": [
    "## 13) How to check if the value is present inside a tuple or not?\n",
    "\n",
    "This can be check using the \"in\" keyword within an if statement. For example, let us check whether August is present in the tuple."
   ]
  },
  {
   "cell_type": "code",
   "execution_count": 47,
   "metadata": {
    "colab": {
     "base_uri": "https://localhost:8080/",
     "height": 35
    },
    "colab_type": "code",
    "id": "-ghSRr_yU0QF",
    "outputId": "87912e59-4ae3-496e-c8f3-c993fb0de9ce"
   },
   "outputs": [
    {
     "name": "stdout",
     "output_type": "stream",
     "text": [
      "(\"Today's\", 'Date', 'Is', 15, 'August', 2019)\n"
     ]
    }
   ],
   "source": [
    "# Checking for the values present in the tuple\n",
    "tuple = (\"Today's\", \"Date\", \"Is\", 15, \"August\", 2019)\n",
    "print(tuple)"
   ]
  },
  {
   "cell_type": "code",
   "execution_count": 48,
   "metadata": {},
   "outputs": [
    {
     "data": {
      "text/plain": [
       "True"
      ]
     },
     "execution_count": 48,
     "metadata": {},
     "output_type": "execute_result"
    }
   ],
   "source": [
    " \"August\" in tuple"
   ]
  },
  {
   "cell_type": "code",
   "execution_count": 49,
   "metadata": {},
   "outputs": [
    {
     "data": {
      "text/plain": [
       "False"
      ]
     },
     "execution_count": 49,
     "metadata": {},
     "output_type": "execute_result"
    }
   ],
   "source": [
    " \"July\" in tuple"
   ]
  },
  {
   "cell_type": "code",
   "execution_count": 50,
   "metadata": {},
   "outputs": [
    {
     "ename": "ValueError",
     "evalue": "tuple.index(x): x not in tuple",
     "output_type": "error",
     "traceback": [
      "\u001b[1;31m---------------------------------------------------------------------------\u001b[0m",
      "\u001b[1;31mValueError\u001b[0m                                Traceback (most recent call last)",
      "Cell \u001b[1;32mIn[50], line 1\u001b[0m\n\u001b[1;32m----> 1\u001b[0m \u001b[38;5;28mtuple\u001b[39m\u001b[38;5;241m.\u001b[39mindex(\u001b[38;5;124m\"\u001b[39m\u001b[38;5;124mSeptember\u001b[39m\u001b[38;5;124m\"\u001b[39m)\n",
      "\u001b[1;31mValueError\u001b[0m: tuple.index(x): x not in tuple"
     ]
    }
   ],
   "source": [
    "tuple.index(\"September\")"
   ]
  },
  {
   "cell_type": "code",
   "execution_count": 52,
   "metadata": {
    "colab": {
     "base_uri": "https://localhost:8080/",
     "height": 35
    },
    "colab_type": "code",
    "id": "cslZQS9FVETj",
    "outputId": "a2bb28b0-4a47-48ad-d751-a2c5f98b2281"
   },
   "outputs": [
    {
     "name": "stdout",
     "output_type": "stream",
     "text": [
      "Not Found\n"
     ]
    }
   ],
   "source": [
    "# Case 2:\n",
    "if \"September\" in tuple:\n",
    "    print(True)\n",
    "    print(tuple.index(\"September\"))\n",
    "else:\n",
    "    print(\"Not Found\")"
   ]
  },
  {
   "cell_type": "code",
   "execution_count": 51,
   "metadata": {
    "colab": {
     "base_uri": "https://localhost:8080/",
     "height": 52
    },
    "colab_type": "code",
    "id": "RLCOlvthVCpg",
    "outputId": "bb6052da-8305-487a-d3e2-b9537bbfd09c"
   },
   "outputs": [
    {
     "name": "stdout",
     "output_type": "stream",
     "text": [
      "True\n",
      "4\n"
     ]
    }
   ],
   "source": [
    "# Case 1:\n",
    "if \"August\" in tuple:\n",
    "    print(True)\n",
    "    print(tuple.index(\"August\"))\n",
    "else:\n",
    "    print(False)"
   ]
  },
  {
   "cell_type": "markdown",
   "metadata": {
    "colab_type": "text",
    "id": "Z2ZMSwdtVH03"
   },
   "source": [
    "**Hence above are the very important techniques or function of Tuples in Python written in a question-and-answer format (It is very useful usually during programming interviews). I referred to some examples from[ Python Tuples](https://docs.python.org/3/tutorial/datastructures.html). I have written this tutorial a simple way such that everybody can understand and master the concepts of Tuples in Python without prior programming knowledge or experience. If you guys have some doubts in the code, the comment section is all yours.**"
   ]
  },
  {
   "cell_type": "markdown",
   "metadata": {
    "colab_type": "text",
    "id": "rqSEKZDWVM2J"
   },
   "source": [
    "## Thank you."
   ]
  }
 ],
 "metadata": {
  "colab": {
   "collapsed_sections": [],
   "include_colab_link": true,
   "name": "Tuples.ipynb",
   "provenance": [],
   "version": "0.3.2"
  },
  "kernelspec": {
   "display_name": "Python 3 (ipykernel)",
   "language": "python",
   "name": "python3"
  },
  "language_info": {
   "codemirror_mode": {
    "name": "ipython",
    "version": 3
   },
   "file_extension": ".py",
   "mimetype": "text/x-python",
   "name": "python",
   "nbconvert_exporter": "python",
   "pygments_lexer": "ipython3",
   "version": "3.12.3"
  }
 },
 "nbformat": 4,
 "nbformat_minor": 4
}
