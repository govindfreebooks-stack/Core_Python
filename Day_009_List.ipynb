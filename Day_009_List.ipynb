{
 "cells": [
  {
   "cell_type": "markdown",
   "metadata": {
    "colab_type": "text",
    "id": "HQpjSZYzSZI4"
   },
   "source": [
    "# Python Lists from Scratch !!!"
   ]
  },
  {
   "cell_type": "markdown",
   "metadata": {
    "colab_type": "text",
    "id": "VS9zKh3lo7si"
   },
   "source": [
    "## Let's understand the Python Lists from basic to advance level."
   ]
  },
  {
   "cell_type": "markdown",
   "metadata": {
    "colab_type": "text",
    "id": "q-UYWzQjSAoK"
   },
   "source": [
    "The list is a data structure in Python which acts as a container to hold or store multiple data at the same time. Lists are mutable or changeable and ordered sequence of elements. To know more about Python Lists you can visit the official Python Lists documentation. One thing you have to keep in mind is that often we must declare lists using [ ] brackets. The elements inside the [ ] are the values of the list. For example:"
   ]
  },
  {
   "cell_type": "code",
   "execution_count": 1,
   "metadata": {
    "colab": {
     "base_uri": "https://localhost:8080/",
     "height": 35
    },
    "colab_type": "code",
    "id": "R98_K5UQSx9R",
    "outputId": "a1173a9c-1368-42de-dea8-39b206472095"
   },
   "outputs": [
    {
     "data": {
      "text/plain": [
       "[]"
      ]
     },
     "execution_count": 1,
     "metadata": {},
     "output_type": "execute_result"
    }
   ],
   "source": [
    "# Creating an empty list called \"num\"\n",
    "var1 = [ ]\n",
    "# Printing the list\n",
    "var1"
   ]
  },
  {
   "cell_type": "code",
   "execution_count": 2,
   "metadata": {},
   "outputs": [
    {
     "data": {
      "text/plain": [
       "[1, 2, 3, 4, 5]"
      ]
     },
     "execution_count": 2,
     "metadata": {},
     "output_type": "execute_result"
    }
   ],
   "source": [
    "# Adding the values inside the list\n",
    "var1 = [ 1, 2, 3, 4, 5]\n",
    "var1"
   ]
  },
  {
   "cell_type": "markdown",
   "metadata": {
    "colab_type": "text",
    "id": "D3L271SSS3vL"
   },
   "source": [
    "Here the name of the list is \"num\" and the list values are 1, 2, 3, 4, 5. The advantages of lists are the values inside the lists need not be of the same type meaning:"
   ]
  },
  {
   "cell_type": "code",
   "execution_count": 3,
   "metadata": {
    "colab": {
     "base_uri": "https://localhost:8080/",
     "height": 35
    },
    "colab_type": "code",
    "id": "EvnNwkDxTIJh",
    "outputId": "0c249813-fb4c-406d-9719-970cba768a0a"
   },
   "outputs": [
    {
     "data": {
      "text/plain": [
       "[1, 2, 3, 'Tanu', 4.0, 2.0, [1, 2, 3], (4, 5, 6)]"
      ]
     },
     "execution_count": 3,
     "metadata": {},
     "output_type": "execute_result"
    }
   ],
   "source": [
    "# Adding the values irrespective of their data type: Integer, String, float.\n",
    "num = [1, 2, 3, \"Tanu\", 4.0, 4/2,[1,2,3],(4,5,6)]\n",
    "num"
   ]
  },
  {
   "cell_type": "markdown",
   "metadata": {
    "colab_type": "text",
    "id": "M55H22taVBGs"
   },
   "source": [
    "In order to check the variable if it is a list or not, use the \"type\" method as follows:"
   ]
  },
  {
   "cell_type": "code",
   "execution_count": 4,
   "metadata": {
    "colab": {
     "base_uri": "https://localhost:8080/",
     "height": 35
    },
    "colab_type": "code",
    "id": "dTPnn1k2Vd4T",
    "outputId": "976bc5da-02da-46b7-8962-8d7141cc73be"
   },
   "outputs": [
    {
     "data": {
      "text/plain": [
       "list"
      ]
     },
     "execution_count": 4,
     "metadata": {},
     "output_type": "execute_result"
    }
   ],
   "source": [
    "# Create a list as num\n",
    "#num = [1, 2, 3, 4, 5]\n",
    "# Use type method by passing the name of the list as an arguement \n",
    "type(num)"
   ]
  },
  {
   "cell_type": "code",
   "execution_count": 5,
   "metadata": {},
   "outputs": [
    {
     "data": {
      "text/plain": [
       "(4, 5, 6)"
      ]
     },
     "execution_count": 5,
     "metadata": {},
     "output_type": "execute_result"
    }
   ],
   "source": [
    "num[7]"
   ]
  },
  {
   "cell_type": "code",
   "execution_count": 6,
   "metadata": {},
   "outputs": [
    {
     "data": {
      "text/plain": [
       "5"
      ]
     },
     "execution_count": 6,
     "metadata": {},
     "output_type": "execute_result"
    }
   ],
   "source": [
    "num[7][1]"
   ]
  },
  {
   "cell_type": "code",
   "execution_count": 7,
   "metadata": {},
   "outputs": [
    {
     "data": {
      "text/plain": [
       "int"
      ]
     },
     "execution_count": 7,
     "metadata": {},
     "output_type": "execute_result"
    }
   ],
   "source": [
    "type(num[7][1])"
   ]
  },
  {
   "cell_type": "markdown",
   "metadata": {
    "colab_type": "text",
    "id": "vAWAY_5jTMNp"
   },
   "source": [
    "### 1) Creating, accessing and calculating the length of a list."
   ]
  },
  {
   "cell_type": "markdown",
   "metadata": {
    "colab_type": "text",
    "id": "65IJ_gGkps7G"
   },
   "source": [
    "Let us create a list called \"name\" and then insert some values, later we can then access the elements inside the list using the index with the help of [ ] by placing the index values inside it. We can then calculate the length of the list by using the len ( ) method, just pass the name of the list as an argument to the len( ) method, finally we can also get the length of the individual elements inside the list by using the same len ( ) method but this time we should specify the index position as an argument."
   ]
  },
  {
   "cell_type": "code",
   "execution_count": 8,
   "metadata": {
    "colab": {
     "base_uri": "https://localhost:8080/",
     "height": 35
    },
    "colab_type": "code",
    "id": "c1s1azbMp10C",
    "outputId": "e75513e2-809f-4485-8e15-ea0e1ad05951"
   },
   "outputs": [
    {
     "data": {
      "text/plain": [
       "['Tanu', 'Nanda', 'Prabhu', 'Raju']"
      ]
     },
     "execution_count": 8,
     "metadata": {},
     "output_type": "execute_result"
    }
   ],
   "source": [
    "# Creating a list called names\n",
    "names = [\"Tanu\", \"Nanda\", \"Prabhu\",\"Raju\"]\n",
    "names"
   ]
  },
  {
   "cell_type": "code",
   "execution_count": 9,
   "metadata": {
    "colab": {
     "base_uri": "https://localhost:8080/",
     "height": 35
    },
    "colab_type": "code",
    "id": "6m96qFvMp4ii",
    "outputId": "cdff1217-70af-441e-faa3-2d87ce7660ff"
   },
   "outputs": [
    {
     "data": {
      "text/plain": [
       "'Tanu'"
      ]
     },
     "execution_count": 9,
     "metadata": {},
     "output_type": "execute_result"
    }
   ],
   "source": [
    "# Accessing the elements in the list\n",
    "names[0] # Tanu"
   ]
  },
  {
   "cell_type": "code",
   "execution_count": 10,
   "metadata": {
    "colab": {
     "base_uri": "https://localhost:8080/",
     "height": 35
    },
    "colab_type": "code",
    "id": "21JdFTwEp8TP",
    "outputId": "6cbe10d5-634f-4b61-826b-c84d64c78156"
   },
   "outputs": [
    {
     "data": {
      "text/plain": [
       "4"
      ]
     },
     "execution_count": 10,
     "metadata": {},
     "output_type": "execute_result"
    }
   ],
   "source": [
    "# Calculating the length of the list.\n",
    "len(names)"
   ]
  },
  {
   "cell_type": "code",
   "execution_count": 11,
   "metadata": {
    "colab": {
     "base_uri": "https://localhost:8080/",
     "height": 35
    },
    "colab_type": "code",
    "id": "L8c60jFvp_OZ",
    "outputId": "0aa2d32a-c970-4d62-cad9-c7224f805004"
   },
   "outputs": [
    {
     "data": {
      "text/plain": [
       "4"
      ]
     },
     "execution_count": 11,
     "metadata": {},
     "output_type": "execute_result"
    }
   ],
   "source": [
    "# Calculating the length of individual elements in a list\n",
    "len(names[0])   # length of \"Tanu\" is 4"
   ]
  },
  {
   "cell_type": "code",
   "execution_count": 12,
   "metadata": {},
   "outputs": [
    {
     "data": {
      "text/plain": [
       "6"
      ]
     },
     "execution_count": 12,
     "metadata": {},
     "output_type": "execute_result"
    }
   ],
   "source": [
    "len(names[2])"
   ]
  },
  {
   "cell_type": "code",
   "execution_count": 13,
   "metadata": {},
   "outputs": [
    {
     "data": {
      "text/plain": [
       "0"
      ]
     },
     "execution_count": 13,
     "metadata": {},
     "output_type": "execute_result"
    }
   ],
   "source": [
    "var1 = [ ]\n",
    "len(var1)"
   ]
  },
  {
   "cell_type": "markdown",
   "metadata": {
    "colab_type": "text",
    "id": "CeaPhseIqCHD"
   },
   "source": [
    "\n",
    "\n",
    "---\n",
    "\n"
   ]
  },
  {
   "cell_type": "markdown",
   "metadata": {
    "colab_type": "text",
    "id": "H8Oom4IsfhEz"
   },
   "source": [
    "### 2) Assignment operator on Lists"
   ]
  },
  {
   "cell_type": "markdown",
   "metadata": {
    "colab_type": "text",
    "id": "upErO4CAqHtF"
   },
   "source": [
    "Assignment with a \"=\" on lists does not make a copy. Instead, the assignment makes the two variables point to the one list in the memory. Sometimes an assignment operator can be used to copy from one list to the other."
   ]
  },
  {
   "cell_type": "code",
   "execution_count": 14,
   "metadata": {
    "colab": {
     "base_uri": "https://localhost:8080/",
     "height": 35
    },
    "colab_type": "code",
    "id": "NfQYYrcAUjTP",
    "outputId": "8860d7a7-3e35-401a-fc64-30993240725f"
   },
   "outputs": [
    {
     "data": {
      "text/plain": [
       "['Tanu', 'Nanda', 'Prabhu']"
      ]
     },
     "execution_count": 14,
     "metadata": {},
     "output_type": "execute_result"
    }
   ],
   "source": [
    "# Creating a list called name\n",
    "names = [\"Tanu\", \"Nanda\", \"Prabhu\"]\n",
    "names"
   ]
  },
  {
   "cell_type": "code",
   "execution_count": 15,
   "metadata": {
    "colab": {
     "base_uri": "https://localhost:8080/",
     "height": 35
    },
    "colab_type": "code",
    "id": "PGLdY-RqqOJO",
    "outputId": "309525ba-f2ff-4b4d-8ade-ff3b857e49ed"
   },
   "outputs": [
    {
     "data": {
      "text/plain": [
       "[]"
      ]
     },
     "execution_count": 15,
     "metadata": {},
     "output_type": "execute_result"
    }
   ],
   "source": [
    "# Creating an empty list names\n",
    "names2 = []\n",
    "names2"
   ]
  },
  {
   "cell_type": "code",
   "execution_count": 16,
   "metadata": {
    "colab": {
     "base_uri": "https://localhost:8080/",
     "height": 35
    },
    "colab_type": "code",
    "id": "QXjv7vx2qRBE",
    "outputId": "17fa500e-2253-4f64-a68a-c2b08a0c9b68"
   },
   "outputs": [
    {
     "data": {
      "text/plain": [
       "['Tanu', 'Nanda', 'Prabhu']"
      ]
     },
     "execution_count": 16,
     "metadata": {},
     "output_type": "execute_result"
    }
   ],
   "source": [
    "# Using assignment operator on Lists doesn't create a copy.\n",
    "names2 = names\n",
    "# Assigning the old list name to the new list names.\n",
    "names"
   ]
  },
  {
   "cell_type": "code",
   "execution_count": 17,
   "metadata": {},
   "outputs": [
    {
     "name": "stdout",
     "output_type": "stream",
     "text": [
      "2193766454912\n",
      "2193766454912\n"
     ]
    }
   ],
   "source": [
    "print(id(names))\n",
    "print(id(names2))"
   ]
  },
  {
   "cell_type": "markdown",
   "metadata": {
    "colab_type": "text",
    "id": "lMHzgaNcqUAG"
   },
   "source": [
    "\n",
    "\n",
    "---\n",
    "\n"
   ]
  },
  {
   "cell_type": "markdown",
   "metadata": {
    "colab_type": "text",
    "id": "LjZeunKZAsNR"
   },
   "source": [
    "### 3) Appending two lists to a single list."
   ]
  },
  {
   "cell_type": "markdown",
   "metadata": {
    "colab_type": "text",
    "id": "QJzMRZ7lqamh"
   },
   "source": [
    "Usually appending two lists can be done by using append( ) method, but appending can also be done by using a '+' (here + doesn't mean addition) whereas + can be used to add or merge two lists into a single list as shown below."
   ]
  },
  {
   "cell_type": "code",
   "execution_count": 18,
   "metadata": {
    "colab": {
     "base_uri": "https://localhost:8080/",
     "height": 35
    },
    "colab_type": "code",
    "id": "ryhZnCeNq3Bl",
    "outputId": "291afc18-a44d-4fb0-8fb5-fa3e51467068"
   },
   "outputs": [
    {
     "data": {
      "text/plain": [
       "['Mercedes', 'BMW', 'Audi']"
      ]
     },
     "execution_count": 18,
     "metadata": {},
     "output_type": "execute_result"
    }
   ],
   "source": [
    "# Creating a new list called Cars\n",
    "cars = [\"Mercedes\", \"BMW\", \"Audi\"]\n",
    "cars"
   ]
  },
  {
   "cell_type": "code",
   "execution_count": 19,
   "metadata": {
    "colab": {
     "base_uri": "https://localhost:8080/",
     "height": 35
    },
    "colab_type": "code",
    "id": "1Cwsr4N2q6X2",
    "outputId": "2f9f26ae-847a-4fac-d164-c64550778b33"
   },
   "outputs": [
    {
     "data": {
      "text/plain": [
       "['Honda', 'Yamaha', 'Aprilla']"
      ]
     },
     "execution_count": 19,
     "metadata": {},
     "output_type": "execute_result"
    }
   ],
   "source": [
    "# Creating a new list called bikes\n",
    "bikes = [\"Honda\", \"Yamaha\", \"Aprilla\"]\n",
    "bikes"
   ]
  },
  {
   "cell_type": "code",
   "execution_count": 20,
   "metadata": {
    "colab": {
     "base_uri": "https://localhost:8080/",
     "height": 35
    },
    "colab_type": "code",
    "id": "JQCkUSgRq9d1",
    "outputId": "f383f572-cd2e-40ab-89d1-986aa3bf4d2a"
   },
   "outputs": [
    {
     "data": {
      "text/plain": [
       "['Mercedes', 'BMW', 'Audi', 'Honda', 'Yamaha', 'Aprilla']"
      ]
     },
     "execution_count": 20,
     "metadata": {},
     "output_type": "execute_result"
    }
   ],
   "source": [
    "# Appending both the lists\n",
    "cars_bikes = cars + bikes\n",
    "cars_bikes"
   ]
  },
  {
   "cell_type": "markdown",
   "metadata": {
    "colab_type": "text",
    "id": "QfvPXI4qrA-O"
   },
   "source": [
    "\n",
    "\n",
    "---\n",
    "\n"
   ]
  },
  {
   "cell_type": "markdown",
   "metadata": {
    "colab_type": "text",
    "id": "sK4z2XxqrBrT"
   },
   "source": [
    "### 4) Using FOR and IN in lists"
   ]
  },
  {
   "cell_type": "markdown",
   "metadata": {
    "colab_type": "text",
    "id": "iIziYcNkrEhZ"
   },
   "source": [
    "In Python the \"for\" and \"in\" are called constructs, these constructs are easy to use, they are used whenever you need to iterate over a list."
   ]
  },
  {
   "cell_type": "code",
   "execution_count": 21,
   "metadata": {},
   "outputs": [
    {
     "name": "stdout",
     "output_type": "stream",
     "text": [
      "1\n",
      "2\n",
      "3\n",
      "4\n",
      "5\n"
     ]
    }
   ],
   "source": [
    "num = [1, 2, 3, 4, 5]\n",
    "for i in num:\n",
    "    print(i)"
   ]
  },
  {
   "cell_type": "code",
   "execution_count": 22,
   "metadata": {
    "colab": {
     "base_uri": "https://localhost:8080/",
     "height": 35
    },
    "colab_type": "code",
    "id": "VagFTTI8rF92",
    "outputId": "3e6969c6-1955-47c0-86bc-e073c860f4f4"
   },
   "outputs": [
    {
     "name": "stdout",
     "output_type": "stream",
     "text": [
      "15\n"
     ]
    }
   ],
   "source": [
    "# Creating a list\n",
    "num = [1, 2, 3, 4, 5]\n",
    "# Assigning sum to 0\n",
    "sum = 0\n",
    "# Using a for loop to iterate over the list\n",
    "for i in num:\n",
    "  sum = sum + i\n",
    "print(sum) # 15"
   ]
  },
  {
   "cell_type": "markdown",
   "metadata": {
    "colab_type": "text",
    "id": "sAGKvOUJrIxS"
   },
   "source": [
    "\n",
    "\n",
    "---\n",
    "\n"
   ]
  },
  {
   "cell_type": "markdown",
   "metadata": {
    "colab_type": "text",
    "id": "HGe3maLyrJb-"
   },
   "source": [
    "### 5) Using IF and IN in lists."
   ]
  },
  {
   "cell_type": "markdown",
   "metadata": {
    "colab_type": "text",
    "id": "1wYSVbejrLYE"
   },
   "source": [
    "The \"if \" and \"in\" construct on its own is an easy way to test if an element appears in a list (or other collection), it tests if the value is in the collection, returning True/False. This also works for the string, characters in Python."
   ]
  },
  {
   "cell_type": "code",
   "execution_count": 23,
   "metadata": {
    "colab": {
     "base_uri": "https://localhost:8080/",
     "height": 35
    },
    "colab_type": "code",
    "id": "ISmvPEvGrNCi",
    "outputId": "d9e289ed-9604-40c2-d28a-cd188ef85ba3"
   },
   "outputs": [
    {
     "name": "stdout",
     "output_type": "stream",
     "text": [
      "True\n"
     ]
    }
   ],
   "source": [
    "# Creating a list\n",
    "num = [1, 2, 3, 4, 5]\n",
    "if 1 in num:\n",
    "  print(\"True\")\n",
    "else:\n",
    "  print(\"False\")"
   ]
  },
  {
   "cell_type": "code",
   "execution_count": 24,
   "metadata": {},
   "outputs": [
    {
     "name": "stdout",
     "output_type": "stream",
     "text": [
      "False\n"
     ]
    }
   ],
   "source": [
    "# Creating a list\n",
    "item = 'beans'\n",
    "vegetable_list = ['onion', 'potato','green','tomato']\n",
    "if item in vegetable_list:\n",
    "  print(\"True\")\n",
    "else:\n",
    "  print(\"False\")"
   ]
  },
  {
   "cell_type": "markdown",
   "metadata": {},
   "source": [
    "## Membership Testing"
   ]
  },
  {
   "cell_type": "code",
   "execution_count": 25,
   "metadata": {},
   "outputs": [],
   "source": [
    "num = ['onion', 'potato','green','tomato']"
   ]
  },
  {
   "cell_type": "code",
   "execution_count": 26,
   "metadata": {},
   "outputs": [
    {
     "data": {
      "text/plain": [
       "False"
      ]
     },
     "execution_count": 26,
     "metadata": {},
     "output_type": "execute_result"
    }
   ],
   "source": [
    "'beans' in num"
   ]
  },
  {
   "cell_type": "code",
   "execution_count": 27,
   "metadata": {},
   "outputs": [
    {
     "data": {
      "text/plain": [
       "True"
      ]
     },
     "execution_count": 27,
     "metadata": {},
     "output_type": "execute_result"
    }
   ],
   "source": [
    "'onion' in num"
   ]
  },
  {
   "cell_type": "markdown",
   "metadata": {
    "colab_type": "text",
    "id": "pam8Jo6orOsR"
   },
   "source": [
    "\n",
    "\n",
    "---\n",
    "\n"
   ]
  },
  {
   "cell_type": "markdown",
   "metadata": {
    "colab_type": "text",
    "id": "ey7oKcNjrVlx"
   },
   "source": [
    "\n",
    "\n",
    "---\n",
    "\n"
   ]
  },
  {
   "cell_type": "markdown",
   "metadata": {
    "colab_type": "text",
    "id": "4FCLLvUZrchJ"
   },
   "source": [
    "\n",
    "\n",
    "---\n",
    "\n"
   ]
  },
  {
   "cell_type": "markdown",
   "metadata": {
    "colab_type": "text",
    "id": "awbJtgTcrePT"
   },
   "source": [
    "### 8) List methods."
   ]
  },
  {
   "cell_type": "markdown",
   "metadata": {
    "colab_type": "text",
    "id": "EILdnNLFrh8H"
   },
   "source": [
    "Below are some of the most common list methods shown with an example."
   ]
  },
  {
   "attachments": {
    "ef03a8c8-f515-4cf0-8827-8f0f80f72917.png": {
     "image/png": "[encoded data removed]"
    }
   },
   "cell_type": "markdown",
   "metadata": {},
   "source": [
    "![image.png](attachment:ef03a8c8-f515-4cf0-8827-8f0f80f72917.png)"
   ]
  },
  {
   "cell_type": "markdown",
   "metadata": {
    "colab_type": "text",
    "id": "GaUe6W8Grj_-"
   },
   "source": [
    "**a) List append method**"
   ]
  },
  {
   "cell_type": "markdown",
   "metadata": {
    "colab_type": "text",
    "id": "jwmNBqgZrlly"
   },
   "source": [
    "The list.append( ) just appends an element to the list but never returns anything, it just appends the element to the existing list."
   ]
  },
  {
   "cell_type": "code",
   "execution_count": 28,
   "metadata": {
    "colab": {
     "base_uri": "https://localhost:8080/",
     "height": 35
    },
    "colab_type": "code",
    "id": "Nw50C6swroMu",
    "outputId": "3ac85806-4f4f-4cfa-d8c6-49f80a2cb8f1"
   },
   "outputs": [
    {
     "data": {
      "text/plain": [
       "['Tanu', 'Nanda']"
      ]
     },
     "execution_count": 28,
     "metadata": {},
     "output_type": "execute_result"
    }
   ],
   "source": [
    "# Creating a new list called list\n",
    "names = ['Tanu', 'Nanda']\n",
    "# Before appending\n",
    "names"
   ]
  },
  {
   "cell_type": "code",
   "execution_count": 29,
   "metadata": {
    "colab": {
     "base_uri": "https://localhost:8080/",
     "height": 35
    },
    "colab_type": "code",
    "id": "iwX3dcwOrsfC",
    "outputId": "dd6b3bd0-27ac-41a3-dfe2-765a136a8197"
   },
   "outputs": [
    {
     "data": {
      "text/plain": [
       "['Tanu', 'Nanda', 'Prabhu']"
      ]
     },
     "execution_count": 29,
     "metadata": {},
     "output_type": "execute_result"
    }
   ],
   "source": [
    "# Using the append operation on the current (\"Prabhu\") is the value to be appended.\n",
    "names.append(\"Prabhu\")\n",
    "# After appending\n",
    "names"
   ]
  },
  {
   "cell_type": "markdown",
   "metadata": {
    "colab_type": "text",
    "id": "bQfquS1srumK"
   },
   "source": [
    "\n",
    "\n",
    "---\n",
    "\n"
   ]
  },
  {
   "cell_type": "markdown",
   "metadata": {
    "colab_type": "text",
    "id": "iVTgbpCkrwpG"
   },
   "source": [
    "**b) List insert method**"
   ]
  },
  {
   "cell_type": "markdown",
   "metadata": {
    "colab_type": "text",
    "id": "Rl6hyiG3ry71"
   },
   "source": [
    "List.insert( ) operation is used to insert the elements inside a list with a specified index position."
   ]
  },
  {
   "cell_type": "code",
   "execution_count": 30,
   "metadata": {
    "colab": {
     "base_uri": "https://localhost:8080/",
     "height": 35
    },
    "colab_type": "code",
    "id": "3lGudkynrwe0",
    "outputId": "e73c5dbf-fe76-421f-9bb1-bb75b35aa6ee"
   },
   "outputs": [
    {
     "data": {
      "text/plain": [
       "['Tanu', 'Nanda']"
      ]
     },
     "execution_count": 30,
     "metadata": {},
     "output_type": "execute_result"
    }
   ],
   "source": [
    "# Creating a new list called list\n",
    "names = ['Tanu', 'Nanda']\n",
    "# Before inserting\n",
    "names"
   ]
  },
  {
   "cell_type": "code",
   "execution_count": 31,
   "metadata": {},
   "outputs": [
    {
     "data": {
      "text/plain": [
       "2"
      ]
     },
     "execution_count": 31,
     "metadata": {},
     "output_type": "execute_result"
    }
   ],
   "source": [
    "len(names)"
   ]
  },
  {
   "cell_type": "code",
   "execution_count": 32,
   "metadata": {
    "colab": {
     "base_uri": "https://localhost:8080/",
     "height": 35
    },
    "colab_type": "code",
    "id": "ee2uY9Ncr1q5",
    "outputId": "132c1dc3-da78-48f8-c68f-617709410301"
   },
   "outputs": [
    {
     "data": {
      "text/plain": [
       "['Tanu', 'Prabhu', 'Nanda']"
      ]
     },
     "execution_count": 32,
     "metadata": {},
     "output_type": "execute_result"
    }
   ],
   "source": [
    "# Insert Operation on the existing list, here the index position is 2.\n",
    "names.insert(1, \"Prabhu\")\n",
    "# After Inserting\n",
    "names"
   ]
  },
  {
   "cell_type": "code",
   "execution_count": 33,
   "metadata": {},
   "outputs": [
    {
     "data": {
      "text/plain": [
       "3"
      ]
     },
     "execution_count": 33,
     "metadata": {},
     "output_type": "execute_result"
    }
   ],
   "source": [
    "len(names)"
   ]
  },
  {
   "cell_type": "markdown",
   "metadata": {
    "colab_type": "text",
    "id": "pAfETynSr4uG"
   },
   "source": [
    "\n",
    "\n",
    "---\n",
    "\n"
   ]
  },
  {
   "cell_type": "markdown",
   "metadata": {
    "colab_type": "text",
    "id": "VVkPpvTor9NI"
   },
   "source": [
    "**c) List extend method**"
   ]
  },
  {
   "cell_type": "markdown",
   "metadata": {
    "colab_type": "text",
    "id": "XhbWaUlur-U0"
   },
   "source": [
    "The extend method adds the elements to the end of the new list. It is similar to append but you have to pass the list as an argument whereas in append it's not necessarily true."
   ]
  },
  {
   "cell_type": "code",
   "execution_count": 34,
   "metadata": {
    "colab": {
     "base_uri": "https://localhost:8080/",
     "height": 35
    },
    "colab_type": "code",
    "id": "KOp3wcT0r_bA",
    "outputId": "46e6f24f-28ca-4ecf-aa3b-cd6a6663789c"
   },
   "outputs": [
    {
     "data": {
      "text/plain": [
       "['Tanu', 'Nanda']"
      ]
     },
     "execution_count": 34,
     "metadata": {},
     "output_type": "execute_result"
    }
   ],
   "source": [
    "# Creating a new list called name\n",
    "name = ['Tanu', 'Nanda']\n",
    "# Before extending\n",
    "name"
   ]
  },
  {
   "cell_type": "code",
   "execution_count": 35,
   "metadata": {
    "colab": {
     "base_uri": "https://localhost:8080/",
     "height": 35
    },
    "colab_type": "code",
    "id": "v8bWVXgKsCJ4",
    "outputId": "b7cf1911-7f06-415a-c079-82fc2bc4ab56"
   },
   "outputs": [
    {
     "data": {
      "text/plain": [
       "['Tanu', 'Nanda', 'P', 'r', 'a', 'b', 'h', 'u']"
      ]
     },
     "execution_count": 35,
     "metadata": {},
     "output_type": "execute_result"
    }
   ],
   "source": [
    "# Using extend but make sure that you put the elements in a []\n",
    "# Without []\n",
    "name.extend(\"Prabhu\")\n",
    "# After extending\n",
    "name"
   ]
  },
  {
   "cell_type": "code",
   "execution_count": 36,
   "metadata": {
    "colab": {
     "base_uri": "https://localhost:8080/",
     "height": 35
    },
    "colab_type": "code",
    "id": "oN64LF0MsD83",
    "outputId": "25418d23-c9c7-4eff-f2f9-1a573a0187c6"
   },
   "outputs": [
    {
     "data": {
      "text/plain": [
       "['Tanu', 'Nanda', 'Prabhu']"
      ]
     },
     "execution_count": 36,
     "metadata": {},
     "output_type": "execute_result"
    }
   ],
   "source": [
    "name = ['Tanu', 'Nanda']\n",
    "# After []\n",
    "name.extend([\"Prabhu\"])\n",
    "name"
   ]
  },
  {
   "cell_type": "markdown",
   "metadata": {
    "colab_type": "text",
    "id": "xqCuTkLusFt5"
   },
   "source": [
    "\n",
    "\n",
    "---\n",
    "\n"
   ]
  },
  {
   "cell_type": "markdown",
   "metadata": {
    "colab_type": "text",
    "id": "5jF1kglBsGev"
   },
   "source": [
    "**d) List index method**"
   ]
  },
  {
   "cell_type": "markdown",
   "metadata": {
    "colab_type": "text",
    "id": "PccBohs7sGib"
   },
   "source": [
    "The index operation in list searches the element in the list and then returns the index of that element. If the element is not present in the list then the index method returns a value error telling that the element is not in the list."
   ]
  },
  {
   "cell_type": "code",
   "execution_count": 37,
   "metadata": {
    "colab": {
     "base_uri": "https://localhost:8080/",
     "height": 35
    },
    "colab_type": "code",
    "id": "4cXXfsd9sKTM",
    "outputId": "918c0f84-1905-487c-9523-85edb93cccc9"
   },
   "outputs": [
    {
     "data": {
      "text/plain": [
       "['Tanu', 'Prabhu', 'Nanda']"
      ]
     },
     "execution_count": 37,
     "metadata": {},
     "output_type": "execute_result"
    }
   ],
   "source": [
    "# Creating a new list called name\n",
    "name = ['Tanu',\"Prabhu\", 'Nanda']\n",
    "# Before indexing\n",
    "name"
   ]
  },
  {
   "cell_type": "code",
   "execution_count": 38,
   "metadata": {
    "colab": {
     "base_uri": "https://localhost:8080/",
     "height": 35
    },
    "colab_type": "code",
    "id": "obyo2Tb_sNGE",
    "outputId": "a593d0d7-2ee6-466d-d7bb-40836f0cf2b9"
   },
   "outputs": [
    {
     "data": {
      "text/plain": [
       "2"
      ]
     },
     "execution_count": 38,
     "metadata": {},
     "output_type": "execute_result"
    }
   ],
   "source": [
    "# After indexing, type the element that you want to index.\n",
    "name.index(\"Nanda\")"
   ]
  },
  {
   "cell_type": "code",
   "execution_count": 39,
   "metadata": {
    "colab": {
     "base_uri": "https://localhost:8080/",
     "height": 166
    },
    "colab_type": "code",
    "id": "bV2dRJcpsO0M",
    "outputId": "37edc679-0f6b-470e-f916-2caa08e0a72e"
   },
   "outputs": [
    {
     "ename": "ValueError",
     "evalue": "'Mercedes' is not in list",
     "output_type": "error",
     "traceback": [
      "\u001b[1;31m---------------------------------------------------------------------------\u001b[0m",
      "\u001b[1;31mValueError\u001b[0m                                Traceback (most recent call last)",
      "Cell \u001b[1;32mIn[39], line 2\u001b[0m\n\u001b[0;32m      1\u001b[0m \u001b[38;5;66;03m# If the element is not present then you get an error\u001b[39;00m\n\u001b[1;32m----> 2\u001b[0m name\u001b[38;5;241m.\u001b[39mindex(\u001b[38;5;124m\"\u001b[39m\u001b[38;5;124mMercedes\u001b[39m\u001b[38;5;124m\"\u001b[39m)\n",
      "\u001b[1;31mValueError\u001b[0m: 'Mercedes' is not in list"
     ]
    }
   ],
   "source": [
    "# If the element is not present then you get an error\n",
    "name.index(\"Mercedes\")"
   ]
  },
  {
   "cell_type": "code",
   "execution_count": 40,
   "metadata": {},
   "outputs": [
    {
     "name": "stdout",
     "output_type": "stream",
     "text": [
      "Not in the list\n"
     ]
    }
   ],
   "source": [
    "check1= \"Mercedes\"\n",
    "if check1 in name:\n",
    "    print(name.index(check1))\n",
    "else:\n",
    "    print(\"Not in the list\")"
   ]
  },
  {
   "cell_type": "code",
   "execution_count": 41,
   "metadata": {},
   "outputs": [
    {
     "name": "stdout",
     "output_type": "stream",
     "text": [
      "2\n"
     ]
    }
   ],
   "source": [
    "check1= \"Nanda\"\n",
    "if check1 in name:\n",
    "    print(name.index(check1))\n",
    "else:\n",
    "    print(\"Not in the list\")"
   ]
  },
  {
   "cell_type": "markdown",
   "metadata": {
    "colab_type": "text",
    "id": "C4hjJD5HsP-s"
   },
   "source": [
    "\n",
    "\n",
    "---\n",
    "\n"
   ]
  },
  {
   "cell_type": "markdown",
   "metadata": {
    "colab_type": "text",
    "id": "Axe6nM7nsSW6"
   },
   "source": [
    "**e) List remove method**"
   ]
  },
  {
   "cell_type": "markdown",
   "metadata": {
    "colab_type": "text",
    "id": "8TmYnmFUsTNz"
   },
   "source": [
    "The Remove method in lists searches for the element and then on matching removes the element present in the list. Also throws an error when the element is not in the list."
   ]
  },
  {
   "cell_type": "code",
   "execution_count": 42,
   "metadata": {
    "colab": {
     "base_uri": "https://localhost:8080/",
     "height": 35
    },
    "colab_type": "code",
    "id": "8mALjCzasUcw",
    "outputId": "347cd5a0-1b30-426f-900e-fb8e6e48b028"
   },
   "outputs": [
    {
     "data": {
      "text/plain": [
       "['Tanu', 'Nanda']"
      ]
     },
     "execution_count": 42,
     "metadata": {},
     "output_type": "execute_result"
    }
   ],
   "source": [
    "# Creating a new list called name\n",
    "names = ['Tanu', 'Nanda']\n",
    "# Before removing\n",
    "names"
   ]
  },
  {
   "cell_type": "code",
   "execution_count": 43,
   "metadata": {
    "colab": {
     "base_uri": "https://localhost:8080/",
     "height": 35
    },
    "colab_type": "code",
    "id": "QT9cFWTjsXUC",
    "outputId": "c2a7d3b5-68bd-46a8-9008-f81ff39c4409"
   },
   "outputs": [
    {
     "data": {
      "text/plain": [
       "['Tanu']"
      ]
     },
     "execution_count": 43,
     "metadata": {},
     "output_type": "execute_result"
    }
   ],
   "source": [
    "# After removing\n",
    "names.remove(\"Nanda\")\n",
    "names"
   ]
  },
  {
   "cell_type": "code",
   "execution_count": 44,
   "metadata": {
    "colab": {
     "base_uri": "https://localhost:8080/",
     "height": 166
    },
    "colab_type": "code",
    "id": "SfUWaW4RsgXB",
    "outputId": "d23772a6-e271-4a59-f840-9361f30836cc"
   },
   "outputs": [
    {
     "ename": "ValueError",
     "evalue": "list.remove(x): x not in list",
     "output_type": "error",
     "traceback": [
      "\u001b[1;31m---------------------------------------------------------------------------\u001b[0m",
      "\u001b[1;31mValueError\u001b[0m                                Traceback (most recent call last)",
      "Cell \u001b[1;32mIn[44], line 3\u001b[0m\n\u001b[0;32m      1\u001b[0m \u001b[38;5;66;03m# This will result in below error\u001b[39;00m\n\u001b[0;32m      2\u001b[0m \u001b[38;5;66;03m# ValueError: list.remove(x): x not in list\u001b[39;00m\n\u001b[1;32m----> 3\u001b[0m names\u001b[38;5;241m.\u001b[39mremove(\u001b[38;5;124m'\u001b[39m\u001b[38;5;124mPrabhu\u001b[39m\u001b[38;5;124m'\u001b[39m)\n",
      "\u001b[1;31mValueError\u001b[0m: list.remove(x): x not in list"
     ]
    }
   ],
   "source": [
    "# This will result in below error\n",
    "# ValueError: list.remove(x): x not in list\n",
    "names.remove('Prabhu')"
   ]
  },
  {
   "cell_type": "code",
   "execution_count": 45,
   "metadata": {},
   "outputs": [
    {
     "name": "stdout",
     "output_type": "stream",
     "text": [
      "Not in the list\n"
     ]
    }
   ],
   "source": [
    "check1= \"Prabhu\"\n",
    "if check1 in names:\n",
    "    print(name.index(check1))\n",
    "else:\n",
    "    print(\"Not in the list\")"
   ]
  },
  {
   "cell_type": "markdown",
   "metadata": {
    "colab_type": "text",
    "id": "_7fvqW5_siBu"
   },
   "source": [
    "\n",
    "\n",
    "---\n",
    "\n"
   ]
  },
  {
   "cell_type": "markdown",
   "metadata": {
    "colab_type": "text",
    "id": "sc5fdFfgslEm"
   },
   "source": [
    "**f) List sort method**"
   ]
  },
  {
   "cell_type": "markdown",
   "metadata": {
    "colab_type": "text",
    "id": "Op96zt_zstcE"
   },
   "source": [
    "As the name suggests the sort method sort the elements in ascending order. This method doesn't return anything."
   ]
  },
  {
   "cell_type": "code",
   "execution_count": 46,
   "metadata": {
    "colab": {
     "base_uri": "https://localhost:8080/",
     "height": 35
    },
    "colab_type": "code",
    "id": "spkCBNK3su8F",
    "outputId": "5a749fae-bec8-4767-f7ed-d7e44835a0d6"
   },
   "outputs": [
    {
     "data": {
      "text/plain": [
       "[1, 4, 5, 2, 3]"
      ]
     },
     "execution_count": 46,
     "metadata": {},
     "output_type": "execute_result"
    }
   ],
   "source": [
    "# Creating a list called num\n",
    "num = [1, 4, 5, 2, 3]\n",
    "# Before sorting\n",
    "num"
   ]
  },
  {
   "cell_type": "code",
   "execution_count": 47,
   "metadata": {
    "colab": {
     "base_uri": "https://localhost:8080/",
     "height": 35
    },
    "colab_type": "code",
    "id": "0BucUSzVsxVf",
    "outputId": "576cfe00-fc04-4cad-90b6-9678f2ac764a"
   },
   "outputs": [
    {
     "data": {
      "text/plain": [
       "[1, 2, 3, 4, 5]"
      ]
     },
     "execution_count": 47,
     "metadata": {},
     "output_type": "execute_result"
    }
   ],
   "source": [
    "# After sorting\n",
    "num.sort()\n",
    "num"
   ]
  },
  {
   "cell_type": "code",
   "execution_count": 48,
   "metadata": {},
   "outputs": [
    {
     "data": {
      "text/plain": [
       "[5, 4, 3, 2, 1]"
      ]
     },
     "execution_count": 48,
     "metadata": {},
     "output_type": "execute_result"
    }
   ],
   "source": [
    "num.sort(reverse=True)\n",
    "num"
   ]
  },
  {
   "cell_type": "code",
   "execution_count": 49,
   "metadata": {},
   "outputs": [],
   "source": [
    "names = [\n",
    "\"ADELGLASS\",\n",
    "\"ZUMA\",\n",
    "\"ALLEN\",\n",
    "\"AMSTERDAM\",\n",
    "\"MOHAN\",\n",
    "\"ANDERSON\",\n",
    "\"ANDREWS\",\n",
    "\"AQEL\",\n",
    "\"ARROWSMITH\",\n",
    "\"BARR\",\n",
    "\"BARTHOLOMEW\",\n",
    "\"BATSHAW\",\n",
    "\"KAMAL\",\n",
    "\"BELMONT\",\n",
    "\"BELMONT\",\n",
    "\"RAJIB\",\n",
    "\"BERKELEY\",\n",
    "\"BEUTLER\",\n",
    "\"BILCHIK\",\n",
    "\"BISHOP\",\n",
    "\"BOGOJAVLENSKY\",\n",
    "\"BRAR\",\n",
    "]"
   ]
  },
  {
   "cell_type": "code",
   "execution_count": 50,
   "metadata": {},
   "outputs": [
    {
     "data": {
      "text/plain": [
       "['ADELGLASS',\n",
       " 'ALLEN',\n",
       " 'AMSTERDAM',\n",
       " 'ANDERSON',\n",
       " 'ANDREWS',\n",
       " 'AQEL',\n",
       " 'ARROWSMITH',\n",
       " 'BARR',\n",
       " 'BARTHOLOMEW',\n",
       " 'BATSHAW',\n",
       " 'BELMONT',\n",
       " 'BELMONT',\n",
       " 'BERKELEY',\n",
       " 'BEUTLER',\n",
       " 'BILCHIK',\n",
       " 'BISHOP',\n",
       " 'BOGOJAVLENSKY',\n",
       " 'BRAR',\n",
       " 'KAMAL',\n",
       " 'MOHAN',\n",
       " 'RAJIB',\n",
       " 'ZUMA']"
      ]
     },
     "execution_count": 50,
     "metadata": {},
     "output_type": "execute_result"
    }
   ],
   "source": [
    "names.sort()\n",
    "names"
   ]
  },
  {
   "cell_type": "code",
   "execution_count": 51,
   "metadata": {},
   "outputs": [
    {
     "data": {
      "text/plain": [
       "['ZUMA',\n",
       " 'RAJIB',\n",
       " 'MOHAN',\n",
       " 'KAMAL',\n",
       " 'BRAR',\n",
       " 'BOGOJAVLENSKY',\n",
       " 'BISHOP',\n",
       " 'BILCHIK',\n",
       " 'BEUTLER',\n",
       " 'BERKELEY',\n",
       " 'BELMONT',\n",
       " 'BELMONT',\n",
       " 'BATSHAW',\n",
       " 'BARTHOLOMEW',\n",
       " 'BARR',\n",
       " 'ARROWSMITH',\n",
       " 'AQEL',\n",
       " 'ANDREWS',\n",
       " 'ANDERSON',\n",
       " 'AMSTERDAM',\n",
       " 'ALLEN',\n",
       " 'ADELGLASS']"
      ]
     },
     "execution_count": 51,
     "metadata": {},
     "output_type": "execute_result"
    }
   ],
   "source": [
    "names.sort(reverse=True)\n",
    "names"
   ]
  },
  {
   "cell_type": "markdown",
   "metadata": {
    "colab_type": "text",
    "id": "vD6evrQmsyxG"
   },
   "source": [
    "\n",
    "\n",
    "---\n",
    "\n"
   ]
  },
  {
   "cell_type": "markdown",
   "metadata": {
    "colab_type": "text",
    "id": "eukKn9FeszQg"
   },
   "source": [
    "**g) List Reverse method**"
   ]
  },
  {
   "cell_type": "markdown",
   "metadata": {
    "colab_type": "text",
    "id": "WzEDCVhSs0E-"
   },
   "source": [
    "As the name suggests the reverse method reverses the entire list. This method doesn't return anything."
   ]
  },
  {
   "cell_type": "code",
   "execution_count": 52,
   "metadata": {
    "colab": {
     "base_uri": "https://localhost:8080/",
     "height": 35
    },
    "colab_type": "code",
    "id": "71BJzsYxs1g-",
    "outputId": "1adc80c4-13c4-433d-e2fa-2b98d402693f"
   },
   "outputs": [
    {
     "data": {
      "text/plain": [
       "[1, 2, 13, 4, 5]"
      ]
     },
     "execution_count": 52,
     "metadata": {},
     "output_type": "execute_result"
    }
   ],
   "source": [
    "# Creating a list called num\n",
    "num = [1, 2, 13, 4, 5]\n",
    "# Before Reversing\n",
    "num"
   ]
  },
  {
   "cell_type": "code",
   "execution_count": 53,
   "metadata": {
    "colab": {
     "base_uri": "https://localhost:8080/",
     "height": 35
    },
    "colab_type": "code",
    "id": "t8nJU-kUs4HF",
    "outputId": "7bddbf25-949b-4797-b3da-f1a54c21cb3a"
   },
   "outputs": [
    {
     "data": {
      "text/plain": [
       "[5, 4, 13, 2, 1]"
      ]
     },
     "execution_count": 53,
     "metadata": {},
     "output_type": "execute_result"
    }
   ],
   "source": [
    "num.reverse()\n",
    "# After the reverse\n",
    "num"
   ]
  },
  {
   "cell_type": "markdown",
   "metadata": {
    "colab_type": "text",
    "id": "7QyNm5ivs54W"
   },
   "source": [
    "\n",
    "\n",
    "---\n",
    "\n"
   ]
  },
  {
   "cell_type": "markdown",
   "metadata": {
    "colab_type": "text",
    "id": "THOAJzVHs6vX"
   },
   "source": [
    "**h) List pop method**"
   ]
  },
  {
   "cell_type": "markdown",
   "metadata": {
    "colab_type": "text",
    "id": "EiTH117ls8WQ"
   },
   "source": [
    "The Pop method removes and returns the element at the given index. Returns the rightmost element if the index is omitted (roughly the opposite of append( ))."
   ]
  },
  {
   "cell_type": "code",
   "execution_count": 54,
   "metadata": {
    "colab": {
     "base_uri": "https://localhost:8080/",
     "height": 35
    },
    "colab_type": "code",
    "id": "Vf3_3htss9fq",
    "outputId": "de615997-224c-42c2-ea72-b707a79d76eb"
   },
   "outputs": [
    {
     "data": {
      "text/plain": [
       "[1, 2, 3, 4, 5]"
      ]
     },
     "execution_count": 54,
     "metadata": {},
     "output_type": "execute_result"
    }
   ],
   "source": [
    "# Creating a list called list\n",
    "num = [1, 2, 3, 4, 5]\n",
    "# Before popping\n",
    "num"
   ]
  },
  {
   "cell_type": "code",
   "execution_count": 55,
   "metadata": {
    "colab": {
     "base_uri": "https://localhost:8080/",
     "height": 35
    },
    "colab_type": "code",
    "id": "bMCUHjeDtAAO",
    "outputId": "2b97eac9-e47b-4668-9776-db70029a52d5"
   },
   "outputs": [
    {
     "name": "stdout",
     "output_type": "stream",
     "text": [
      "k=  5\n",
      "num=  [1, 2, 3, 4]\n"
     ]
    }
   ],
   "source": [
    "# After popping\n",
    "k= num.pop()\n",
    "print(\"k= \",k)\n",
    "print(\"num= \",num)"
   ]
  },
  {
   "cell_type": "code",
   "execution_count": 56,
   "metadata": {},
   "outputs": [],
   "source": [
    "num = [1, 2, 3, 4, 5]\n",
    "# After popping index starts from 0\n",
    "k = num.pop(3)"
   ]
  },
  {
   "cell_type": "code",
   "execution_count": 57,
   "metadata": {},
   "outputs": [
    {
     "name": "stdout",
     "output_type": "stream",
     "text": [
      "[1, 2, 3, 5]\n",
      "4\n"
     ]
    }
   ],
   "source": [
    "print(num)\n",
    "print(k)"
   ]
  },
  {
   "cell_type": "code",
   "execution_count": null,
   "metadata": {},
   "outputs": [],
   "source": [
    "names = ['ANDERSON', 'ANDREWS', 'AQEL', 'ARROWSMITH', 'BARR', 'BARTHOLOMEW']\n",
    "name = names.pop(2)"
   ]
  },
  {
   "cell_type": "code",
   "execution_count": null,
   "metadata": {},
   "outputs": [],
   "source": [
    "print(names)\n",
    "print(name)"
   ]
  },
  {
   "cell_type": "code",
   "execution_count": 58,
   "metadata": {},
   "outputs": [
    {
     "name": "stdout",
     "output_type": "stream",
     "text": [
      "------------ID Before Pop ------------\n",
      "2193782131776\n",
      "------------ID Before Pop ------------\n",
      "2193782131776\n"
     ]
    },
    {
     "data": {
      "text/plain": [
       "[1, 2, 3, 5]"
      ]
     },
     "execution_count": 58,
     "metadata": {},
     "output_type": "execute_result"
    }
   ],
   "source": [
    "num = [1, 2, 3, 4, 5]\n",
    "print(\"-\"*12+\"ID Before Pop\",\"-\"*12)\n",
    "print(id(num))\n",
    "k = num.pop(3)\n",
    "print(\"-\"*12+\"ID Before Pop\",\"-\"*12)\n",
    "print(id(num))\n",
    "num"
   ]
  },
  {
   "cell_type": "markdown",
   "metadata": {
    "colab_type": "text",
    "id": "KTdw3P1itC40"
   },
   "source": [
    "\n",
    "\n",
    "---\n",
    "\n"
   ]
  },
  {
   "cell_type": "markdown",
   "metadata": {
    "colab_type": "text",
    "id": "EFdwcMl7tDov"
   },
   "source": [
    "### 9) List Slices"
   ]
  },
  {
   "cell_type": "markdown",
   "metadata": {
    "colab_type": "text",
    "id": "UN9w53d4tFIK"
   },
   "source": [
    "Slicing the list means cutting down the list elements, it and can also be used to change sub-parts of the list."
   ]
  },
  {
   "cell_type": "code",
   "execution_count": 59,
   "metadata": {
    "colab": {
     "base_uri": "https://localhost:8080/",
     "height": 35
    },
    "colab_type": "code",
    "id": "T7oLm3rNtGRe",
    "outputId": "ac0d9e91-5c0f-478a-f4ff-7eae02a7a10a"
   },
   "outputs": [
    {
     "data": {
      "text/plain": [
       "['a', 'b', 'c', 'd']"
      ]
     },
     "execution_count": 59,
     "metadata": {},
     "output_type": "execute_result"
    }
   ],
   "source": [
    "char = ['a', 'b', 'c', 'd']\n",
    "char # ['a', 'b', 'c', 'd']"
   ]
  },
  {
   "cell_type": "code",
   "execution_count": 60,
   "metadata": {},
   "outputs": [
    {
     "data": {
      "text/plain": [
       "['b', 'c']"
      ]
     },
     "execution_count": 60,
     "metadata": {},
     "output_type": "execute_result"
    }
   ],
   "source": [
    "char[1:-1]         ## ['b', 'c']"
   ]
  },
  {
   "cell_type": "code",
   "execution_count": null,
   "metadata": {},
   "outputs": [],
   "source": [
    "char"
   ]
  },
  {
   "cell_type": "code",
   "execution_count": 61,
   "metadata": {},
   "outputs": [
    {
     "data": {
      "text/plain": [
       "['a', 'b']"
      ]
     },
     "execution_count": 61,
     "metadata": {},
     "output_type": "execute_result"
    }
   ],
   "source": [
    "char[0:2]"
   ]
  },
  {
   "cell_type": "code",
   "execution_count": 62,
   "metadata": {
    "colab": {
     "base_uri": "https://localhost:8080/",
     "height": 35
    },
    "colab_type": "code",
    "id": "R1SAANJsvzyQ",
    "outputId": "c81665bf-0ed4-4d71-f823-cf4ceb230698"
   },
   "outputs": [
    {
     "data": {
      "text/plain": [
       "['z', 'c', 'd']"
      ]
     },
     "execution_count": 62,
     "metadata": {},
     "output_type": "execute_result"
    }
   ],
   "source": [
    "# List is mutable\n",
    "char[0:2] = 'z'    ## replace ['a', 'b'] with ['z']\n",
    "char               ## ['z', 'c', 'd']"
   ]
  },
  {
   "cell_type": "markdown",
   "metadata": {
    "colab_type": "text",
    "id": "XutVXpNRtKhr"
   },
   "source": [
    "\n",
    "\n",
    "---\n",
    "\n"
   ]
  },
  {
   "cell_type": "markdown",
   "metadata": {
    "colab_type": "text",
    "id": "D4A_Ydl1tMBW"
   },
   "source": [
    "### 10) Converting a string to a list"
   ]
  },
  {
   "cell_type": "markdown",
   "metadata": {
    "colab_type": "text",
    "id": "4uMwYVRktNDy"
   },
   "source": [
    "This is the most important technique, often we need to convert the string to a list in our projects, this is an easy approach that does the job for us. This below example was referred from [geeksforgeeks.com](https://www.geeksforgeeks.org/python-program-convert-string-list/). Here we are using the split method from the strings where the split method just splits the elements from the string and then broadcasts into a list as shown below."
   ]
  },
  {
   "cell_type": "code",
   "execution_count": 63,
   "metadata": {
    "colab": {
     "base_uri": "https://localhost:8080/",
     "height": 35
    },
    "colab_type": "code",
    "id": "rGlOVSV3taFK",
    "outputId": "a120c7ef-daab-49f2-a299-fef120d604f4"
   },
   "outputs": [
    {
     "data": {
      "text/plain": [
       "'Tanu'"
      ]
     },
     "execution_count": 63,
     "metadata": {},
     "output_type": "execute_result"
    }
   ],
   "source": [
    "# Creating a String\n",
    "String = \"Tanu\"\n",
    "String"
   ]
  },
  {
   "cell_type": "code",
   "execution_count": 64,
   "metadata": {
    "colab": {
     "base_uri": "https://localhost:8080/",
     "height": 35
    },
    "colab_type": "code",
    "id": "vzTQPbGNtbwN",
    "outputId": "b125c392-1079-4c5d-eb1b-190cc2bca28a"
   },
   "outputs": [
    {
     "data": {
      "text/plain": [
       "str"
      ]
     },
     "execution_count": 64,
     "metadata": {},
     "output_type": "execute_result"
    }
   ],
   "source": [
    "# Checking for the type \n",
    "type(String)"
   ]
  },
  {
   "cell_type": "code",
   "execution_count": 65,
   "metadata": {},
   "outputs": [
    {
     "data": {
      "text/plain": [
       "['T', 'a', 'n', 'u']"
      ]
     },
     "execution_count": 65,
     "metadata": {},
     "output_type": "execute_result"
    }
   ],
   "source": [
    "list(String)"
   ]
  },
  {
   "cell_type": "code",
   "execution_count": 66,
   "metadata": {
    "colab": {
     "base_uri": "https://localhost:8080/",
     "height": 35
    },
    "colab_type": "code",
    "id": "BjB0Wel4tdUo",
    "outputId": "11c76408-f09d-43ef-a0d2-380ad0eea0e1"
   },
   "outputs": [
    {
     "data": {
      "text/plain": [
       "['Using',\n",
       " 'the',\n",
       " 'split',\n",
       " 'method',\n",
       " 'to',\n",
       " 'split',\n",
       " 'the',\n",
       " 'string',\n",
       " 'into',\n",
       " 'a',\n",
       " 'list']"
      ]
     },
     "execution_count": 66,
     "metadata": {},
     "output_type": "execute_result"
    }
   ],
   "source": [
    "# Using the split method to split the string into a list.\n",
    "String = \"Using the split method to split the string into a list\"\n",
    "name = list(String.split(\" \")) \n",
    "name"
   ]
  },
  {
   "cell_type": "code",
   "execution_count": 67,
   "metadata": {},
   "outputs": [
    {
     "name": "stdout",
     "output_type": "stream",
     "text": [
      "Using the split method to split the string into a list\n"
     ]
    }
   ],
   "source": [
    "print(*name)"
   ]
  },
  {
   "cell_type": "code",
   "execution_count": 68,
   "metadata": {
    "colab": {
     "base_uri": "https://localhost:8080/",
     "height": 35
    },
    "colab_type": "code",
    "id": "iL81efS3wwdh",
    "outputId": "ece77344-d8c5-4dc5-ad79-3f8cfc6b3d76"
   },
   "outputs": [
    {
     "data": {
      "text/plain": [
       "list"
      ]
     },
     "execution_count": 68,
     "metadata": {},
     "output_type": "execute_result"
    }
   ],
   "source": [
    "type(name)"
   ]
  },
  {
   "cell_type": "code",
   "execution_count": 69,
   "metadata": {},
   "outputs": [],
   "source": [
    "my_list = ['Pizza','Cookies','Soda']"
   ]
  },
  {
   "cell_type": "code",
   "execution_count": 70,
   "metadata": {},
   "outputs": [
    {
     "name": "stdout",
     "output_type": "stream",
     "text": [
      "Pizza Cookies Soda\n"
     ]
    }
   ],
   "source": [
    "print(*my_list)"
   ]
  },
  {
   "cell_type": "code",
   "execution_count": 71,
   "metadata": {},
   "outputs": [
    {
     "data": {
      "text/plain": [
       "['Pizza', 'Cookies', 'Soda']"
      ]
     },
     "execution_count": 71,
     "metadata": {},
     "output_type": "execute_result"
    }
   ],
   "source": [
    "my_list"
   ]
  },
  {
   "cell_type": "markdown",
   "metadata": {},
   "source": [
    "## Student's doubt with Work related\n",
    "\n",
    "#### How to Compare Two Lists in Python"
   ]
  },
  {
   "cell_type": "code",
   "execution_count": 72,
   "metadata": {},
   "outputs": [
    {
     "name": "stdout",
     "output_type": "stream",
     "text": [
      "The lists l1 and l2 are not the same\n",
      "The lists l1 and l3 are the same\n"
     ]
    }
   ],
   "source": [
    "l1 = [10, 20, 30, 40, 50]\n",
    "l2 = [20, 30, 50, 40, 70]\n",
    "l3 = [50, 10, 30, 20, 40]\n",
    "\n",
    "l1_sorted = sorted(l1) # this is equvalent to l1_sorted =l1.sort()\n",
    "l2_sorted = sorted(l2)\n",
    "l3_sorted = sorted(l3)\n",
    "\n",
    "if l1_sorted == l2_sorted:\n",
    "    print (\"The lists l1 and l2 are the same\")\n",
    "else:\n",
    "    print (\"The lists l1 and l2 are not the same\")\n",
    "\n",
    "if l1_sorted == l3_sorted:\n",
    "    print (\"The lists l1 and l3 are the same\")\n",
    "else:\n",
    "    print (\"The lists l1 and l3 are not the same\")"
   ]
  },
  {
   "cell_type": "code",
   "execution_count": 73,
   "metadata": {},
   "outputs": [
    {
     "data": {
      "text/plain": [
       "False"
      ]
     },
     "execution_count": 73,
     "metadata": {},
     "output_type": "execute_result"
    }
   ],
   "source": [
    "l1_sorted == l2_sorted"
   ]
  },
  {
   "cell_type": "code",
   "execution_count": 74,
   "metadata": {},
   "outputs": [
    {
     "data": {
      "text/plain": [
       "True"
      ]
     },
     "execution_count": 74,
     "metadata": {},
     "output_type": "execute_result"
    }
   ],
   "source": [
    "l1_sorted == l3_sorted"
   ]
  },
  {
   "cell_type": "code",
   "execution_count": 75,
   "metadata": {},
   "outputs": [
    {
     "name": "stdout",
     "output_type": "stream",
     "text": [
      "[10, 20, 30, 40, 50] [10, 20, 30, 40, 50]\n"
     ]
    }
   ],
   "source": [
    "print(l1_sorted ,l3_sorted)"
   ]
  },
  {
   "cell_type": "code",
   "execution_count": 76,
   "metadata": {},
   "outputs": [
    {
     "data": {
      "text/plain": [
       "False"
      ]
     },
     "execution_count": 76,
     "metadata": {},
     "output_type": "execute_result"
    }
   ],
   "source": [
    "l1 in l3"
   ]
  },
  {
   "cell_type": "code",
   "execution_count": 77,
   "metadata": {},
   "outputs": [
    {
     "data": {
      "text/plain": [
       "False"
      ]
     },
     "execution_count": 77,
     "metadata": {},
     "output_type": "execute_result"
    }
   ],
   "source": [
    "l1_sorted in l3_sorted"
   ]
  },
  {
   "cell_type": "code",
   "execution_count": 78,
   "metadata": {},
   "outputs": [
    {
     "data": {
      "text/plain": [
       "True"
      ]
     },
     "execution_count": 78,
     "metadata": {},
     "output_type": "execute_result"
    }
   ],
   "source": [
    "l1_sorted == l3_sorted"
   ]
  },
  {
   "cell_type": "markdown",
   "metadata": {
    "colab_type": "text",
    "id": "t223rcQi4AKR"
   },
   "source": [
    "\n",
    "\n",
    "---\n",
    "\n"
   ]
  },
  {
   "cell_type": "code",
   "execution_count": 79,
   "metadata": {},
   "outputs": [
    {
     "name": "stdout",
     "output_type": "stream",
     "text": [
      "OK\n",
      "OK\n",
      "OK\n",
      "OK\n",
      "OK\n"
     ]
    }
   ],
   "source": [
    "for i in l1:\n",
    "    if i in l3:\n",
    "        print(\"OK\")"
   ]
  },
  {
   "cell_type": "code",
   "execution_count": 80,
   "metadata": {},
   "outputs": [
    {
     "name": "stdout",
     "output_type": "stream",
     "text": [
      "found\n"
     ]
    }
   ],
   "source": [
    "l1 = [10, 20, 30, 40, 50]\n",
    "l2 = [20, 30, 50, 40, 70]\n",
    "\n",
    "# Check if any element in l1 is also in l2\n",
    "if any(elem in l2 for elem in l1):\n",
    "    print(\"found\")"
   ]
  },
  {
   "cell_type": "code",
   "execution_count": 81,
   "metadata": {},
   "outputs": [],
   "source": [
    "l1 = [10, 20, 30, 40, 50]\n",
    "l2 = [120, 130, 150, 140, 170]\n",
    "if any(x in l2 for x in l1):\n",
    "    print(\"found\")"
   ]
  },
  {
   "cell_type": "code",
   "execution_count": 82,
   "metadata": {},
   "outputs": [
    {
     "name": "stdout",
     "output_type": "stream",
     "text": [
      "found\n"
     ]
    }
   ],
   "source": [
    "l1 = [10, 20, 30, 40, 50]\n",
    "l2 = [20, 30, 50, 40, 70]\n",
    "#l2 = [120, 130, 150, 140, 170]\n",
    "# List comprehension to find common elements\n",
    "common = [x for x in l1 if x in l2]\n",
    "\n",
    "# Check if the list is non-empty\n",
    "if common:\n",
    "    print(\"found\")\n"
   ]
  },
  {
   "cell_type": "code",
   "execution_count": 83,
   "metadata": {},
   "outputs": [
    {
     "data": {
      "text/plain": [
       "[20, 30, 40, 50]"
      ]
     },
     "execution_count": 83,
     "metadata": {},
     "output_type": "execute_result"
    }
   ],
   "source": [
    "common"
   ]
  },
  {
   "cell_type": "code",
   "execution_count": 84,
   "metadata": {},
   "outputs": [
    {
     "data": {
      "text/plain": [
       "[20, 30, 40, 50]"
      ]
     },
     "execution_count": 84,
     "metadata": {},
     "output_type": "execute_result"
    }
   ],
   "source": [
    "# x for x in l1 if x in l2\n",
    "#common = [x for x in l1 if x in l2]\n",
    "common = []\n",
    "for x in l1:\n",
    "    if x in l2:\n",
    "        common.append(x)\n",
    "\n",
    "common"
   ]
  },
  {
   "cell_type": "code",
   "execution_count": null,
   "metadata": {},
   "outputs": [],
   "source": [
    "all(x in l3 for x in l1)"
   ]
  },
  {
   "cell_type": "markdown",
   "metadata": {
    "colab_type": "text",
    "id": "KCYEjqg54KAN"
   },
   "source": [
    "Hence above are the very important techniques or methods of Lists in Python. Most of the examples were referred from [Python Lists](https://developers.google.com/edu/python/lists) from Google. I have written this in a simple way such that everybody can understand and master the concepts of lists in Python. If you guys have some doubts in the code, the comment section is all yours."
   ]
  },
  {
   "cell_type": "markdown",
   "metadata": {},
   "source": [
    "### Use Enumerate for Indexed Loops\n",
    "When iterating over lists or other sequences, you often need both the index and the value. Using enumerate in Python is a great way to avoid manually managing an index variable like i while also improving readability."
   ]
  },
  {
   "cell_type": "code",
   "execution_count": 85,
   "metadata": {},
   "outputs": [
    {
     "name": "stdout",
     "output_type": "stream",
     "text": [
      "Fruit 1: apple\n",
      "Fruit 2: banana\n",
      "Fruit 3: cherry\n"
     ]
    }
   ],
   "source": [
    "fruits = ['apple', 'banana', 'cherry']\n",
    "\n",
    "# Using enumerate for both index and value\n",
    "for index, fruit in enumerate(fruits):\n",
    "    print(f\"Fruit {index+1}: {fruit}\")"
   ]
  },
  {
   "cell_type": "code",
   "execution_count": 86,
   "metadata": {},
   "outputs": [
    {
     "name": "stdout",
     "output_type": "stream",
     "text": [
      "Fruit 1: apple\n",
      "Fruit 2: banana\n",
      "Fruit 3: cherry\n"
     ]
    }
   ],
   "source": [
    "for index, fruit in enumerate(fruits, start=1):\n",
    "    print(f\"Fruit {index}: {fruit}\")"
   ]
  },
  {
   "cell_type": "markdown",
   "metadata": {},
   "source": [
    "In this case, enumerate provides both the index (index) and the value (fruit), \n",
    "\n",
    "making the code more readable and reducing reliance on the generic i."
   ]
  },
  {
   "cell_type": "code",
   "execution_count": 87,
   "metadata": {},
   "outputs": [
    {
     "name": "stdout",
     "output_type": "stream",
     "text": [
      "1\n",
      "2\n",
      "3\n",
      "4\n",
      "5\n",
      "6\n",
      "7\n",
      "8\n",
      "9\n",
      "10\n",
      "11\n",
      "12\n"
     ]
    }
   ],
   "source": [
    "matrix = [\n",
    "    [1, 2, 3],\n",
    "    [4, 5, 6],\n",
    "    [7, 8, 9],\n",
    "    [10, 11, 12]\n",
    "]\n",
    "\n",
    "# Using 'row' and 'col' for clarity\n",
    "for row in range(len(matrix)):\n",
    "    for col in range(len(matrix[row])):\n",
    "        print(matrix[row][col])"
   ]
  },
  {
   "cell_type": "code",
   "execution_count": 88,
   "metadata": {},
   "outputs": [
    {
     "data": {
      "text/plain": [
       "4"
      ]
     },
     "execution_count": 88,
     "metadata": {},
     "output_type": "execute_result"
    }
   ],
   "source": [
    "len(matrix)"
   ]
  },
  {
   "cell_type": "code",
   "execution_count": 89,
   "metadata": {},
   "outputs": [
    {
     "data": {
      "text/plain": [
       "3"
      ]
     },
     "execution_count": 89,
     "metadata": {},
     "output_type": "execute_result"
    }
   ],
   "source": [
    "len(matrix[row])"
   ]
  },
  {
   "cell_type": "code",
   "execution_count": 90,
   "metadata": {},
   "outputs": [
    {
     "data": {
      "text/plain": [
       "[10, 11, 12]"
      ]
     },
     "execution_count": 90,
     "metadata": {},
     "output_type": "execute_result"
    }
   ],
   "source": [
    "matrix[row]"
   ]
  },
  {
   "cell_type": "markdown",
   "metadata": {
    "colab_type": "text",
    "id": "HAjHMPzy4M8P"
   },
   "source": [
    "## ThankYou."
   ]
  }
 ],
 "metadata": {
  "colab": {
   "collapsed_sections": [],
   "include_colab_link": true,
   "name": "Lists.ipynb",
   "provenance": []
  },
  "kernelspec": {
   "display_name": "Python 3 (ipykernel)",
   "language": "python",
   "name": "python3"
  },
  "language_info": {
   "codemirror_mode": {
    "name": "ipython",
    "version": 3
   },
   "file_extension": ".py",
   "mimetype": "text/x-python",
   "name": "python",
   "nbconvert_exporter": "python",
   "pygments_lexer": "ipython3",
   "version": "3.12.3"
  }
 },
 "nbformat": 4,
 "nbformat_minor": 4
}
